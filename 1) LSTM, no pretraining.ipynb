{
 "metadata": {
  "language_info": {
   "codemirror_mode": {
    "name": "ipython",
    "version": 3
   },
   "file_extension": ".py",
   "mimetype": "text/x-python",
   "name": "python",
   "nbconvert_exporter": "python",
   "pygments_lexer": "ipython3",
   "version": "3.6.5-final"
  },
  "orig_nbformat": 2,
  "kernelspec": {
   "name": "python3",
   "display_name": "Python 3",
   "language": "python"
  }
 },
 "nbformat": 4,
 "nbformat_minor": 2,
 "cells": [
  {
   "cell_type": "code",
   "execution_count": 1,
   "metadata": {},
   "outputs": [
    {
     "output_type": "execute_result",
     "data": {
      "text/plain": [
       "        id keyword             location  \\\n",
       "2010  2886  damage                  NaN   \n",
       "2011  2887  damage                  NaN   \n",
       "2012  2888  damage                  NaN   \n",
       "2013  2889  damage         Charlotte NC   \n",
       "2014  2890  damage                  NaN   \n",
       "2015  2891  damage  Rockville, Maryland   \n",
       "2016  2893  damage                  NaN   \n",
       "2017  2895  damage                  NaN   \n",
       "2018  2896  damage            Australia   \n",
       "2019  2898  damage    Your Conversation   \n",
       "\n",
       "                                                   text  target  \n",
       "2010                        Beach did damage to my shit       1  \n",
       "2011  @WonderousAllure crosses her arms to cover her...       0  \n",
       "2012  New post on my blog: http://t.co/Avu9b4k2rv \\n...       0  \n",
       "2013  REPORTED: HIT &amp; RUN-IN ROADWAY-PROPERTY DA...       1  \n",
       "2014  Devil May Cry 4 Special Edition Vergil Vs Agnu...       0  \n",
       "2015  #Glaucoma occurs when fluid builds up pressure...       1  \n",
       "2016  #JSunNews Storm damage reported in Madison Cou...       1  \n",
       "2017  S61.231A Puncture wound without foreign body o...       1  \n",
       "2018  Thank you @RicharkKirkArch @AusInstArchitect f...       0  \n",
       "2019                 This real shit will damage a bitch       0  "
      ],
      "text/html": "<div>\n<style scoped>\n    .dataframe tbody tr th:only-of-type {\n        vertical-align: middle;\n    }\n\n    .dataframe tbody tr th {\n        vertical-align: top;\n    }\n\n    .dataframe thead th {\n        text-align: right;\n    }\n</style>\n<table border=\"1\" class=\"dataframe\">\n  <thead>\n    <tr style=\"text-align: right;\">\n      <th></th>\n      <th>id</th>\n      <th>keyword</th>\n      <th>location</th>\n      <th>text</th>\n      <th>target</th>\n    </tr>\n  </thead>\n  <tbody>\n    <tr>\n      <th>2010</th>\n      <td>2886</td>\n      <td>damage</td>\n      <td>NaN</td>\n      <td>Beach did damage to my shit</td>\n      <td>1</td>\n    </tr>\n    <tr>\n      <th>2011</th>\n      <td>2887</td>\n      <td>damage</td>\n      <td>NaN</td>\n      <td>@WonderousAllure crosses her arms to cover her...</td>\n      <td>0</td>\n    </tr>\n    <tr>\n      <th>2012</th>\n      <td>2888</td>\n      <td>damage</td>\n      <td>NaN</td>\n      <td>New post on my blog: http://t.co/Avu9b4k2rv \\n...</td>\n      <td>0</td>\n    </tr>\n    <tr>\n      <th>2013</th>\n      <td>2889</td>\n      <td>damage</td>\n      <td>Charlotte NC</td>\n      <td>REPORTED: HIT &amp;amp; RUN-IN ROADWAY-PROPERTY DA...</td>\n      <td>1</td>\n    </tr>\n    <tr>\n      <th>2014</th>\n      <td>2890</td>\n      <td>damage</td>\n      <td>NaN</td>\n      <td>Devil May Cry 4 Special Edition Vergil Vs Agnu...</td>\n      <td>0</td>\n    </tr>\n    <tr>\n      <th>2015</th>\n      <td>2891</td>\n      <td>damage</td>\n      <td>Rockville, Maryland</td>\n      <td>#Glaucoma occurs when fluid builds up pressure...</td>\n      <td>1</td>\n    </tr>\n    <tr>\n      <th>2016</th>\n      <td>2893</td>\n      <td>damage</td>\n      <td>NaN</td>\n      <td>#JSunNews Storm damage reported in Madison Cou...</td>\n      <td>1</td>\n    </tr>\n    <tr>\n      <th>2017</th>\n      <td>2895</td>\n      <td>damage</td>\n      <td>NaN</td>\n      <td>S61.231A Puncture wound without foreign body o...</td>\n      <td>1</td>\n    </tr>\n    <tr>\n      <th>2018</th>\n      <td>2896</td>\n      <td>damage</td>\n      <td>Australia</td>\n      <td>Thank you @RicharkKirkArch @AusInstArchitect f...</td>\n      <td>0</td>\n    </tr>\n    <tr>\n      <th>2019</th>\n      <td>2898</td>\n      <td>damage</td>\n      <td>Your Conversation</td>\n      <td>This real shit will damage a bitch</td>\n      <td>0</td>\n    </tr>\n  </tbody>\n</table>\n</div>"
     },
     "metadata": {},
     "execution_count": 1
    }
   ],
   "source": [
    "import pandas as pd\n",
    "\n",
    "data = pd.read_csv('train.csv')\n",
    "data[2010:].head(10)"
   ]
  },
  {
   "cell_type": "code",
   "execution_count": 2,
   "metadata": {},
   "outputs": [
    {
     "output_type": "execute_result",
     "data": {
      "text/plain": [
       "        id keyword  location  \\\n",
       "2010  2886  damage         0   \n",
       "2011  2887  damage         0   \n",
       "2012  2888  damage         0   \n",
       "2013  2889  damage         1   \n",
       "2014  2890  damage         0   \n",
       "2015  2891  damage         1   \n",
       "2016  2893  damage         0   \n",
       "2017  2895  damage         0   \n",
       "2018  2896  damage         1   \n",
       "2019  2898  damage         1   \n",
       "\n",
       "                                                   text  target  \n",
       "2010                        beach did damage to my shit       1  \n",
       "2011  wonderousallure crosses her arms to cover her ...       0  \n",
       "2012  new post on my blog http thesensualeyemodel ca...       0  \n",
       "2013  reported hit  runin roadwayproperty damage at ...       1  \n",
       "2014  devil may cry 0 special edition vergil vs agnu...       0  \n",
       "2015  glaucoma occurs when fluid builds up pressure ...       1  \n",
       "2016  jsunnews storm damage reported in madison coun...       1  \n",
       "2017  s00000a puncture wound without foreign body of...       1  \n",
       "2018  thank you richarkkirkarch ausinstarchitect for...       0  \n",
       "2019                 this real shit will damage a bitch       0  "
      ],
      "text/html": "<div>\n<style scoped>\n    .dataframe tbody tr th:only-of-type {\n        vertical-align: middle;\n    }\n\n    .dataframe tbody tr th {\n        vertical-align: top;\n    }\n\n    .dataframe thead th {\n        text-align: right;\n    }\n</style>\n<table border=\"1\" class=\"dataframe\">\n  <thead>\n    <tr style=\"text-align: right;\">\n      <th></th>\n      <th>id</th>\n      <th>keyword</th>\n      <th>location</th>\n      <th>text</th>\n      <th>target</th>\n    </tr>\n  </thead>\n  <tbody>\n    <tr>\n      <th>2010</th>\n      <td>2886</td>\n      <td>damage</td>\n      <td>0</td>\n      <td>beach did damage to my shit</td>\n      <td>1</td>\n    </tr>\n    <tr>\n      <th>2011</th>\n      <td>2887</td>\n      <td>damage</td>\n      <td>0</td>\n      <td>wonderousallure crosses her arms to cover her ...</td>\n      <td>0</td>\n    </tr>\n    <tr>\n      <th>2012</th>\n      <td>2888</td>\n      <td>damage</td>\n      <td>0</td>\n      <td>new post on my blog http thesensualeyemodel ca...</td>\n      <td>0</td>\n    </tr>\n    <tr>\n      <th>2013</th>\n      <td>2889</td>\n      <td>damage</td>\n      <td>1</td>\n      <td>reported hit  runin roadwayproperty damage at ...</td>\n      <td>1</td>\n    </tr>\n    <tr>\n      <th>2014</th>\n      <td>2890</td>\n      <td>damage</td>\n      <td>0</td>\n      <td>devil may cry 0 special edition vergil vs agnu...</td>\n      <td>0</td>\n    </tr>\n    <tr>\n      <th>2015</th>\n      <td>2891</td>\n      <td>damage</td>\n      <td>1</td>\n      <td>glaucoma occurs when fluid builds up pressure ...</td>\n      <td>1</td>\n    </tr>\n    <tr>\n      <th>2016</th>\n      <td>2893</td>\n      <td>damage</td>\n      <td>0</td>\n      <td>jsunnews storm damage reported in madison coun...</td>\n      <td>1</td>\n    </tr>\n    <tr>\n      <th>2017</th>\n      <td>2895</td>\n      <td>damage</td>\n      <td>0</td>\n      <td>s00000a puncture wound without foreign body of...</td>\n      <td>1</td>\n    </tr>\n    <tr>\n      <th>2018</th>\n      <td>2896</td>\n      <td>damage</td>\n      <td>1</td>\n      <td>thank you richarkkirkarch ausinstarchitect for...</td>\n      <td>0</td>\n    </tr>\n    <tr>\n      <th>2019</th>\n      <td>2898</td>\n      <td>damage</td>\n      <td>1</td>\n      <td>this real shit will damage a bitch</td>\n      <td>0</td>\n    </tr>\n  </tbody>\n</table>\n</div>"
     },
     "metadata": {},
     "execution_count": 2
    }
   ],
   "source": [
    "\n",
    "# if location was specified --> 1, else --> 0\n",
    "data['location'] = data['location'].notnull().astype(int)\n",
    "data['location'] = data['location'].fillna(0)\n",
    "\n",
    "\n",
    "data['text'] = data['text'].str.replace('http\\S+', 'http', regex=True)  # replace all URLs with \"http\"\n",
    "data['text'] = data['text'].str.replace('&\\S+', '', regex=True)  # remove all html junks\n",
    "data['text'] = data['text'].str.replace('[0-9]','0', regex=True)  # replace all integer valeus with 0\n",
    "data['text'] = data['text'].str.replace('[^a-zA-Z0 ]', '', regex=True)\n",
    "data['text'] = data['text'].str.lower()\n",
    "data[2010:].head(10)"
   ]
  },
  {
   "cell_type": "code",
   "execution_count": 3,
   "metadata": {},
   "outputs": [],
   "source": [
    "config = {\n",
    "    'token_num_words' : 10000,\n",
    "    'embedding_dim' : 32,\n",
    "    'sent_max_len' : 30,\n",
    "    'key_embedding_dim' : 8,\n",
    "}"
   ]
  },
  {
   "cell_type": "code",
   "execution_count": 4,
   "metadata": {},
   "outputs": [
    {
     "output_type": "execute_result",
     "data": {
      "text/plain": [
       "['<OOV>', 'http', 'the', 'a', 'in', 'to', 'of', 'and', 'i', 'is']"
      ]
     },
     "metadata": {},
     "execution_count": 4
    }
   ],
   "source": [
    "from tensorflow.keras.preprocessing.text import Tokenizer\n",
    "\n",
    "tokenizer = Tokenizer(num_words=config['token_num_words'], oov_token='<OOV>')\n",
    "tokenizer.fit_on_texts(data['text'])\n",
    "list(tokenizer.word_index.keys())[:10]"
   ]
  },
  {
   "cell_type": "code",
   "execution_count": 5,
   "metadata": {},
   "outputs": [
    {
     "output_type": "execute_result",
     "data": {
      "text/plain": [
       "        id  keyword  location  \\\n",
       "2010  2886       58         0   \n",
       "2011  2887       58         0   \n",
       "2012  2888       58         0   \n",
       "2013  2889       58         1   \n",
       "2014  2890       58         0   \n",
       "2015  2891       58         1   \n",
       "2016  2893       58         0   \n",
       "2017  2895       58         0   \n",
       "2018  2896       58         1   \n",
       "2019  2898       58         1   \n",
       "\n",
       "                                                   text  \\\n",
       "2010                        beach did damage to my shit   \n",
       "2011  wonderousallure crosses her arms to cover her ...   \n",
       "2012  new post on my blog http thesensualeyemodel ca...   \n",
       "2013  reported hit  runin roadwayproperty damage at ...   \n",
       "2014  devil may cry 0 special edition vergil vs agnu...   \n",
       "2015  glaucoma occurs when fluid builds up pressure ...   \n",
       "2016  jsunnews storm damage reported in madison coun...   \n",
       "2017  s00000a puncture wound without foreign body of...   \n",
       "2018  thank you richarkkirkarch ausinstarchitect for...   \n",
       "2019                 this real shit will damage a bitch   \n",
       "\n",
       "                                               text_seq  target  \n",
       "2010                        [860, 149, 225, 6, 14, 210]       1  \n",
       "2011  [9488, 3860, 81, 2153, 6, 1269, 81, 1730, 23, ...       0  \n",
       "2012  [53, 356, 12, 14, 1699, 2, 9490, 3862, 9491, 9...       0  \n",
       "2013    [975, 228, 9495, 9496, 225, 20, 260, 9497, 817]       1  \n",
       "2014  [5262, 129, 2223, 16, 1368, 2156, 9498, 906, 9...       0  \n",
       "2015  [9502, 3864, 44, 5263, 4999, 30, 1601, 598, 91...       1  \n",
       "2016  [9506, 92, 225, 975, 5, 3865, 363, 267, 225, 9...       1  \n",
       "2017  [9507, 5264, 3111, 236, 3866, 86, 7, 505, 9508...       1  \n",
       "2018  [504, 13, 9510, 9511, 11, 615, 7, 298, 416, 95...       0  \n",
       "2019                   [22, 388, 210, 42, 225, 4, 1477]       0  "
      ],
      "text/html": "<div>\n<style scoped>\n    .dataframe tbody tr th:only-of-type {\n        vertical-align: middle;\n    }\n\n    .dataframe tbody tr th {\n        vertical-align: top;\n    }\n\n    .dataframe thead th {\n        text-align: right;\n    }\n</style>\n<table border=\"1\" class=\"dataframe\">\n  <thead>\n    <tr style=\"text-align: right;\">\n      <th></th>\n      <th>id</th>\n      <th>keyword</th>\n      <th>location</th>\n      <th>text</th>\n      <th>text_seq</th>\n      <th>target</th>\n    </tr>\n  </thead>\n  <tbody>\n    <tr>\n      <th>2010</th>\n      <td>2886</td>\n      <td>58</td>\n      <td>0</td>\n      <td>beach did damage to my shit</td>\n      <td>[860, 149, 225, 6, 14, 210]</td>\n      <td>1</td>\n    </tr>\n    <tr>\n      <th>2011</th>\n      <td>2887</td>\n      <td>58</td>\n      <td>0</td>\n      <td>wonderousallure crosses her arms to cover her ...</td>\n      <td>[9488, 3860, 81, 2153, 6, 1269, 81, 1730, 23, ...</td>\n      <td>0</td>\n    </tr>\n    <tr>\n      <th>2012</th>\n      <td>2888</td>\n      <td>58</td>\n      <td>0</td>\n      <td>new post on my blog http thesensualeyemodel ca...</td>\n      <td>[53, 356, 12, 14, 1699, 2, 9490, 3862, 9491, 9...</td>\n      <td>0</td>\n    </tr>\n    <tr>\n      <th>2013</th>\n      <td>2889</td>\n      <td>58</td>\n      <td>1</td>\n      <td>reported hit  runin roadwayproperty damage at ...</td>\n      <td>[975, 228, 9495, 9496, 225, 20, 260, 9497, 817]</td>\n      <td>1</td>\n    </tr>\n    <tr>\n      <th>2014</th>\n      <td>2890</td>\n      <td>58</td>\n      <td>0</td>\n      <td>devil may cry 0 special edition vergil vs agnu...</td>\n      <td>[5262, 129, 2223, 16, 1368, 2156, 9498, 906, 9...</td>\n      <td>0</td>\n    </tr>\n    <tr>\n      <th>2015</th>\n      <td>2891</td>\n      <td>58</td>\n      <td>1</td>\n      <td>glaucoma occurs when fluid builds up pressure ...</td>\n      <td>[9502, 3864, 44, 5263, 4999, 30, 1601, 598, 91...</td>\n      <td>1</td>\n    </tr>\n    <tr>\n      <th>2016</th>\n      <td>2893</td>\n      <td>58</td>\n      <td>0</td>\n      <td>jsunnews storm damage reported in madison coun...</td>\n      <td>[9506, 92, 225, 975, 5, 3865, 363, 267, 225, 9...</td>\n      <td>1</td>\n    </tr>\n    <tr>\n      <th>2017</th>\n      <td>2895</td>\n      <td>58</td>\n      <td>0</td>\n      <td>s00000a puncture wound without foreign body of...</td>\n      <td>[9507, 5264, 3111, 236, 3866, 86, 7, 505, 9508...</td>\n      <td>1</td>\n    </tr>\n    <tr>\n      <th>2018</th>\n      <td>2896</td>\n      <td>58</td>\n      <td>1</td>\n      <td>thank you richarkkirkarch ausinstarchitect for...</td>\n      <td>[504, 13, 9510, 9511, 11, 615, 7, 298, 416, 95...</td>\n      <td>0</td>\n    </tr>\n    <tr>\n      <th>2019</th>\n      <td>2898</td>\n      <td>58</td>\n      <td>1</td>\n      <td>this real shit will damage a bitch</td>\n      <td>[22, 388, 210, 42, 225, 4, 1477]</td>\n      <td>0</td>\n    </tr>\n  </tbody>\n</table>\n</div>"
     },
     "metadata": {},
     "execution_count": 5
    }
   ],
   "source": [
    "text_seq = tokenizer.texts_to_sequences(data['text'])  # convert text to numerics\n",
    "data.insert(4, 'text_seq', text_seq)\n",
    "\n",
    "data['keyword'] = pd.Categorical(data['keyword']).codes  # change keyword from string to numerics\n",
    "data['keyword'] += 1\n",
    "key_num_words = data['keyword'].nunique()\n",
    "\n",
    "data[2010:].head(10)"
   ]
  },
  {
   "cell_type": "code",
   "execution_count": 6,
   "metadata": {},
   "outputs": [
    {
     "output_type": "execute_result",
     "data": {
      "text/plain": [
       "id           int64\n",
       "keyword      int16\n",
       "location     int32\n",
       "text        object\n",
       "text_seq    object\n",
       "target       int64\n",
       "dtype: object"
      ]
     },
     "metadata": {},
     "execution_count": 6
    }
   ],
   "source": [
    "data.dtypes"
   ]
  },
  {
   "cell_type": "code",
   "execution_count": 7,
   "metadata": {},
   "outputs": [
    {
     "output_type": "stream",
     "name": "stdout",
     "text": [
      "seq_input Shape:  (7613, 30)\nkey_input Shape:  (7613, 1)\nloc_input Shape:  (7613, 1)\noutput Shape:  (7613,)\n"
     ]
    }
   ],
   "source": [
    "from tensorflow.keras.preprocessing.sequence import pad_sequences\n",
    "import numpy as np\n",
    "\n",
    "seq_input = pad_sequences(data['text_seq'], maxlen=config['sent_max_len'], padding='post', truncating='post')\n",
    "key_input = data['keyword'].to_numpy()\n",
    "key_input = np.reshape(key_input, (key_input.shape[0], 1))\n",
    "loc_input = data['location'].to_numpy()\n",
    "loc_input = np.reshape(loc_input, (loc_input.shape[0], 1))\n",
    "\n",
    "output = data['target'].to_numpy()\n",
    "\n",
    "print(\"seq_input Shape: \", seq_input.shape)\n",
    "print(\"key_input Shape: \", key_input.shape)\n",
    "print(\"loc_input Shape: \", loc_input.shape)\n",
    "print(\"output Shape: \", output.shape)"
   ]
  },
  {
   "cell_type": "code",
   "execution_count": 14,
   "metadata": {},
   "outputs": [
    {
     "output_type": "stream",
     "name": "stdout",
     "text": [
      "Model: \"functional_7\"\n__________________________________________________________________________________________________\nLayer (type)                    Output Shape         Param #     Connected to                     \n==================================================================================================\nseq_input (InputLayer)          [(None, 30)]         0                                            \n__________________________________________________________________________________________________\nembedding_6 (Embedding)         (None, 30, 32)       320000      seq_input[0][0]                  \n__________________________________________________________________________________________________\nkey_input (InputLayer)          [(None, 1)]          0                                            \n__________________________________________________________________________________________________\nbidirectional_6 (Bidirectional) (None, 30, 128)      49664       embedding_6[0][0]                \n__________________________________________________________________________________________________\nembedding_7 (Embedding)         (None, 1, 8)         1776        key_input[0][0]                  \n__________________________________________________________________________________________________\nbidirectional_7 (Bidirectional) (None, 128)          98816       bidirectional_6[0][0]            \n__________________________________________________________________________________________________\nflatten_3 (Flatten)             (None, 8)            0           embedding_7[0][0]                \n__________________________________________________________________________________________________\nloc_input (InputLayer)          [(None, 1)]          0                                            \n__________________________________________________________________________________________________\nconcatenate_3 (Concatenate)     (None, 137)          0           bidirectional_7[0][0]            \n                                                                 flatten_3[0][0]                  \n                                                                 loc_input[0][0]                  \n__________________________________________________________________________________________________\ndense_6 (Dense)                 (None, 32)           4416        concatenate_3[0][0]              \n__________________________________________________________________________________________________\ndropout_6 (Dropout)             (None, 32)           0           dense_6[0][0]                    \n__________________________________________________________________________________________________\ndense_7 (Dense)                 (None, 16)           528         dropout_6[0][0]                  \n__________________________________________________________________________________________________\ndropout_7 (Dropout)             (None, 16)           0           dense_7[0][0]                    \n__________________________________________________________________________________________________\noutput (Dense)                  (None, 1)            17          dropout_7[0][0]                  \n==================================================================================================\nTotal params: 475,217\nTrainable params: 475,217\nNon-trainable params: 0\n__________________________________________________________________________________________________\n"
     ]
    }
   ],
   "source": [
    "import tensorflow as tf\n",
    "\n",
    "x_seq = tf.keras.layers.Input(shape=(config['sent_max_len']), name='seq_input')\n",
    "x1 = tf.keras.layers.Embedding(config['token_num_words'], config['embedding_dim'])(x_seq)\n",
    "x1 = tf.keras.layers.Bidirectional(tf.keras.layers.LSTM(64, return_sequences=True))(x1)\n",
    "x1 = tf.keras.layers.Bidirectional(tf.keras.layers.LSTM(64))(x1)\n",
    "\n",
    "\n",
    "x_key = tf.keras.layers.Input(shape=(1), name='key_input')\n",
    "x2 = tf.keras.layers.Embedding(key_num_words, config['key_embedding_dim'])(x_key)\n",
    "x2 = tf.keras.layers.Flatten()(x2)\n",
    "\n",
    "x_loc = tf.keras.layers.Input(shape=(1), name='loc_input')\n",
    "\n",
    "x = tf.keras.layers.Concatenate()([x1, x2, x_loc])\n",
    "x = tf.keras.layers.Dense(32, activation='relu')(x)\n",
    "x = tf.keras.layers.Dropout(0.2)(x)\n",
    "x = tf.keras.layers.Dense(16, activation='relu')(x)\n",
    "x = tf.keras.layers.Dropout(0.2)(x)\n",
    "y = tf.keras.layers.Dense(1, activation='sigmoid', name='output')(x)\n",
    "\n",
    "model = tf.keras.models.Model(inputs=[x_seq, x_key, x_loc], outputs=y)\n",
    "adam = tf.keras.optimizers.Adam(learning_rate=0.0001)\n",
    "model.compile(optimizer=adam, loss='binary_crossentropy', metrics=['accuracy'])\n",
    "model.summary()"
   ]
  },
  {
   "cell_type": "code",
   "execution_count": 15,
   "metadata": {},
   "outputs": [
    {
     "output_type": "stream",
     "name": "stdout",
     "text": [
      "Epoch 1/20\n",
      "215/215 [==============================] - 6s 26ms/step - loss: 0.6830 - accuracy: 0.5735 - val_loss: 0.6810 - val_accuracy: 0.5341\n",
      "Epoch 2/20\n",
      "215/215 [==============================] - 5s 21ms/step - loss: 0.5885 - accuracy: 0.6952 - val_loss: 0.4999 - val_accuracy: 0.7664\n",
      "Epoch 3/20\n",
      "215/215 [==============================] - 5s 21ms/step - loss: 0.4173 - accuracy: 0.8257 - val_loss: 0.4741 - val_accuracy: 0.7638\n",
      "Epoch 4/20\n",
      "215/215 [==============================] - 5s 21ms/step - loss: 0.3374 - accuracy: 0.8702 - val_loss: 0.4746 - val_accuracy: 0.7612\n",
      "Epoch 5/20\n",
      "215/215 [==============================] - 5s 21ms/step - loss: 0.2811 - accuracy: 0.8993 - val_loss: 0.4783 - val_accuracy: 0.7848\n",
      "Epoch 6/20\n",
      "215/215 [==============================] - 5s 21ms/step - loss: 0.2373 - accuracy: 0.9123 - val_loss: 0.5092 - val_accuracy: 0.7808\n",
      "Epoch 7/20\n",
      "215/215 [==============================] - 5s 21ms/step - loss: 0.2008 - accuracy: 0.9288 - val_loss: 0.6072 - val_accuracy: 0.7795\n",
      "Epoch 8/20\n",
      "215/215 [==============================] - 5s 21ms/step - loss: 0.1703 - accuracy: 0.9413 - val_loss: 0.6529 - val_accuracy: 0.7664\n",
      "Epoch 9/20\n",
      "215/215 [==============================] - 5s 22ms/step - loss: 0.1469 - accuracy: 0.9482 - val_loss: 0.7267 - val_accuracy: 0.7625\n",
      "Epoch 10/20\n",
      "215/215 [==============================] - 5s 21ms/step - loss: 0.1332 - accuracy: 0.9523 - val_loss: 0.8389 - val_accuracy: 0.7467\n",
      "Epoch 11/20\n",
      "215/215 [==============================] - 5s 21ms/step - loss: 0.1194 - accuracy: 0.9577 - val_loss: 0.9726 - val_accuracy: 0.7454\n",
      "Epoch 12/20\n",
      "215/215 [==============================] - 5s 22ms/step - loss: 0.1082 - accuracy: 0.9607 - val_loss: 1.0306 - val_accuracy: 0.7231\n",
      "Epoch 13/20\n",
      "215/215 [==============================] - 5s 22ms/step - loss: 0.1006 - accuracy: 0.9648 - val_loss: 1.3112 - val_accuracy: 0.7152\n",
      "Epoch 14/20\n",
      "215/215 [==============================] - 5s 22ms/step - loss: 0.0933 - accuracy: 0.9661 - val_loss: 1.2108 - val_accuracy: 0.7428\n",
      "Epoch 15/20\n",
      "215/215 [==============================] - 5s 22ms/step - loss: 0.0857 - accuracy: 0.9683 - val_loss: 1.1978 - val_accuracy: 0.7362\n",
      "Epoch 16/20\n",
      "215/215 [==============================] - 5s 21ms/step - loss: 0.0855 - accuracy: 0.9689 - val_loss: 1.0103 - val_accuracy: 0.7559\n",
      "Epoch 17/20\n",
      "215/215 [==============================] - 5s 22ms/step - loss: 0.0779 - accuracy: 0.9710 - val_loss: 1.1629 - val_accuracy: 0.7598\n",
      "Epoch 18/20\n",
      "215/215 [==============================] - 5s 21ms/step - loss: 0.0767 - accuracy: 0.9726 - val_loss: 1.3740 - val_accuracy: 0.7388\n",
      "Epoch 19/20\n",
      "215/215 [==============================] - 5s 22ms/step - loss: 0.0699 - accuracy: 0.9737 - val_loss: 1.3731 - val_accuracy: 0.7375\n",
      "Epoch 20/20\n",
      "215/215 [==============================] - 5s 21ms/step - loss: 0.0720 - accuracy: 0.9729 - val_loss: 1.3693 - val_accuracy: 0.7310\n"
     ]
    }
   ],
   "source": [
    "history = model.fit(x={'seq_input':seq_input, 'key_input':key_input, 'loc_input':loc_input}, y=output, epochs=20, validation_split=0.1)"
   ]
  },
  {
   "cell_type": "code",
   "execution_count": 16,
   "metadata": {},
   "outputs": [
    {
     "output_type": "execute_result",
     "data": {
      "text/plain": [
       "[<matplotlib.lines.Line2D at 0x22d721d7dd8>]"
      ]
     },
     "metadata": {},
     "execution_count": 16
    },
    {
     "output_type": "display_data",
     "data": {
      "text/plain": "<Figure size 432x288 with 1 Axes>",
      "image/svg+xml": "<?xml version=\"1.0\" encoding=\"utf-8\" standalone=\"no\"?>\r\n<!DOCTYPE svg PUBLIC \"-//W3C//DTD SVG 1.1//EN\"\r\n  \"http://www.w3.org/Graphics/SVG/1.1/DTD/svg11.dtd\">\r\n<!-- Created with matplotlib (https://matplotlib.org/) -->\r\n<svg height=\"248.518125pt\" version=\"1.1\" viewBox=\"0 0 372.103125 248.518125\" width=\"372.103125pt\" xmlns=\"http://www.w3.org/2000/svg\" xmlns:xlink=\"http://www.w3.org/1999/xlink\">\r\n <defs>\r\n  <style type=\"text/css\">\r\n*{stroke-linecap:butt;stroke-linejoin:round;}\r\n  </style>\r\n </defs>\r\n <g id=\"figure_1\">\r\n  <g id=\"patch_1\">\r\n   <path d=\"M 0 248.518125 \r\nL 372.103125 248.518125 \r\nL 372.103125 0 \r\nL 0 0 \r\nz\r\n\" style=\"fill:none;\"/>\r\n  </g>\r\n  <g id=\"axes_1\">\r\n   <g id=\"patch_2\">\r\n    <path d=\"M 30.103125 224.64 \r\nL 364.903125 224.64 \r\nL 364.903125 7.2 \r\nL 30.103125 7.2 \r\nz\r\n\" style=\"fill:#ffffff;\"/>\r\n   </g>\r\n   <g id=\"matplotlib.axis_1\">\r\n    <g id=\"xtick_1\">\r\n     <g id=\"line2d_1\">\r\n      <defs>\r\n       <path d=\"M 0 0 \r\nL 0 3.5 \r\n\" id=\"m6ecdb9ab8e\" style=\"stroke:#000000;stroke-width:0.8;\"/>\r\n      </defs>\r\n      <g>\r\n       <use style=\"stroke:#000000;stroke-width:0.8;\" x=\"45.321307\" xlink:href=\"#m6ecdb9ab8e\" y=\"224.64\"/>\r\n      </g>\r\n     </g>\r\n     <g id=\"text_1\">\r\n      <!-- 0.0 -->\r\n      <defs>\r\n       <path d=\"M 31.78125 66.40625 \r\nQ 24.171875 66.40625 20.328125 58.90625 \r\nQ 16.5 51.421875 16.5 36.375 \r\nQ 16.5 21.390625 20.328125 13.890625 \r\nQ 24.171875 6.390625 31.78125 6.390625 \r\nQ 39.453125 6.390625 43.28125 13.890625 \r\nQ 47.125 21.390625 47.125 36.375 \r\nQ 47.125 51.421875 43.28125 58.90625 \r\nQ 39.453125 66.40625 31.78125 66.40625 \r\nz\r\nM 31.78125 74.21875 \r\nQ 44.046875 74.21875 50.515625 64.515625 \r\nQ 56.984375 54.828125 56.984375 36.375 \r\nQ 56.984375 17.96875 50.515625 8.265625 \r\nQ 44.046875 -1.421875 31.78125 -1.421875 \r\nQ 19.53125 -1.421875 13.0625 8.265625 \r\nQ 6.59375 17.96875 6.59375 36.375 \r\nQ 6.59375 54.828125 13.0625 64.515625 \r\nQ 19.53125 74.21875 31.78125 74.21875 \r\nz\r\n\" id=\"DejaVuSans-48\"/>\r\n       <path d=\"M 10.6875 12.40625 \r\nL 21 12.40625 \r\nL 21 0 \r\nL 10.6875 0 \r\nz\r\n\" id=\"DejaVuSans-46\"/>\r\n      </defs>\r\n      <g transform=\"translate(37.369744 239.238438)scale(0.1 -0.1)\">\r\n       <use xlink:href=\"#DejaVuSans-48\"/>\r\n       <use x=\"63.623047\" xlink:href=\"#DejaVuSans-46\"/>\r\n       <use x=\"95.410156\" xlink:href=\"#DejaVuSans-48\"/>\r\n      </g>\r\n     </g>\r\n    </g>\r\n    <g id=\"xtick_2\">\r\n     <g id=\"line2d_2\">\r\n      <g>\r\n       <use style=\"stroke:#000000;stroke-width:0.8;\" x=\"85.369154\" xlink:href=\"#m6ecdb9ab8e\" y=\"224.64\"/>\r\n      </g>\r\n     </g>\r\n     <g id=\"text_2\">\r\n      <!-- 2.5 -->\r\n      <defs>\r\n       <path d=\"M 19.1875 8.296875 \r\nL 53.609375 8.296875 \r\nL 53.609375 0 \r\nL 7.328125 0 \r\nL 7.328125 8.296875 \r\nQ 12.9375 14.109375 22.625 23.890625 \r\nQ 32.328125 33.6875 34.8125 36.53125 \r\nQ 39.546875 41.84375 41.421875 45.53125 \r\nQ 43.3125 49.21875 43.3125 52.78125 \r\nQ 43.3125 58.59375 39.234375 62.25 \r\nQ 35.15625 65.921875 28.609375 65.921875 \r\nQ 23.96875 65.921875 18.8125 64.3125 \r\nQ 13.671875 62.703125 7.8125 59.421875 \r\nL 7.8125 69.390625 \r\nQ 13.765625 71.78125 18.9375 73 \r\nQ 24.125 74.21875 28.421875 74.21875 \r\nQ 39.75 74.21875 46.484375 68.546875 \r\nQ 53.21875 62.890625 53.21875 53.421875 \r\nQ 53.21875 48.921875 51.53125 44.890625 \r\nQ 49.859375 40.875 45.40625 35.40625 \r\nQ 44.1875 33.984375 37.640625 27.21875 \r\nQ 31.109375 20.453125 19.1875 8.296875 \r\nz\r\n\" id=\"DejaVuSans-50\"/>\r\n       <path d=\"M 10.796875 72.90625 \r\nL 49.515625 72.90625 \r\nL 49.515625 64.59375 \r\nL 19.828125 64.59375 \r\nL 19.828125 46.734375 \r\nQ 21.96875 47.46875 24.109375 47.828125 \r\nQ 26.265625 48.1875 28.421875 48.1875 \r\nQ 40.625 48.1875 47.75 41.5 \r\nQ 54.890625 34.8125 54.890625 23.390625 \r\nQ 54.890625 11.625 47.5625 5.09375 \r\nQ 40.234375 -1.421875 26.90625 -1.421875 \r\nQ 22.3125 -1.421875 17.546875 -0.640625 \r\nQ 12.796875 0.140625 7.71875 1.703125 \r\nL 7.71875 11.625 \r\nQ 12.109375 9.234375 16.796875 8.0625 \r\nQ 21.484375 6.890625 26.703125 6.890625 \r\nQ 35.15625 6.890625 40.078125 11.328125 \r\nQ 45.015625 15.765625 45.015625 23.390625 \r\nQ 45.015625 31 40.078125 35.4375 \r\nQ 35.15625 39.890625 26.703125 39.890625 \r\nQ 22.75 39.890625 18.8125 39.015625 \r\nQ 14.890625 38.140625 10.796875 36.28125 \r\nz\r\n\" id=\"DejaVuSans-53\"/>\r\n      </defs>\r\n      <g transform=\"translate(77.417591 239.238438)scale(0.1 -0.1)\">\r\n       <use xlink:href=\"#DejaVuSans-50\"/>\r\n       <use x=\"63.623047\" xlink:href=\"#DejaVuSans-46\"/>\r\n       <use x=\"95.410156\" xlink:href=\"#DejaVuSans-53\"/>\r\n      </g>\r\n     </g>\r\n    </g>\r\n    <g id=\"xtick_3\">\r\n     <g id=\"line2d_3\">\r\n      <g>\r\n       <use style=\"stroke:#000000;stroke-width:0.8;\" x=\"125.417001\" xlink:href=\"#m6ecdb9ab8e\" y=\"224.64\"/>\r\n      </g>\r\n     </g>\r\n     <g id=\"text_3\">\r\n      <!-- 5.0 -->\r\n      <g transform=\"translate(117.465438 239.238438)scale(0.1 -0.1)\">\r\n       <use xlink:href=\"#DejaVuSans-53\"/>\r\n       <use x=\"63.623047\" xlink:href=\"#DejaVuSans-46\"/>\r\n       <use x=\"95.410156\" xlink:href=\"#DejaVuSans-48\"/>\r\n      </g>\r\n     </g>\r\n    </g>\r\n    <g id=\"xtick_4\">\r\n     <g id=\"line2d_4\">\r\n      <g>\r\n       <use style=\"stroke:#000000;stroke-width:0.8;\" x=\"165.464847\" xlink:href=\"#m6ecdb9ab8e\" y=\"224.64\"/>\r\n      </g>\r\n     </g>\r\n     <g id=\"text_4\">\r\n      <!-- 7.5 -->\r\n      <defs>\r\n       <path d=\"M 8.203125 72.90625 \r\nL 55.078125 72.90625 \r\nL 55.078125 68.703125 \r\nL 28.609375 0 \r\nL 18.3125 0 \r\nL 43.21875 64.59375 \r\nL 8.203125 64.59375 \r\nz\r\n\" id=\"DejaVuSans-55\"/>\r\n      </defs>\r\n      <g transform=\"translate(157.513285 239.238438)scale(0.1 -0.1)\">\r\n       <use xlink:href=\"#DejaVuSans-55\"/>\r\n       <use x=\"63.623047\" xlink:href=\"#DejaVuSans-46\"/>\r\n       <use x=\"95.410156\" xlink:href=\"#DejaVuSans-53\"/>\r\n      </g>\r\n     </g>\r\n    </g>\r\n    <g id=\"xtick_5\">\r\n     <g id=\"line2d_5\">\r\n      <g>\r\n       <use style=\"stroke:#000000;stroke-width:0.8;\" x=\"205.512694\" xlink:href=\"#m6ecdb9ab8e\" y=\"224.64\"/>\r\n      </g>\r\n     </g>\r\n     <g id=\"text_5\">\r\n      <!-- 10.0 -->\r\n      <defs>\r\n       <path d=\"M 12.40625 8.296875 \r\nL 28.515625 8.296875 \r\nL 28.515625 63.921875 \r\nL 10.984375 60.40625 \r\nL 10.984375 69.390625 \r\nL 28.421875 72.90625 \r\nL 38.28125 72.90625 \r\nL 38.28125 8.296875 \r\nL 54.390625 8.296875 \r\nL 54.390625 0 \r\nL 12.40625 0 \r\nz\r\n\" id=\"DejaVuSans-49\"/>\r\n      </defs>\r\n      <g transform=\"translate(194.379882 239.238438)scale(0.1 -0.1)\">\r\n       <use xlink:href=\"#DejaVuSans-49\"/>\r\n       <use x=\"63.623047\" xlink:href=\"#DejaVuSans-48\"/>\r\n       <use x=\"127.246094\" xlink:href=\"#DejaVuSans-46\"/>\r\n       <use x=\"159.033203\" xlink:href=\"#DejaVuSans-48\"/>\r\n      </g>\r\n     </g>\r\n    </g>\r\n    <g id=\"xtick_6\">\r\n     <g id=\"line2d_6\">\r\n      <g>\r\n       <use style=\"stroke:#000000;stroke-width:0.8;\" x=\"245.560541\" xlink:href=\"#m6ecdb9ab8e\" y=\"224.64\"/>\r\n      </g>\r\n     </g>\r\n     <g id=\"text_6\">\r\n      <!-- 12.5 -->\r\n      <g transform=\"translate(234.427729 239.238438)scale(0.1 -0.1)\">\r\n       <use xlink:href=\"#DejaVuSans-49\"/>\r\n       <use x=\"63.623047\" xlink:href=\"#DejaVuSans-50\"/>\r\n       <use x=\"127.246094\" xlink:href=\"#DejaVuSans-46\"/>\r\n       <use x=\"159.033203\" xlink:href=\"#DejaVuSans-53\"/>\r\n      </g>\r\n     </g>\r\n    </g>\r\n    <g id=\"xtick_7\">\r\n     <g id=\"line2d_7\">\r\n      <g>\r\n       <use style=\"stroke:#000000;stroke-width:0.8;\" x=\"285.608388\" xlink:href=\"#m6ecdb9ab8e\" y=\"224.64\"/>\r\n      </g>\r\n     </g>\r\n     <g id=\"text_7\">\r\n      <!-- 15.0 -->\r\n      <g transform=\"translate(274.475576 239.238438)scale(0.1 -0.1)\">\r\n       <use xlink:href=\"#DejaVuSans-49\"/>\r\n       <use x=\"63.623047\" xlink:href=\"#DejaVuSans-53\"/>\r\n       <use x=\"127.246094\" xlink:href=\"#DejaVuSans-46\"/>\r\n       <use x=\"159.033203\" xlink:href=\"#DejaVuSans-48\"/>\r\n      </g>\r\n     </g>\r\n    </g>\r\n    <g id=\"xtick_8\">\r\n     <g id=\"line2d_8\">\r\n      <g>\r\n       <use style=\"stroke:#000000;stroke-width:0.8;\" x=\"325.656235\" xlink:href=\"#m6ecdb9ab8e\" y=\"224.64\"/>\r\n      </g>\r\n     </g>\r\n     <g id=\"text_8\">\r\n      <!-- 17.5 -->\r\n      <g transform=\"translate(314.523423 239.238438)scale(0.1 -0.1)\">\r\n       <use xlink:href=\"#DejaVuSans-49\"/>\r\n       <use x=\"63.623047\" xlink:href=\"#DejaVuSans-55\"/>\r\n       <use x=\"127.246094\" xlink:href=\"#DejaVuSans-46\"/>\r\n       <use x=\"159.033203\" xlink:href=\"#DejaVuSans-53\"/>\r\n      </g>\r\n     </g>\r\n    </g>\r\n   </g>\r\n   <g id=\"matplotlib.axis_2\">\r\n    <g id=\"ytick_1\">\r\n     <g id=\"line2d_9\">\r\n      <defs>\r\n       <path d=\"M 0 0 \r\nL -3.5 0 \r\n\" id=\"m4b7c4e0c3f\" style=\"stroke:#000000;stroke-width:0.8;\"/>\r\n      </defs>\r\n      <g>\r\n       <use style=\"stroke:#000000;stroke-width:0.8;\" x=\"30.103125\" xlink:href=\"#m4b7c4e0c3f\" y=\"187.1026\"/>\r\n      </g>\r\n     </g>\r\n     <g id=\"text_9\">\r\n      <!-- 0.6 -->\r\n      <defs>\r\n       <path d=\"M 33.015625 40.375 \r\nQ 26.375 40.375 22.484375 35.828125 \r\nQ 18.609375 31.296875 18.609375 23.390625 \r\nQ 18.609375 15.53125 22.484375 10.953125 \r\nQ 26.375 6.390625 33.015625 6.390625 \r\nQ 39.65625 6.390625 43.53125 10.953125 \r\nQ 47.40625 15.53125 47.40625 23.390625 \r\nQ 47.40625 31.296875 43.53125 35.828125 \r\nQ 39.65625 40.375 33.015625 40.375 \r\nz\r\nM 52.59375 71.296875 \r\nL 52.59375 62.3125 \r\nQ 48.875 64.0625 45.09375 64.984375 \r\nQ 41.3125 65.921875 37.59375 65.921875 \r\nQ 27.828125 65.921875 22.671875 59.328125 \r\nQ 17.53125 52.734375 16.796875 39.40625 \r\nQ 19.671875 43.65625 24.015625 45.921875 \r\nQ 28.375 48.1875 33.59375 48.1875 \r\nQ 44.578125 48.1875 50.953125 41.515625 \r\nQ 57.328125 34.859375 57.328125 23.390625 \r\nQ 57.328125 12.15625 50.6875 5.359375 \r\nQ 44.046875 -1.421875 33.015625 -1.421875 \r\nQ 20.359375 -1.421875 13.671875 8.265625 \r\nQ 6.984375 17.96875 6.984375 36.375 \r\nQ 6.984375 53.65625 15.1875 63.9375 \r\nQ 23.390625 74.21875 37.203125 74.21875 \r\nQ 40.921875 74.21875 44.703125 73.484375 \r\nQ 48.484375 72.75 52.59375 71.296875 \r\nz\r\n\" id=\"DejaVuSans-54\"/>\r\n      </defs>\r\n      <g transform=\"translate(7.2 190.901819)scale(0.1 -0.1)\">\r\n       <use xlink:href=\"#DejaVuSans-48\"/>\r\n       <use x=\"63.623047\" xlink:href=\"#DejaVuSans-46\"/>\r\n       <use x=\"95.410156\" xlink:href=\"#DejaVuSans-54\"/>\r\n      </g>\r\n     </g>\r\n    </g>\r\n    <g id=\"ytick_2\">\r\n     <g id=\"line2d_10\">\r\n      <g>\r\n       <use style=\"stroke:#000000;stroke-width:0.8;\" x=\"30.103125\" xlink:href=\"#m4b7c4e0c3f\" y=\"143.170556\"/>\r\n      </g>\r\n     </g>\r\n     <g id=\"text_10\">\r\n      <!-- 0.8 -->\r\n      <defs>\r\n       <path d=\"M 31.78125 34.625 \r\nQ 24.75 34.625 20.71875 30.859375 \r\nQ 16.703125 27.09375 16.703125 20.515625 \r\nQ 16.703125 13.921875 20.71875 10.15625 \r\nQ 24.75 6.390625 31.78125 6.390625 \r\nQ 38.8125 6.390625 42.859375 10.171875 \r\nQ 46.921875 13.96875 46.921875 20.515625 \r\nQ 46.921875 27.09375 42.890625 30.859375 \r\nQ 38.875 34.625 31.78125 34.625 \r\nz\r\nM 21.921875 38.8125 \r\nQ 15.578125 40.375 12.03125 44.71875 \r\nQ 8.5 49.078125 8.5 55.328125 \r\nQ 8.5 64.0625 14.71875 69.140625 \r\nQ 20.953125 74.21875 31.78125 74.21875 \r\nQ 42.671875 74.21875 48.875 69.140625 \r\nQ 55.078125 64.0625 55.078125 55.328125 \r\nQ 55.078125 49.078125 51.53125 44.71875 \r\nQ 48 40.375 41.703125 38.8125 \r\nQ 48.828125 37.15625 52.796875 32.3125 \r\nQ 56.78125 27.484375 56.78125 20.515625 \r\nQ 56.78125 9.90625 50.3125 4.234375 \r\nQ 43.84375 -1.421875 31.78125 -1.421875 \r\nQ 19.734375 -1.421875 13.25 4.234375 \r\nQ 6.78125 9.90625 6.78125 20.515625 \r\nQ 6.78125 27.484375 10.78125 32.3125 \r\nQ 14.796875 37.15625 21.921875 38.8125 \r\nz\r\nM 18.3125 54.390625 \r\nQ 18.3125 48.734375 21.84375 45.5625 \r\nQ 25.390625 42.390625 31.78125 42.390625 \r\nQ 38.140625 42.390625 41.71875 45.5625 \r\nQ 45.3125 48.734375 45.3125 54.390625 \r\nQ 45.3125 60.0625 41.71875 63.234375 \r\nQ 38.140625 66.40625 31.78125 66.40625 \r\nQ 25.390625 66.40625 21.84375 63.234375 \r\nQ 18.3125 60.0625 18.3125 54.390625 \r\nz\r\n\" id=\"DejaVuSans-56\"/>\r\n      </defs>\r\n      <g transform=\"translate(7.2 146.969775)scale(0.1 -0.1)\">\r\n       <use xlink:href=\"#DejaVuSans-48\"/>\r\n       <use x=\"63.623047\" xlink:href=\"#DejaVuSans-46\"/>\r\n       <use x=\"95.410156\" xlink:href=\"#DejaVuSans-56\"/>\r\n      </g>\r\n     </g>\r\n    </g>\r\n    <g id=\"ytick_3\">\r\n     <g id=\"line2d_11\">\r\n      <g>\r\n       <use style=\"stroke:#000000;stroke-width:0.8;\" x=\"30.103125\" xlink:href=\"#m4b7c4e0c3f\" y=\"99.238512\"/>\r\n      </g>\r\n     </g>\r\n     <g id=\"text_11\">\r\n      <!-- 1.0 -->\r\n      <g transform=\"translate(7.2 103.037731)scale(0.1 -0.1)\">\r\n       <use xlink:href=\"#DejaVuSans-49\"/>\r\n       <use x=\"63.623047\" xlink:href=\"#DejaVuSans-46\"/>\r\n       <use x=\"95.410156\" xlink:href=\"#DejaVuSans-48\"/>\r\n      </g>\r\n     </g>\r\n    </g>\r\n    <g id=\"ytick_4\">\r\n     <g id=\"line2d_12\">\r\n      <g>\r\n       <use style=\"stroke:#000000;stroke-width:0.8;\" x=\"30.103125\" xlink:href=\"#m4b7c4e0c3f\" y=\"55.306468\"/>\r\n      </g>\r\n     </g>\r\n     <g id=\"text_12\">\r\n      <!-- 1.2 -->\r\n      <g transform=\"translate(7.2 59.105687)scale(0.1 -0.1)\">\r\n       <use xlink:href=\"#DejaVuSans-49\"/>\r\n       <use x=\"63.623047\" xlink:href=\"#DejaVuSans-46\"/>\r\n       <use x=\"95.410156\" xlink:href=\"#DejaVuSans-50\"/>\r\n      </g>\r\n     </g>\r\n    </g>\r\n    <g id=\"ytick_5\">\r\n     <g id=\"line2d_13\">\r\n      <g>\r\n       <use style=\"stroke:#000000;stroke-width:0.8;\" x=\"30.103125\" xlink:href=\"#m4b7c4e0c3f\" y=\"11.374424\"/>\r\n      </g>\r\n     </g>\r\n     <g id=\"text_13\">\r\n      <!-- 1.4 -->\r\n      <defs>\r\n       <path d=\"M 37.796875 64.3125 \r\nL 12.890625 25.390625 \r\nL 37.796875 25.390625 \r\nz\r\nM 35.203125 72.90625 \r\nL 47.609375 72.90625 \r\nL 47.609375 25.390625 \r\nL 58.015625 25.390625 \r\nL 58.015625 17.1875 \r\nL 47.609375 17.1875 \r\nL 47.609375 0 \r\nL 37.796875 0 \r\nL 37.796875 17.1875 \r\nL 4.890625 17.1875 \r\nL 4.890625 26.703125 \r\nz\r\n\" id=\"DejaVuSans-52\"/>\r\n      </defs>\r\n      <g transform=\"translate(7.2 15.173643)scale(0.1 -0.1)\">\r\n       <use xlink:href=\"#DejaVuSans-49\"/>\r\n       <use x=\"63.623047\" xlink:href=\"#DejaVuSans-46\"/>\r\n       <use x=\"95.410156\" xlink:href=\"#DejaVuSans-52\"/>\r\n      </g>\r\n     </g>\r\n    </g>\r\n   </g>\r\n   <g id=\"line2d_14\">\r\n    <path clip-path=\"url(#pd8ec062054)\" d=\"M 45.321307 169.313305 \r\nL 61.340446 209.080026 \r\nL 77.359584 214.756364 \r\nL 93.378723 214.653579 \r\nL 109.397862 213.832616 \r\nL 125.417001 207.037476 \r\nL 141.436139 185.530821 \r\nL 157.455278 175.471948 \r\nL 173.474417 159.263466 \r\nL 189.493556 134.632196 \r\nL 205.512694 105.267065 \r\nL 221.531833 92.51493 \r\nL 237.550972 30.876712 \r\nL 253.570111 52.926585 \r\nL 269.589249 55.779107 \r\nL 285.608388 96.980978 \r\nL 301.627527 63.444923 \r\nL 317.646666 17.083636 \r\nL 333.665804 17.284401 \r\nL 349.684943 18.11278 \r\n\" style=\"fill:none;stroke:#1f77b4;stroke-linecap:square;stroke-width:1.5;\"/>\r\n   </g>\r\n   <g id=\"patch_3\">\r\n    <path d=\"M 30.103125 224.64 \r\nL 30.103125 7.2 \r\n\" style=\"fill:none;stroke:#000000;stroke-linecap:square;stroke-linejoin:miter;stroke-width:0.8;\"/>\r\n   </g>\r\n   <g id=\"patch_4\">\r\n    <path d=\"M 364.903125 224.64 \r\nL 364.903125 7.2 \r\n\" style=\"fill:none;stroke:#000000;stroke-linecap:square;stroke-linejoin:miter;stroke-width:0.8;\"/>\r\n   </g>\r\n   <g id=\"patch_5\">\r\n    <path d=\"M 30.103125 224.64 \r\nL 364.903125 224.64 \r\n\" style=\"fill:none;stroke:#000000;stroke-linecap:square;stroke-linejoin:miter;stroke-width:0.8;\"/>\r\n   </g>\r\n   <g id=\"patch_6\">\r\n    <path d=\"M 30.103125 7.2 \r\nL 364.903125 7.2 \r\n\" style=\"fill:none;stroke:#000000;stroke-linecap:square;stroke-linejoin:miter;stroke-width:0.8;\"/>\r\n   </g>\r\n  </g>\r\n </g>\r\n <defs>\r\n  <clipPath id=\"pd8ec062054\">\r\n   <rect height=\"217.44\" width=\"334.8\" x=\"30.103125\" y=\"7.2\"/>\r\n  </clipPath>\r\n </defs>\r\n</svg>\r\n",
      "image/png": "[encoded data removed]"
     },
     "metadata": {
      "needs_background": "light"
     }
    }
   ],
   "source": [
    "import matplotlib.pyplot as plt\n",
    "\n",
    "plt.plot(history.history['val_loss'])"
   ]
  },
  {
   "cell_type": "code",
   "execution_count": 27,
   "metadata": {},
   "outputs": [
    {
     "output_type": "stream",
     "name": "stdout",
     "text": [
      "Model: \"functional_11\"\n__________________________________________________________________________________________________\nLayer (type)                    Output Shape         Param #     Connected to                     \n==================================================================================================\nseq_input (InputLayer)          [(None, 30)]         0                                            \n__________________________________________________________________________________________________\nembedding_10 (Embedding)        (None, 30, 32)       320000      seq_input[0][0]                  \n__________________________________________________________________________________________________\nkey_input (InputLayer)          [(None, 1)]          0                                            \n__________________________________________________________________________________________________\nbidirectional_10 (Bidirectional (None, 30, 128)      49664       embedding_10[0][0]               \n__________________________________________________________________________________________________\nembedding_11 (Embedding)        (None, 1, 8)         1776        key_input[0][0]                  \n__________________________________________________________________________________________________\nbidirectional_11 (Bidirectional (None, 128)          98816       bidirectional_10[0][0]           \n__________________________________________________________________________________________________\nflatten_5 (Flatten)             (None, 8)            0           embedding_11[0][0]               \n__________________________________________________________________________________________________\nloc_input (InputLayer)          [(None, 1)]          0                                            \n__________________________________________________________________________________________________\nconcatenate_5 (Concatenate)     (None, 137)          0           bidirectional_11[0][0]           \n                                                                 flatten_5[0][0]                  \n                                                                 loc_input[0][0]                  \n__________________________________________________________________________________________________\ndense_10 (Dense)                (None, 32)           4416        concatenate_5[0][0]              \n__________________________________________________________________________________________________\ndropout_10 (Dropout)            (None, 32)           0           dense_10[0][0]                   \n__________________________________________________________________________________________________\ndense_11 (Dense)                (None, 16)           528         dropout_10[0][0]                 \n__________________________________________________________________________________________________\ndropout_11 (Dropout)            (None, 16)           0           dense_11[0][0]                   \n__________________________________________________________________________________________________\noutput (Dense)                  (None, 1)            17          dropout_11[0][0]                 \n==================================================================================================\nTotal params: 475,217\nTrainable params: 475,217\nNon-trainable params: 0\n__________________________________________________________________________________________________\n"
     ]
    }
   ],
   "source": [
    "# rebuild the same model to reset weights\n",
    "\n",
    "x_seq = tf.keras.layers.Input(shape=(config['sent_max_len']), name='seq_input')\n",
    "x1 = tf.keras.layers.Embedding(config['token_num_words'], config['embedding_dim'])(x_seq)\n",
    "x1 = tf.keras.layers.Bidirectional(tf.keras.layers.LSTM(64, return_sequences=True))(x1)\n",
    "x1 = tf.keras.layers.Bidirectional(tf.keras.layers.LSTM(64))(x1)\n",
    "\n",
    "\n",
    "x_key = tf.keras.layers.Input(shape=(1), name='key_input')\n",
    "x2 = tf.keras.layers.Embedding(key_num_words, config['key_embedding_dim'])(x_key)\n",
    "x2 = tf.keras.layers.Flatten()(x2)\n",
    "\n",
    "x_loc = tf.keras.layers.Input(shape=(1), name='loc_input')\n",
    "\n",
    "x = tf.keras.layers.Concatenate()([x1, x2, x_loc])\n",
    "x = tf.keras.layers.Dense(32, activation='relu')(x)\n",
    "x = tf.keras.layers.Dropout(0.2)(x)\n",
    "x = tf.keras.layers.Dense(16, activation='relu')(x)\n",
    "x = tf.keras.layers.Dropout(0.2)(x)\n",
    "y = tf.keras.layers.Dense(1, activation='sigmoid', name='output')(x)\n",
    "\n",
    "model = tf.keras.models.Model(inputs=[x_seq, x_key, x_loc], outputs=y)\n",
    "adam = tf.keras.optimizers.Adam(learning_rate=0.0001)\n",
    "model.compile(optimizer=adam, loss='binary_crossentropy', metrics=['accuracy'])\n",
    "model.summary()"
   ]
  },
  {
   "cell_type": "code",
   "execution_count": 28,
   "metadata": {},
   "outputs": [
    {
     "output_type": "stream",
     "name": "stdout",
     "text": [
      "Epoch 1/7\n",
      "238/238 [==============================] - 5s 22ms/step - loss: 0.6929 - accuracy: 0.5150\n",
      "Epoch 2/7\n",
      "238/238 [==============================] - 5s 21ms/step - loss: 0.6278 - accuracy: 0.6438\n",
      "Epoch 3/7\n",
      "238/238 [==============================] - 5s 21ms/step - loss: 0.4429 - accuracy: 0.8089\n",
      "Epoch 4/7\n",
      "238/238 [==============================] - 5s 21ms/step - loss: 0.3706 - accuracy: 0.8533\n",
      "Epoch 5/7\n",
      "238/238 [==============================] - 5s 23ms/step - loss: 0.3118 - accuracy: 0.8813\n",
      "Epoch 6/7\n",
      "238/238 [==============================] - 5s 21ms/step - loss: 0.2673 - accuracy: 0.9014\n",
      "Epoch 7/7\n",
      "238/238 [==============================] - 5s 21ms/step - loss: 0.2290 - accuracy: 0.9166\n"
     ]
    }
   ],
   "source": [
    "history = model.fit(x={'seq_input':seq_input, 'key_input':key_input, 'loc_input':loc_input}, y=output, epochs=5)"
   ]
  },
  {
   "cell_type": "code",
   "execution_count": 29,
   "metadata": {},
   "outputs": [],
   "source": [
    "# Apply Preprocssing to Test Data\n",
    "\n",
    "test_data = pd.read_csv('test.csv')\n",
    "test_data['location'] = test_data['location'].notnull().astype(int)\n",
    "test_data['location'] = test_data['location'].fillna(0)\n",
    "\n",
    "\n",
    "test_data['text'] = test_data['text'].str.replace('http\\S+', 'http', regex=True)\n",
    "test_data['text'] = test_data['text'].str.replace('&\\S+', '', regex=True)\n",
    "test_data['text'] = test_data['text'].str.replace('[0-9]','0', regex=True)\n",
    "test_data['text'] = test_data['text'].str.replace('[^a-zA-Z0 ]', '', regex=True)\n",
    "test_data['text'] = test_data['text'].str.lower()\n",
    "\n",
    "text_seq = tokenizer.texts_to_sequences(test_data['text'])\n",
    "test_data.insert(4, 'text_seq', text_seq)\n",
    "\n",
    "test_data['keyword'] = pd.Categorical(test_data['keyword']).codes\n",
    "test_data['keyword'] += 1\n",
    "\n",
    "seq_input_test = pad_sequences(test_data['text_seq'], maxlen=config['sent_max_len'], padding='post', truncating='post')\n",
    "key_input_test = test_data['keyword'].to_numpy()\n",
    "key_input_test = np.reshape(key_input_test, (key_input_test.shape[0], 1))\n",
    "loc_input_test = test_data['location'].to_numpy()\n",
    "loc_input_test = np.reshape(loc_input_test, (loc_input_test.shape[0], 1))"
   ]
  },
  {
   "cell_type": "code",
   "execution_count": 30,
   "metadata": {},
   "outputs": [
    {
     "output_type": "execute_result",
     "data": {
      "text/plain": [
       "array([[1],\n",
       "       [0],\n",
       "       [1],\n",
       "       [1],\n",
       "       [1],\n",
       "       [1],\n",
       "       [0],\n",
       "       [0],\n",
       "       [0],\n",
       "       [0]])"
      ]
     },
     "metadata": {},
     "execution_count": 30
    }
   ],
   "source": [
    "pred = model.predict(x={'seq_input':seq_input_test, 'key_input':key_input_test, 'loc_input':loc_input_test})\n",
    "pred = np.asarray(np.rint(pred), dtype=int)\n",
    "pred[:10]"
   ]
  },
  {
   "cell_type": "code",
   "execution_count": 31,
   "metadata": {},
   "outputs": [
    {
     "output_type": "execute_result",
     "data": {
      "text/plain": [
       "   id  target\n",
       "0   0       1\n",
       "1   2       0\n",
       "2   3       1\n",
       "3   9       1\n",
       "4  11       1\n",
       "5  12       1\n",
       "6  21       0\n",
       "7  22       0\n",
       "8  27       0\n",
       "9  29       0"
      ],
      "text/html": "<div>\n<style scoped>\n    .dataframe tbody tr th:only-of-type {\n        vertical-align: middle;\n    }\n\n    .dataframe tbody tr th {\n        vertical-align: top;\n    }\n\n    .dataframe thead th {\n        text-align: right;\n    }\n</style>\n<table border=\"1\" class=\"dataframe\">\n  <thead>\n    <tr style=\"text-align: right;\">\n      <th></th>\n      <th>id</th>\n      <th>target</th>\n    </tr>\n  </thead>\n  <tbody>\n    <tr>\n      <th>0</th>\n      <td>0</td>\n      <td>1</td>\n    </tr>\n    <tr>\n      <th>1</th>\n      <td>2</td>\n      <td>0</td>\n    </tr>\n    <tr>\n      <th>2</th>\n      <td>3</td>\n      <td>1</td>\n    </tr>\n    <tr>\n      <th>3</th>\n      <td>9</td>\n      <td>1</td>\n    </tr>\n    <tr>\n      <th>4</th>\n      <td>11</td>\n      <td>1</td>\n    </tr>\n    <tr>\n      <th>5</th>\n      <td>12</td>\n      <td>1</td>\n    </tr>\n    <tr>\n      <th>6</th>\n      <td>21</td>\n      <td>0</td>\n    </tr>\n    <tr>\n      <th>7</th>\n      <td>22</td>\n      <td>0</td>\n    </tr>\n    <tr>\n      <th>8</th>\n      <td>27</td>\n      <td>0</td>\n    </tr>\n    <tr>\n      <th>9</th>\n      <td>29</td>\n      <td>0</td>\n    </tr>\n  </tbody>\n</table>\n</div>"
     },
     "metadata": {},
     "execution_count": 31
    }
   ],
   "source": [
    "submission = pd.DataFrame()\n",
    "submission['id'] = test_data['id']\n",
    "submission['target'] = pred\n",
    "submission.head(10)"
   ]
  },
  {
   "cell_type": "code",
   "execution_count": 32,
   "metadata": {},
   "outputs": [],
   "source": [
    "submission.to_csv('submission.csv', index=False)"
   ]
  },
  {
   "cell_type": "code",
   "execution_count": null,
   "metadata": {},
   "outputs": [],
   "source": []
  }
 ]
}