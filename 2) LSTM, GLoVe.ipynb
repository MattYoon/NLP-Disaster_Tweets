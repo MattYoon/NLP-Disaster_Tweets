{
 "metadata": {
  "language_info": {
   "codemirror_mode": {
    "name": "ipython",
    "version": 3
   },
   "file_extension": ".py",
   "mimetype": "text/x-python",
   "name": "python",
   "nbconvert_exporter": "python",
   "pygments_lexer": "ipython3",
   "version": "3.6.5-final"
  },
  "orig_nbformat": 2,
  "kernelspec": {
   "name": "python3",
   "display_name": "Python 3",
   "language": "python"
  }
 },
 "nbformat": 4,
 "nbformat_minor": 2,
 "cells": [
  {
   "source": [
    "# LSTM Model With Pre-Trained GLoVe Embedding"
   ],
   "cell_type": "markdown",
   "metadata": {}
  },
  {
   "cell_type": "code",
   "execution_count": 1,
   "metadata": {},
   "outputs": [
    {
     "output_type": "execute_result",
     "data": {
      "text/plain": [
       "        id         keyword                   location  \\\n",
       "1000  1452  body%20bagging                        NaN   \n",
       "1001  1453  body%20bagging                        NaN   \n",
       "1002  1454  body%20bagging                        NaN   \n",
       "1003  1455  body%20bagging  3?3?7?SLOPelousas??2?2?5?   \n",
       "1004  1456  body%20bagging                        NaN   \n",
       "1005  1458  body%20bagging                        316   \n",
       "1006  1459  body%20bagging                     Global   \n",
       "1007  1460  body%20bagging             #WhereverI'mAt   \n",
       "1008  1463  body%20bagging          Huber Heights, OH   \n",
       "1009  1464  body%20bagging                        NaN   \n",
       "\n",
       "                                                   text  target  \n",
       "1000  #OVOFest Drake straight body bagging Meek on t...       0  \n",
       "1001  I'm not a Drake fan but I enjoy seeing him bod...       0  \n",
       "1002  @amaramin3 Meek is definitely capable of body ...       0  \n",
       "1003  Gates not body bagging nobody???????? niggas i...       0  \n",
       "1004  WWE 2k15 MyCareer EP18 Tyrone body bagging dud...       0  \n",
       "1005  'I did another one I did another one. You stil...       1  \n",
       "1006  Drake Body Bagging Meek. He must of hit a sens...       0  \n",
       "1007  Good diss bad beat and flow. Mark my words Mee...       0  \n",
       "1008  @Drake is body bagging meek meanwhile he's on ...       0  \n",
       "1009  @MzGracieBaby for the record im jumpin out the...       0  "
      ],
      "text/html": "<div>\n<style scoped>\n    .dataframe tbody tr th:only-of-type {\n        vertical-align: middle;\n    }\n\n    .dataframe tbody tr th {\n        vertical-align: top;\n    }\n\n    .dataframe thead th {\n        text-align: right;\n    }\n</style>\n<table border=\"1\" class=\"dataframe\">\n  <thead>\n    <tr style=\"text-align: right;\">\n      <th></th>\n      <th>id</th>\n      <th>keyword</th>\n      <th>location</th>\n      <th>text</th>\n      <th>target</th>\n    </tr>\n  </thead>\n  <tbody>\n    <tr>\n      <th>1000</th>\n      <td>1452</td>\n      <td>body%20bagging</td>\n      <td>NaN</td>\n      <td>#OVOFest Drake straight body bagging Meek on t...</td>\n      <td>0</td>\n    </tr>\n    <tr>\n      <th>1001</th>\n      <td>1453</td>\n      <td>body%20bagging</td>\n      <td>NaN</td>\n      <td>I'm not a Drake fan but I enjoy seeing him bod...</td>\n      <td>0</td>\n    </tr>\n    <tr>\n      <th>1002</th>\n      <td>1454</td>\n      <td>body%20bagging</td>\n      <td>NaN</td>\n      <td>@amaramin3 Meek is definitely capable of body ...</td>\n      <td>0</td>\n    </tr>\n    <tr>\n      <th>1003</th>\n      <td>1455</td>\n      <td>body%20bagging</td>\n      <td>3?3?7?SLOPelousas??2?2?5?</td>\n      <td>Gates not body bagging nobody???????? niggas i...</td>\n      <td>0</td>\n    </tr>\n    <tr>\n      <th>1004</th>\n      <td>1456</td>\n      <td>body%20bagging</td>\n      <td>NaN</td>\n      <td>WWE 2k15 MyCareer EP18 Tyrone body bagging dud...</td>\n      <td>0</td>\n    </tr>\n    <tr>\n      <th>1005</th>\n      <td>1458</td>\n      <td>body%20bagging</td>\n      <td>316</td>\n      <td>'I did another one I did another one. You stil...</td>\n      <td>1</td>\n    </tr>\n    <tr>\n      <th>1006</th>\n      <td>1459</td>\n      <td>body%20bagging</td>\n      <td>Global</td>\n      <td>Drake Body Bagging Meek. He must of hit a sens...</td>\n      <td>0</td>\n    </tr>\n    <tr>\n      <th>1007</th>\n      <td>1460</td>\n      <td>body%20bagging</td>\n      <td>#WhereverI'mAt</td>\n      <td>Good diss bad beat and flow. Mark my words Mee...</td>\n      <td>0</td>\n    </tr>\n    <tr>\n      <th>1008</th>\n      <td>1463</td>\n      <td>body%20bagging</td>\n      <td>Huber Heights, OH</td>\n      <td>@Drake is body bagging meek meanwhile he's on ...</td>\n      <td>0</td>\n    </tr>\n    <tr>\n      <th>1009</th>\n      <td>1464</td>\n      <td>body%20bagging</td>\n      <td>NaN</td>\n      <td>@MzGracieBaby for the record im jumpin out the...</td>\n      <td>0</td>\n    </tr>\n  </tbody>\n</table>\n</div>"
     },
     "metadata": {},
     "execution_count": 1
    }
   ],
   "source": [
    "import pandas as pd\n",
    "import numpy as np\n",
    "\n",
    "data = pd.read_csv('train.csv')\n",
    "data[1000:].head(10)"
   ]
  },
  {
   "cell_type": "code",
   "execution_count": 2,
   "metadata": {},
   "outputs": [
    {
     "output_type": "execute_result",
     "data": {
      "text/plain": [
       "        id       keyword           location  \\\n",
       "1000  1452  body bagging                      \n",
       "1001  1453  body bagging                      \n",
       "1002  1454  body bagging                      \n",
       "1003  1455  body bagging  000slopelousas000   \n",
       "1004  1456  body bagging                      \n",
       "1005  1458  body bagging                000   \n",
       "1006  1459  body bagging             global   \n",
       "1007  1460  body bagging       whereverimat   \n",
       "1008  1463  body bagging   huber heights oh   \n",
       "1009  1464  body bagging                      \n",
       "\n",
       "                                                   text  target  \n",
       "1000  ovofest drake straight body bagging meek on th...       0  \n",
       "1001  im not a drake fan but i enjoy seeing him body...       0  \n",
       "1002  amaramin0 meek is definitely capable of body b...       0  \n",
       "1003  gates not body bagging nobody niggas in br rea...       0  \n",
       "1004  wwe 0k00 mycareer ep00 tyrone body bagging dud...       0  \n",
       "1005  i did another one i did another one you still ...       1  \n",
       "1006  drake body bagging meek he must of hit a sensi...       0  \n",
       "1007  good diss bad beat and flow mark my words meek...       0  \n",
       "1008  drake is body bagging meek meanwhile hes on to...       0  \n",
       "1009  mzgraciebaby for the record im jumpin out the ...       0  "
      ],
      "text/html": "<div>\n<style scoped>\n    .dataframe tbody tr th:only-of-type {\n        vertical-align: middle;\n    }\n\n    .dataframe tbody tr th {\n        vertical-align: top;\n    }\n\n    .dataframe thead th {\n        text-align: right;\n    }\n</style>\n<table border=\"1\" class=\"dataframe\">\n  <thead>\n    <tr style=\"text-align: right;\">\n      <th></th>\n      <th>id</th>\n      <th>keyword</th>\n      <th>location</th>\n      <th>text</th>\n      <th>target</th>\n    </tr>\n  </thead>\n  <tbody>\n    <tr>\n      <th>1000</th>\n      <td>1452</td>\n      <td>body bagging</td>\n      <td></td>\n      <td>ovofest drake straight body bagging meek on th...</td>\n      <td>0</td>\n    </tr>\n    <tr>\n      <th>1001</th>\n      <td>1453</td>\n      <td>body bagging</td>\n      <td></td>\n      <td>im not a drake fan but i enjoy seeing him body...</td>\n      <td>0</td>\n    </tr>\n    <tr>\n      <th>1002</th>\n      <td>1454</td>\n      <td>body bagging</td>\n      <td></td>\n      <td>amaramin0 meek is definitely capable of body b...</td>\n      <td>0</td>\n    </tr>\n    <tr>\n      <th>1003</th>\n      <td>1455</td>\n      <td>body bagging</td>\n      <td>000slopelousas000</td>\n      <td>gates not body bagging nobody niggas in br rea...</td>\n      <td>0</td>\n    </tr>\n    <tr>\n      <th>1004</th>\n      <td>1456</td>\n      <td>body bagging</td>\n      <td></td>\n      <td>wwe 0k00 mycareer ep00 tyrone body bagging dud...</td>\n      <td>0</td>\n    </tr>\n    <tr>\n      <th>1005</th>\n      <td>1458</td>\n      <td>body bagging</td>\n      <td>000</td>\n      <td>i did another one i did another one you still ...</td>\n      <td>1</td>\n    </tr>\n    <tr>\n      <th>1006</th>\n      <td>1459</td>\n      <td>body bagging</td>\n      <td>global</td>\n      <td>drake body bagging meek he must of hit a sensi...</td>\n      <td>0</td>\n    </tr>\n    <tr>\n      <th>1007</th>\n      <td>1460</td>\n      <td>body bagging</td>\n      <td>whereverimat</td>\n      <td>good diss bad beat and flow mark my words meek...</td>\n      <td>0</td>\n    </tr>\n    <tr>\n      <th>1008</th>\n      <td>1463</td>\n      <td>body bagging</td>\n      <td>huber heights oh</td>\n      <td>drake is body bagging meek meanwhile hes on to...</td>\n      <td>0</td>\n    </tr>\n    <tr>\n      <th>1009</th>\n      <td>1464</td>\n      <td>body bagging</td>\n      <td></td>\n      <td>mzgraciebaby for the record im jumpin out the ...</td>\n      <td>0</td>\n    </tr>\n  </tbody>\n</table>\n</div>"
     },
     "metadata": {},
     "execution_count": 2
    }
   ],
   "source": [
    "data['keyword'] = data['keyword'].str.replace('%\\d+', ' ', regex=True)\n",
    "data['keyword'] = data['keyword'].str.lower()\n",
    "data['keyword'] = data['keyword'].fillna('')\n",
    "\n",
    "data['text'] = data['text'].str.replace('http\\S+', 'http', regex=True)  # replace all URLs with \"http\"\n",
    "data['text'] = data['text'].str.replace('&\\S+', '', regex=True)  # remove all html junks\n",
    "data['text'] = data['text'].str.replace('[0-9]','0', regex=True)  # replace all integer valeus with 0\n",
    "data['text'] = data['text'].str.replace('[^a-zA-Z0 ]', '', regex=True)\n",
    "data['text'] = data['text'].str.lower()\n",
    "\n",
    "\n",
    "data['location'] = data['location'].str.replace('http\\S+', 'http', regex=True)\n",
    "data['location'] = data['location'].str.replace('&\\S+', '', regex=True)\n",
    "data['location'] = data['location'].str.replace('[0-9]','0', regex=True)\n",
    "data['location'] = data['location'].str.replace('[^a-zA-Z0 ]', '', regex=True)\n",
    "data['location'] = data['location'].str.lower()\n",
    "data['location'] = data['location'].fillna('')\n",
    "\n",
    "data[1000:].head(10)"
   ]
  },
  {
   "cell_type": "code",
   "execution_count": 3,
   "metadata": {},
   "outputs": [],
   "source": [
    "config = {\n",
    "    'key_max_len': 3,\n",
    "    'loc_max_len': 7,\n",
    "    'text_max_len': 35,\n",
    "}"
   ]
  },
  {
   "cell_type": "code",
   "execution_count": 4,
   "metadata": {},
   "outputs": [],
   "source": [
    "import pickle\n",
    "\n",
    "glove_dict = dict()  # dictionary containing pre-trained GLoVe, with 100 dimension vector representing a word\n",
    "\n",
    "with open('glove.pickle', 'rb') as p:\n",
    "    glove_dict = pickle.load(p)"
   ]
  },
  {
   "cell_type": "code",
   "execution_count": 5,
   "metadata": {},
   "outputs": [],
   "source": [
    "def embAndPad(pd_series, max_length):\n",
    "    ret = []\n",
    "    for entry in pd_series:\n",
    "        emb_sent = []\n",
    "        words = entry.split()\n",
    "        for word in words:\n",
    "            try:  # if the word is in the GLoVe data\n",
    "                emb_sent.append(glove_dict[word])\n",
    "            except KeyError:\n",
    "                pass\n",
    "        while len(emb_sent) < max_length:  # paddings\n",
    "            emb_sent.append(np.zeros(100, dtype='float32'))\n",
    "        ret.append(np.asarray(emb_sent)[:max_length])\n",
    "    return np.asarray(ret)"
   ]
  },
  {
   "cell_type": "code",
   "execution_count": 6,
   "metadata": {
    "tags": []
   },
   "outputs": [
    {
     "output_type": "stream",
     "name": "stdout",
     "text": [
      "[[-0.085462  0.11468   0.63305  ... -0.25772   0.57399   1.4787  ]\n [ 0.43133  -0.088912 -0.06145  ... -0.24217  -0.53863  -0.13046 ]\n [-0.51533   0.83186   0.22457  ... -1.2024    1.1304    0.3479  ]\n ...\n [ 0.        0.        0.       ...  0.        0.        0.      ]\n [ 0.        0.        0.       ...  0.        0.        0.      ]\n [ 0.        0.        0.       ...  0.        0.        0.      ]]\n"
     ]
    }
   ],
   "source": [
    "seq_input = embAndPad(data['text'], config['text_max_len'])\n",
    "key_input = embAndPad(data['keyword'], config['key_max_len'])\n",
    "loc_input = embAndPad(data['location'], config['loc_max_len'])\n",
    "print(seq_input[0])  # you can see a single word is converted into a 100 dimension vector"
   ]
  },
  {
   "cell_type": "code",
   "execution_count": 7,
   "metadata": {},
   "outputs": [
    {
     "output_type": "stream",
     "name": "stdout",
     "text": [
      "seq_input Shape:  (7613, 35, 100)\nkey_input Shape:  (7613, 3, 100)\nloc_input Shape:  (7613, 7, 100)\noutput Shape:  (7613,)\n"
     ]
    }
   ],
   "source": [
    "output = data['target'].to_numpy()\n",
    "\n",
    "print(\"seq_input Shape: \", seq_input.shape)\n",
    "print(\"key_input Shape: \", key_input.shape)\n",
    "print(\"loc_input Shape: \", loc_input.shape)\n",
    "print(\"output Shape: \", output.shape)"
   ]
  },
  {
   "cell_type": "code",
   "execution_count": 8,
   "metadata": {},
   "outputs": [
    {
     "output_type": "stream",
     "name": "stdout",
     "text": [
      "Model: \"functional_1\"\n__________________________________________________________________________________________________\nLayer (type)                    Output Shape         Param #     Connected to                     \n==================================================================================================\nseq_input (InputLayer)          [(None, 35, 100)]    0                                            \n__________________________________________________________________________________________________\nloc_input (InputLayer)          [(None, 7, 100)]     0                                            \n__________________________________________________________________________________________________\nbidirectional (Bidirectional)   (None, 35, 256)      234496      seq_input[0][0]                  \n__________________________________________________________________________________________________\nkey_input (InputLayer)          [(None, 3, 100)]     0                                            \n__________________________________________________________________________________________________\nbidirectional_3 (Bidirectional) (None, 7, 256)       234496      loc_input[0][0]                  \n__________________________________________________________________________________________________\nbidirectional_1 (Bidirectional) (None, 256)          394240      bidirectional[0][0]              \n__________________________________________________________________________________________________\nbidirectional_2 (Bidirectional) (None, 256)          234496      key_input[0][0]                  \n__________________________________________________________________________________________________\nbidirectional_4 (Bidirectional) (None, 256)          394240      bidirectional_3[0][0]            \n__________________________________________________________________________________________________\nconcatenate (Concatenate)       (None, 768)          0           bidirectional_1[0][0]            \n                                                                 bidirectional_2[0][0]            \n                                                                 bidirectional_4[0][0]            \n__________________________________________________________________________________________________\ndense (Dense)                   (None, 256)          196864      concatenate[0][0]                \n__________________________________________________________________________________________________\ndropout (Dropout)               (None, 256)          0           dense[0][0]                      \n__________________________________________________________________________________________________\ndense_1 (Dense)                 (None, 64)           16448       dropout[0][0]                    \n__________________________________________________________________________________________________\ndropout_1 (Dropout)             (None, 64)           0           dense_1[0][0]                    \n__________________________________________________________________________________________________\noutput (Dense)                  (None, 1)            65          dropout_1[0][0]                  \n==================================================================================================\nTotal params: 1,705,345\nTrainable params: 1,705,345\nNon-trainable params: 0\n__________________________________________________________________________________________________\n"
     ]
    }
   ],
   "source": [
    "import tensorflow as tf\n",
    "\n",
    "x_seq = tf.keras.layers.Input(shape=(config['text_max_len'], 100), name='seq_input')\n",
    "x1 = tf.keras.layers.Bidirectional(tf.keras.layers.LSTM(128, return_sequences=True))(x_seq)\n",
    "x1 = tf.keras.layers.Bidirectional(tf.keras.layers.LSTM(128))(x1)\n",
    "\n",
    "x_key = tf.keras.layers.Input(shape=(config['key_max_len'], 100), name='key_input')\n",
    "x2 = tf.keras.layers.Bidirectional(tf.keras.layers.LSTM(128))(x_key)\n",
    "\n",
    "x_loc = tf.keras.layers.Input(shape=(config['loc_max_len'], 100), name='loc_input')\n",
    "x3 = tf.keras.layers.Bidirectional(tf.keras.layers.LSTM(128, return_sequences=True))(x_loc)\n",
    "x3 = tf.keras.layers.Bidirectional(tf.keras.layers.LSTM(128))(x3)\n",
    "\n",
    "x = tf.keras.layers.Concatenate()([x1, x2, x3])\n",
    "x = tf.keras.layers.Dense(256, activation='relu')(x)\n",
    "x = tf.keras.layers.Dropout(0.2)(x)\n",
    "x = tf.keras.layers.Dense(64, activation='relu')(x)\n",
    "x = tf.keras.layers.Dropout(0.2)(x)\n",
    "y = tf.keras.layers.Dense(1, activation='sigmoid', name='output')(x)\n",
    "\n",
    "model = tf.keras.models.Model(inputs=[x_seq, x_key, x_loc], outputs=y)\n",
    "adam = tf.keras.optimizers.Adam(learning_rate=0.0001)\n",
    "model.compile(optimizer=adam, loss='binary_crossentropy', metrics=['accuracy'])\n",
    "model.summary()"
   ]
  },
  {
   "cell_type": "code",
   "execution_count": 9,
   "metadata": {},
   "outputs": [
    {
     "output_type": "stream",
     "name": "stdout",
     "text": [
      "Epoch 1/20\n",
      "191/191 [==============================] - 10s 51ms/step - loss: 0.5515 - accuracy: 0.7335 - val_loss: 0.4537 - val_accuracy: 0.7971\n",
      "Epoch 2/20\n",
      "191/191 [==============================] - 6s 34ms/step - loss: 0.4465 - accuracy: 0.8089 - val_loss: 0.4347 - val_accuracy: 0.8102\n",
      "Epoch 3/20\n",
      "191/191 [==============================] - 6s 33ms/step - loss: 0.4221 - accuracy: 0.8194 - val_loss: 0.4171 - val_accuracy: 0.8175\n",
      "Epoch 4/20\n",
      "191/191 [==============================] - 7s 34ms/step - loss: 0.4073 - accuracy: 0.8256 - val_loss: 0.4181 - val_accuracy: 0.8142\n",
      "Epoch 5/20\n",
      "191/191 [==============================] - 7s 36ms/step - loss: 0.3992 - accuracy: 0.8294 - val_loss: 0.4188 - val_accuracy: 0.8142\n",
      "Epoch 6/20\n",
      "191/191 [==============================] - 6s 34ms/step - loss: 0.3862 - accuracy: 0.8350 - val_loss: 0.4301 - val_accuracy: 0.8096\n",
      "Epoch 7/20\n",
      "191/191 [==============================] - 7s 34ms/step - loss: 0.3774 - accuracy: 0.8422 - val_loss: 0.4288 - val_accuracy: 0.8116\n",
      "Epoch 8/20\n",
      "191/191 [==============================] - 6s 33ms/step - loss: 0.3700 - accuracy: 0.8430 - val_loss: 0.4376 - val_accuracy: 0.8076\n",
      "Epoch 9/20\n",
      "191/191 [==============================] - 6s 34ms/step - loss: 0.3611 - accuracy: 0.8507 - val_loss: 0.4353 - val_accuracy: 0.8017\n",
      "Epoch 10/20\n",
      "191/191 [==============================] - 6s 33ms/step - loss: 0.3540 - accuracy: 0.8524 - val_loss: 0.4481 - val_accuracy: 0.8102\n",
      "Epoch 11/20\n",
      "191/191 [==============================] - 6s 33ms/step - loss: 0.3412 - accuracy: 0.8568 - val_loss: 0.4547 - val_accuracy: 0.8076\n",
      "Epoch 12/20\n",
      "191/191 [==============================] - 6s 34ms/step - loss: 0.3319 - accuracy: 0.8603 - val_loss: 0.4405 - val_accuracy: 0.8063\n",
      "Epoch 13/20\n",
      "191/191 [==============================] - 6s 34ms/step - loss: 0.3203 - accuracy: 0.8670 - val_loss: 0.4704 - val_accuracy: 0.7932\n",
      "Epoch 14/20\n",
      "191/191 [==============================] - 6s 33ms/step - loss: 0.3091 - accuracy: 0.8732 - val_loss: 0.5252 - val_accuracy: 0.7965\n",
      "Epoch 15/20\n",
      "191/191 [==============================] - 6s 33ms/step - loss: 0.2985 - accuracy: 0.8768 - val_loss: 0.4618 - val_accuracy: 0.7919\n",
      "Epoch 16/20\n",
      "191/191 [==============================] - 6s 32ms/step - loss: 0.2845 - accuracy: 0.8837 - val_loss: 0.5048 - val_accuracy: 0.7938\n",
      "Epoch 17/20\n",
      "191/191 [==============================] - 6s 34ms/step - loss: 0.2734 - accuracy: 0.8874 - val_loss: 0.5291 - val_accuracy: 0.8043\n",
      "Epoch 18/20\n",
      "191/191 [==============================] - 6s 34ms/step - loss: 0.2643 - accuracy: 0.8943 - val_loss: 0.5337 - val_accuracy: 0.7800\n",
      "Epoch 19/20\n",
      "191/191 [==============================] - 6s 34ms/step - loss: 0.2522 - accuracy: 0.8990 - val_loss: 0.5553 - val_accuracy: 0.7912\n",
      "Epoch 20/20\n",
      "191/191 [==============================] - 6s 33ms/step - loss: 0.2403 - accuracy: 0.9059 - val_loss: 0.6156 - val_accuracy: 0.8050\n"
     ]
    }
   ],
   "source": [
    "history = model.fit(x={'seq_input':seq_input, 'key_input':key_input, 'loc_input':loc_input}, y=output, epochs=20, validation_split=0.2)"
   ]
  },
  {
   "cell_type": "code",
   "execution_count": 10,
   "metadata": {},
   "outputs": [
    {
     "output_type": "execute_result",
     "data": {
      "text/plain": [
       "[<matplotlib.lines.Line2D at 0x1df54acbeb8>]"
      ]
     },
     "metadata": {},
     "execution_count": 10
    },
    {
     "output_type": "display_data",
     "data": {
      "text/plain": "<Figure size 432x288 with 1 Axes>",
      "image/svg+xml": "<?xml version=\"1.0\" encoding=\"utf-8\" standalone=\"no\"?>\r\n<!DOCTYPE svg PUBLIC \"-//W3C//DTD SVG 1.1//EN\"\r\n  \"http://www.w3.org/Graphics/SVG/1.1/DTD/svg11.dtd\">\r\n<!-- Created with matplotlib (https://matplotlib.org/) -->\r\n<svg height=\"251.811301pt\" version=\"1.1\" viewBox=\"0 0 384.828125 251.811301\" width=\"384.828125pt\" xmlns=\"http://www.w3.org/2000/svg\" xmlns:xlink=\"http://www.w3.org/1999/xlink\">\r\n <defs>\r\n  <style type=\"text/css\">\r\n*{stroke-linecap:butt;stroke-linejoin:round;}\r\n  </style>\r\n </defs>\r\n <g id=\"figure_1\">\r\n  <g id=\"patch_1\">\r\n   <path d=\"M 0 251.811301 \r\nL 384.828125 251.811301 \r\nL 384.828125 0 \r\nL 0 0 \r\nz\r\n\" style=\"fill:none;\"/>\r\n  </g>\r\n  <g id=\"axes_1\">\r\n   <g id=\"patch_2\">\r\n    <path d=\"M 42.828125 227.933176 \r\nL 377.628125 227.933176 \r\nL 377.628125 10.493176 \r\nL 42.828125 10.493176 \r\nz\r\n\" style=\"fill:#ffffff;\"/>\r\n   </g>\r\n   <g id=\"matplotlib.axis_1\">\r\n    <g id=\"xtick_1\">\r\n     <g id=\"line2d_1\">\r\n      <defs>\r\n       <path d=\"M 0 0 \r\nL 0 3.5 \r\n\" id=\"mfd2dac58c5\" style=\"stroke:#000000;stroke-width:0.8;\"/>\r\n      </defs>\r\n      <g>\r\n       <use style=\"stroke:#000000;stroke-width:0.8;\" x=\"58.046307\" xlink:href=\"#mfd2dac58c5\" y=\"227.933176\"/>\r\n      </g>\r\n     </g>\r\n     <g id=\"text_1\">\r\n      <!-- 0.0 -->\r\n      <defs>\r\n       <path d=\"M 31.78125 66.40625 \r\nQ 24.171875 66.40625 20.328125 58.90625 \r\nQ 16.5 51.421875 16.5 36.375 \r\nQ 16.5 21.390625 20.328125 13.890625 \r\nQ 24.171875 6.390625 31.78125 6.390625 \r\nQ 39.453125 6.390625 43.28125 13.890625 \r\nQ 47.125 21.390625 47.125 36.375 \r\nQ 47.125 51.421875 43.28125 58.90625 \r\nQ 39.453125 66.40625 31.78125 66.40625 \r\nz\r\nM 31.78125 74.21875 \r\nQ 44.046875 74.21875 50.515625 64.515625 \r\nQ 56.984375 54.828125 56.984375 36.375 \r\nQ 56.984375 17.96875 50.515625 8.265625 \r\nQ 44.046875 -1.421875 31.78125 -1.421875 \r\nQ 19.53125 -1.421875 13.0625 8.265625 \r\nQ 6.59375 17.96875 6.59375 36.375 \r\nQ 6.59375 54.828125 13.0625 64.515625 \r\nQ 19.53125 74.21875 31.78125 74.21875 \r\nz\r\n\" id=\"DejaVuSans-48\"/>\r\n       <path d=\"M 10.6875 12.40625 \r\nL 21 12.40625 \r\nL 21 0 \r\nL 10.6875 0 \r\nz\r\n\" id=\"DejaVuSans-46\"/>\r\n      </defs>\r\n      <g transform=\"translate(50.094744 242.531613)scale(0.1 -0.1)\">\r\n       <use xlink:href=\"#DejaVuSans-48\"/>\r\n       <use x=\"63.623047\" xlink:href=\"#DejaVuSans-46\"/>\r\n       <use x=\"95.410156\" xlink:href=\"#DejaVuSans-48\"/>\r\n      </g>\r\n     </g>\r\n    </g>\r\n    <g id=\"xtick_2\">\r\n     <g id=\"line2d_2\">\r\n      <g>\r\n       <use style=\"stroke:#000000;stroke-width:0.8;\" x=\"98.094154\" xlink:href=\"#mfd2dac58c5\" y=\"227.933176\"/>\r\n      </g>\r\n     </g>\r\n     <g id=\"text_2\">\r\n      <!-- 2.5 -->\r\n      <defs>\r\n       <path d=\"M 19.1875 8.296875 \r\nL 53.609375 8.296875 \r\nL 53.609375 0 \r\nL 7.328125 0 \r\nL 7.328125 8.296875 \r\nQ 12.9375 14.109375 22.625 23.890625 \r\nQ 32.328125 33.6875 34.8125 36.53125 \r\nQ 39.546875 41.84375 41.421875 45.53125 \r\nQ 43.3125 49.21875 43.3125 52.78125 \r\nQ 43.3125 58.59375 39.234375 62.25 \r\nQ 35.15625 65.921875 28.609375 65.921875 \r\nQ 23.96875 65.921875 18.8125 64.3125 \r\nQ 13.671875 62.703125 7.8125 59.421875 \r\nL 7.8125 69.390625 \r\nQ 13.765625 71.78125 18.9375 73 \r\nQ 24.125 74.21875 28.421875 74.21875 \r\nQ 39.75 74.21875 46.484375 68.546875 \r\nQ 53.21875 62.890625 53.21875 53.421875 \r\nQ 53.21875 48.921875 51.53125 44.890625 \r\nQ 49.859375 40.875 45.40625 35.40625 \r\nQ 44.1875 33.984375 37.640625 27.21875 \r\nQ 31.109375 20.453125 19.1875 8.296875 \r\nz\r\n\" id=\"DejaVuSans-50\"/>\r\n       <path d=\"M 10.796875 72.90625 \r\nL 49.515625 72.90625 \r\nL 49.515625 64.59375 \r\nL 19.828125 64.59375 \r\nL 19.828125 46.734375 \r\nQ 21.96875 47.46875 24.109375 47.828125 \r\nQ 26.265625 48.1875 28.421875 48.1875 \r\nQ 40.625 48.1875 47.75 41.5 \r\nQ 54.890625 34.8125 54.890625 23.390625 \r\nQ 54.890625 11.625 47.5625 5.09375 \r\nQ 40.234375 -1.421875 26.90625 -1.421875 \r\nQ 22.3125 -1.421875 17.546875 -0.640625 \r\nQ 12.796875 0.140625 7.71875 1.703125 \r\nL 7.71875 11.625 \r\nQ 12.109375 9.234375 16.796875 8.0625 \r\nQ 21.484375 6.890625 26.703125 6.890625 \r\nQ 35.15625 6.890625 40.078125 11.328125 \r\nQ 45.015625 15.765625 45.015625 23.390625 \r\nQ 45.015625 31 40.078125 35.4375 \r\nQ 35.15625 39.890625 26.703125 39.890625 \r\nQ 22.75 39.890625 18.8125 39.015625 \r\nQ 14.890625 38.140625 10.796875 36.28125 \r\nz\r\n\" id=\"DejaVuSans-53\"/>\r\n      </defs>\r\n      <g transform=\"translate(90.142591 242.531613)scale(0.1 -0.1)\">\r\n       <use xlink:href=\"#DejaVuSans-50\"/>\r\n       <use x=\"63.623047\" xlink:href=\"#DejaVuSans-46\"/>\r\n       <use x=\"95.410156\" xlink:href=\"#DejaVuSans-53\"/>\r\n      </g>\r\n     </g>\r\n    </g>\r\n    <g id=\"xtick_3\">\r\n     <g id=\"line2d_3\">\r\n      <g>\r\n       <use style=\"stroke:#000000;stroke-width:0.8;\" x=\"138.142001\" xlink:href=\"#mfd2dac58c5\" y=\"227.933176\"/>\r\n      </g>\r\n     </g>\r\n     <g id=\"text_3\">\r\n      <!-- 5.0 -->\r\n      <g transform=\"translate(130.190438 242.531613)scale(0.1 -0.1)\">\r\n       <use xlink:href=\"#DejaVuSans-53\"/>\r\n       <use x=\"63.623047\" xlink:href=\"#DejaVuSans-46\"/>\r\n       <use x=\"95.410156\" xlink:href=\"#DejaVuSans-48\"/>\r\n      </g>\r\n     </g>\r\n    </g>\r\n    <g id=\"xtick_4\">\r\n     <g id=\"line2d_4\">\r\n      <g>\r\n       <use style=\"stroke:#000000;stroke-width:0.8;\" x=\"178.189847\" xlink:href=\"#mfd2dac58c5\" y=\"227.933176\"/>\r\n      </g>\r\n     </g>\r\n     <g id=\"text_4\">\r\n      <!-- 7.5 -->\r\n      <defs>\r\n       <path d=\"M 8.203125 72.90625 \r\nL 55.078125 72.90625 \r\nL 55.078125 68.703125 \r\nL 28.609375 0 \r\nL 18.3125 0 \r\nL 43.21875 64.59375 \r\nL 8.203125 64.59375 \r\nz\r\n\" id=\"DejaVuSans-55\"/>\r\n      </defs>\r\n      <g transform=\"translate(170.238285 242.531613)scale(0.1 -0.1)\">\r\n       <use xlink:href=\"#DejaVuSans-55\"/>\r\n       <use x=\"63.623047\" xlink:href=\"#DejaVuSans-46\"/>\r\n       <use x=\"95.410156\" xlink:href=\"#DejaVuSans-53\"/>\r\n      </g>\r\n     </g>\r\n    </g>\r\n    <g id=\"xtick_5\">\r\n     <g id=\"line2d_5\">\r\n      <g>\r\n       <use style=\"stroke:#000000;stroke-width:0.8;\" x=\"218.237694\" xlink:href=\"#mfd2dac58c5\" y=\"227.933176\"/>\r\n      </g>\r\n     </g>\r\n     <g id=\"text_5\">\r\n      <!-- 10.0 -->\r\n      <defs>\r\n       <path d=\"M 12.40625 8.296875 \r\nL 28.515625 8.296875 \r\nL 28.515625 63.921875 \r\nL 10.984375 60.40625 \r\nL 10.984375 69.390625 \r\nL 28.421875 72.90625 \r\nL 38.28125 72.90625 \r\nL 38.28125 8.296875 \r\nL 54.390625 8.296875 \r\nL 54.390625 0 \r\nL 12.40625 0 \r\nz\r\n\" id=\"DejaVuSans-49\"/>\r\n      </defs>\r\n      <g transform=\"translate(207.104882 242.531613)scale(0.1 -0.1)\">\r\n       <use xlink:href=\"#DejaVuSans-49\"/>\r\n       <use x=\"63.623047\" xlink:href=\"#DejaVuSans-48\"/>\r\n       <use x=\"127.246094\" xlink:href=\"#DejaVuSans-46\"/>\r\n       <use x=\"159.033203\" xlink:href=\"#DejaVuSans-48\"/>\r\n      </g>\r\n     </g>\r\n    </g>\r\n    <g id=\"xtick_6\">\r\n     <g id=\"line2d_6\">\r\n      <g>\r\n       <use style=\"stroke:#000000;stroke-width:0.8;\" x=\"258.285541\" xlink:href=\"#mfd2dac58c5\" y=\"227.933176\"/>\r\n      </g>\r\n     </g>\r\n     <g id=\"text_6\">\r\n      <!-- 12.5 -->\r\n      <g transform=\"translate(247.152729 242.531613)scale(0.1 -0.1)\">\r\n       <use xlink:href=\"#DejaVuSans-49\"/>\r\n       <use x=\"63.623047\" xlink:href=\"#DejaVuSans-50\"/>\r\n       <use x=\"127.246094\" xlink:href=\"#DejaVuSans-46\"/>\r\n       <use x=\"159.033203\" xlink:href=\"#DejaVuSans-53\"/>\r\n      </g>\r\n     </g>\r\n    </g>\r\n    <g id=\"xtick_7\">\r\n     <g id=\"line2d_7\">\r\n      <g>\r\n       <use style=\"stroke:#000000;stroke-width:0.8;\" x=\"298.333388\" xlink:href=\"#mfd2dac58c5\" y=\"227.933176\"/>\r\n      </g>\r\n     </g>\r\n     <g id=\"text_7\">\r\n      <!-- 15.0 -->\r\n      <g transform=\"translate(287.200576 242.531613)scale(0.1 -0.1)\">\r\n       <use xlink:href=\"#DejaVuSans-49\"/>\r\n       <use x=\"63.623047\" xlink:href=\"#DejaVuSans-53\"/>\r\n       <use x=\"127.246094\" xlink:href=\"#DejaVuSans-46\"/>\r\n       <use x=\"159.033203\" xlink:href=\"#DejaVuSans-48\"/>\r\n      </g>\r\n     </g>\r\n    </g>\r\n    <g id=\"xtick_8\">\r\n     <g id=\"line2d_8\">\r\n      <g>\r\n       <use style=\"stroke:#000000;stroke-width:0.8;\" x=\"338.381235\" xlink:href=\"#mfd2dac58c5\" y=\"227.933176\"/>\r\n      </g>\r\n     </g>\r\n     <g id=\"text_8\">\r\n      <!-- 17.5 -->\r\n      <g transform=\"translate(327.248423 242.531613)scale(0.1 -0.1)\">\r\n       <use xlink:href=\"#DejaVuSans-49\"/>\r\n       <use x=\"63.623047\" xlink:href=\"#DejaVuSans-55\"/>\r\n       <use x=\"127.246094\" xlink:href=\"#DejaVuSans-46\"/>\r\n       <use x=\"159.033203\" xlink:href=\"#DejaVuSans-53\"/>\r\n      </g>\r\n     </g>\r\n    </g>\r\n   </g>\r\n   <g id=\"matplotlib.axis_2\">\r\n    <g id=\"ytick_1\">\r\n     <g id=\"line2d_9\">\r\n      <defs>\r\n       <path d=\"M 0 0 \r\nL -3.5 0 \r\n\" id=\"m3a16d8a0d8\" style=\"stroke:#000000;stroke-width:0.8;\"/>\r\n      </defs>\r\n      <g>\r\n       <use style=\"stroke:#000000;stroke-width:0.8;\" x=\"42.828125\" xlink:href=\"#m3a16d8a0d8\" y=\"210.176213\"/>\r\n      </g>\r\n     </g>\r\n     <g id=\"text_9\">\r\n      <!-- 0.425 -->\r\n      <defs>\r\n       <path d=\"M 37.796875 64.3125 \r\nL 12.890625 25.390625 \r\nL 37.796875 25.390625 \r\nz\r\nM 35.203125 72.90625 \r\nL 47.609375 72.90625 \r\nL 47.609375 25.390625 \r\nL 58.015625 25.390625 \r\nL 58.015625 17.1875 \r\nL 47.609375 17.1875 \r\nL 47.609375 0 \r\nL 37.796875 0 \r\nL 37.796875 17.1875 \r\nL 4.890625 17.1875 \r\nL 4.890625 26.703125 \r\nz\r\n\" id=\"DejaVuSans-52\"/>\r\n      </defs>\r\n      <g transform=\"translate(7.2 213.975432)scale(0.1 -0.1)\">\r\n       <use xlink:href=\"#DejaVuSans-48\"/>\r\n       <use x=\"63.623047\" xlink:href=\"#DejaVuSans-46\"/>\r\n       <use x=\"95.410156\" xlink:href=\"#DejaVuSans-52\"/>\r\n       <use x=\"159.033203\" xlink:href=\"#DejaVuSans-50\"/>\r\n       <use x=\"222.65625\" xlink:href=\"#DejaVuSans-53\"/>\r\n      </g>\r\n     </g>\r\n    </g>\r\n    <g id=\"ytick_2\">\r\n     <g id=\"line2d_10\">\r\n      <g>\r\n       <use style=\"stroke:#000000;stroke-width:0.8;\" x=\"42.828125\" xlink:href=\"#m3a16d8a0d8\" y=\"185.279089\"/>\r\n      </g>\r\n     </g>\r\n     <g id=\"text_10\">\r\n      <!-- 0.450 -->\r\n      <g transform=\"translate(7.2 189.078308)scale(0.1 -0.1)\">\r\n       <use xlink:href=\"#DejaVuSans-48\"/>\r\n       <use x=\"63.623047\" xlink:href=\"#DejaVuSans-46\"/>\r\n       <use x=\"95.410156\" xlink:href=\"#DejaVuSans-52\"/>\r\n       <use x=\"159.033203\" xlink:href=\"#DejaVuSans-53\"/>\r\n       <use x=\"222.65625\" xlink:href=\"#DejaVuSans-48\"/>\r\n      </g>\r\n     </g>\r\n    </g>\r\n    <g id=\"ytick_3\">\r\n     <g id=\"line2d_11\">\r\n      <g>\r\n       <use style=\"stroke:#000000;stroke-width:0.8;\" x=\"42.828125\" xlink:href=\"#m3a16d8a0d8\" y=\"160.381965\"/>\r\n      </g>\r\n     </g>\r\n     <g id=\"text_11\">\r\n      <!-- 0.475 -->\r\n      <g transform=\"translate(7.2 164.181183)scale(0.1 -0.1)\">\r\n       <use xlink:href=\"#DejaVuSans-48\"/>\r\n       <use x=\"63.623047\" xlink:href=\"#DejaVuSans-46\"/>\r\n       <use x=\"95.410156\" xlink:href=\"#DejaVuSans-52\"/>\r\n       <use x=\"159.033203\" xlink:href=\"#DejaVuSans-55\"/>\r\n       <use x=\"222.65625\" xlink:href=\"#DejaVuSans-53\"/>\r\n      </g>\r\n     </g>\r\n    </g>\r\n    <g id=\"ytick_4\">\r\n     <g id=\"line2d_12\">\r\n      <g>\r\n       <use style=\"stroke:#000000;stroke-width:0.8;\" x=\"42.828125\" xlink:href=\"#m3a16d8a0d8\" y=\"135.48484\"/>\r\n      </g>\r\n     </g>\r\n     <g id=\"text_12\">\r\n      <!-- 0.500 -->\r\n      <g transform=\"translate(7.2 139.284059)scale(0.1 -0.1)\">\r\n       <use xlink:href=\"#DejaVuSans-48\"/>\r\n       <use x=\"63.623047\" xlink:href=\"#DejaVuSans-46\"/>\r\n       <use x=\"95.410156\" xlink:href=\"#DejaVuSans-53\"/>\r\n       <use x=\"159.033203\" xlink:href=\"#DejaVuSans-48\"/>\r\n       <use x=\"222.65625\" xlink:href=\"#DejaVuSans-48\"/>\r\n      </g>\r\n     </g>\r\n    </g>\r\n    <g id=\"ytick_5\">\r\n     <g id=\"line2d_13\">\r\n      <g>\r\n       <use style=\"stroke:#000000;stroke-width:0.8;\" x=\"42.828125\" xlink:href=\"#m3a16d8a0d8\" y=\"110.587716\"/>\r\n      </g>\r\n     </g>\r\n     <g id=\"text_13\">\r\n      <!-- 0.525 -->\r\n      <g transform=\"translate(7.2 114.386935)scale(0.1 -0.1)\">\r\n       <use xlink:href=\"#DejaVuSans-48\"/>\r\n       <use x=\"63.623047\" xlink:href=\"#DejaVuSans-46\"/>\r\n       <use x=\"95.410156\" xlink:href=\"#DejaVuSans-53\"/>\r\n       <use x=\"159.033203\" xlink:href=\"#DejaVuSans-50\"/>\r\n       <use x=\"222.65625\" xlink:href=\"#DejaVuSans-53\"/>\r\n      </g>\r\n     </g>\r\n    </g>\r\n    <g id=\"ytick_6\">\r\n     <g id=\"line2d_14\">\r\n      <g>\r\n       <use style=\"stroke:#000000;stroke-width:0.8;\" x=\"42.828125\" xlink:href=\"#m3a16d8a0d8\" y=\"85.690592\"/>\r\n      </g>\r\n     </g>\r\n     <g id=\"text_14\">\r\n      <!-- 0.550 -->\r\n      <g transform=\"translate(7.2 89.48981)scale(0.1 -0.1)\">\r\n       <use xlink:href=\"#DejaVuSans-48\"/>\r\n       <use x=\"63.623047\" xlink:href=\"#DejaVuSans-46\"/>\r\n       <use x=\"95.410156\" xlink:href=\"#DejaVuSans-53\"/>\r\n       <use x=\"159.033203\" xlink:href=\"#DejaVuSans-53\"/>\r\n       <use x=\"222.65625\" xlink:href=\"#DejaVuSans-48\"/>\r\n      </g>\r\n     </g>\r\n    </g>\r\n    <g id=\"ytick_7\">\r\n     <g id=\"line2d_15\">\r\n      <g>\r\n       <use style=\"stroke:#000000;stroke-width:0.8;\" x=\"42.828125\" xlink:href=\"#m3a16d8a0d8\" y=\"60.793467\"/>\r\n      </g>\r\n     </g>\r\n     <g id=\"text_15\">\r\n      <!-- 0.575 -->\r\n      <g transform=\"translate(7.2 64.592686)scale(0.1 -0.1)\">\r\n       <use xlink:href=\"#DejaVuSans-48\"/>\r\n       <use x=\"63.623047\" xlink:href=\"#DejaVuSans-46\"/>\r\n       <use x=\"95.410156\" xlink:href=\"#DejaVuSans-53\"/>\r\n       <use x=\"159.033203\" xlink:href=\"#DejaVuSans-55\"/>\r\n       <use x=\"222.65625\" xlink:href=\"#DejaVuSans-53\"/>\r\n      </g>\r\n     </g>\r\n    </g>\r\n    <g id=\"ytick_8\">\r\n     <g id=\"line2d_16\">\r\n      <g>\r\n       <use style=\"stroke:#000000;stroke-width:0.8;\" x=\"42.828125\" xlink:href=\"#m3a16d8a0d8\" y=\"35.896343\"/>\r\n      </g>\r\n     </g>\r\n     <g id=\"text_16\">\r\n      <!-- 0.600 -->\r\n      <defs>\r\n       <path d=\"M 33.015625 40.375 \r\nQ 26.375 40.375 22.484375 35.828125 \r\nQ 18.609375 31.296875 18.609375 23.390625 \r\nQ 18.609375 15.53125 22.484375 10.953125 \r\nQ 26.375 6.390625 33.015625 6.390625 \r\nQ 39.65625 6.390625 43.53125 10.953125 \r\nQ 47.40625 15.53125 47.40625 23.390625 \r\nQ 47.40625 31.296875 43.53125 35.828125 \r\nQ 39.65625 40.375 33.015625 40.375 \r\nz\r\nM 52.59375 71.296875 \r\nL 52.59375 62.3125 \r\nQ 48.875 64.0625 45.09375 64.984375 \r\nQ 41.3125 65.921875 37.59375 65.921875 \r\nQ 27.828125 65.921875 22.671875 59.328125 \r\nQ 17.53125 52.734375 16.796875 39.40625 \r\nQ 19.671875 43.65625 24.015625 45.921875 \r\nQ 28.375 48.1875 33.59375 48.1875 \r\nQ 44.578125 48.1875 50.953125 41.515625 \r\nQ 57.328125 34.859375 57.328125 23.390625 \r\nQ 57.328125 12.15625 50.6875 5.359375 \r\nQ 44.046875 -1.421875 33.015625 -1.421875 \r\nQ 20.359375 -1.421875 13.671875 8.265625 \r\nQ 6.984375 17.96875 6.984375 36.375 \r\nQ 6.984375 53.65625 15.1875 63.9375 \r\nQ 23.390625 74.21875 37.203125 74.21875 \r\nQ 40.921875 74.21875 44.703125 73.484375 \r\nQ 48.484375 72.75 52.59375 71.296875 \r\nz\r\n\" id=\"DejaVuSans-54\"/>\r\n      </defs>\r\n      <g transform=\"translate(7.2 39.695562)scale(0.1 -0.1)\">\r\n       <use xlink:href=\"#DejaVuSans-48\"/>\r\n       <use x=\"63.623047\" xlink:href=\"#DejaVuSans-46\"/>\r\n       <use x=\"95.410156\" xlink:href=\"#DejaVuSans-54\"/>\r\n       <use x=\"159.033203\" xlink:href=\"#DejaVuSans-48\"/>\r\n       <use x=\"222.65625\" xlink:href=\"#DejaVuSans-48\"/>\r\n      </g>\r\n     </g>\r\n    </g>\r\n    <g id=\"ytick_9\">\r\n     <g id=\"line2d_17\">\r\n      <g>\r\n       <use style=\"stroke:#000000;stroke-width:0.8;\" x=\"42.828125\" xlink:href=\"#m3a16d8a0d8\" y=\"10.999219\"/>\r\n      </g>\r\n     </g>\r\n     <g id=\"text_17\">\r\n      <!-- 0.625 -->\r\n      <g transform=\"translate(7.2 14.798437)scale(0.1 -0.1)\">\r\n       <use xlink:href=\"#DejaVuSans-48\"/>\r\n       <use x=\"63.623047\" xlink:href=\"#DejaVuSans-46\"/>\r\n       <use x=\"95.410156\" xlink:href=\"#DejaVuSans-54\"/>\r\n       <use x=\"159.033203\" xlink:href=\"#DejaVuSans-50\"/>\r\n       <use x=\"222.65625\" xlink:href=\"#DejaVuSans-53\"/>\r\n      </g>\r\n     </g>\r\n    </g>\r\n   </g>\r\n   <g id=\"line2d_18\">\r\n    <path clip-path=\"url(#pd005b7d4d8)\" d=\"M 58.046307 181.595793 \r\nL 74.065446 200.537279 \r\nL 90.084584 218.049539 \r\nL 106.103723 217.021405 \r\nL 122.122862 216.392315 \r\nL 138.142001 205.128162 \r\nL 154.161139 206.431545 \r\nL 170.180278 197.611485 \r\nL 186.199417 199.889401 \r\nL 202.218556 187.164978 \r\nL 218.237694 180.601642 \r\nL 234.256833 194.713323 \r\nL 250.275972 164.958845 \r\nL 266.295111 110.411621 \r\nL 282.314249 173.549719 \r\nL 298.333388 130.694183 \r\nL 314.352527 106.539668 \r\nL 330.371666 101.899131 \r\nL 346.390804 80.370378 \r\nL 362.409943 20.376812 \r\n\" style=\"fill:none;stroke:#1f77b4;stroke-linecap:square;stroke-width:1.5;\"/>\r\n   </g>\r\n   <g id=\"patch_3\">\r\n    <path d=\"M 42.828125 227.933176 \r\nL 42.828125 10.493176 \r\n\" style=\"fill:none;stroke:#000000;stroke-linecap:square;stroke-linejoin:miter;stroke-width:0.8;\"/>\r\n   </g>\r\n   <g id=\"patch_4\">\r\n    <path d=\"M 377.628125 227.933176 \r\nL 377.628125 10.493176 \r\n\" style=\"fill:none;stroke:#000000;stroke-linecap:square;stroke-linejoin:miter;stroke-width:0.8;\"/>\r\n   </g>\r\n   <g id=\"patch_5\">\r\n    <path d=\"M 42.828125 227.933176 \r\nL 377.628125 227.933176 \r\n\" style=\"fill:none;stroke:#000000;stroke-linecap:square;stroke-linejoin:miter;stroke-width:0.8;\"/>\r\n   </g>\r\n   <g id=\"patch_6\">\r\n    <path d=\"M 42.828125 10.493176 \r\nL 377.628125 10.493176 \r\n\" style=\"fill:none;stroke:#000000;stroke-linecap:square;stroke-linejoin:miter;stroke-width:0.8;\"/>\r\n   </g>\r\n  </g>\r\n </g>\r\n <defs>\r\n  <clipPath id=\"pd005b7d4d8\">\r\n   <rect height=\"217.44\" width=\"334.8\" x=\"42.828125\" y=\"10.493176\"/>\r\n  </clipPath>\r\n </defs>\r\n</svg>\r\n",
      "image/png": "[encoded data removed]"
     },
     "metadata": {
      "needs_background": "light"
     }
    }
   ],
   "source": [
    "import matplotlib.pyplot as plt\n",
    "\n",
    "plt.plot(history.history['val_loss'])"
   ]
  },
  {
   "cell_type": "code",
   "execution_count": 11,
   "metadata": {},
   "outputs": [
    {
     "output_type": "stream",
     "name": "stdout",
     "text": [
      "Model: \"functional_3\"\n__________________________________________________________________________________________________\nLayer (type)                    Output Shape         Param #     Connected to                     \n==================================================================================================\nseq_input (InputLayer)          [(None, 35, 100)]    0                                            \n__________________________________________________________________________________________________\nloc_input (InputLayer)          [(None, 7, 100)]     0                                            \n__________________________________________________________________________________________________\nbidirectional_5 (Bidirectional) (None, 35, 256)      234496      seq_input[0][0]                  \n__________________________________________________________________________________________________\nkey_input (InputLayer)          [(None, 3, 100)]     0                                            \n__________________________________________________________________________________________________\nbidirectional_8 (Bidirectional) (None, 7, 256)       234496      loc_input[0][0]                  \n__________________________________________________________________________________________________\nbidirectional_6 (Bidirectional) (None, 256)          394240      bidirectional_5[0][0]            \n__________________________________________________________________________________________________\nbidirectional_7 (Bidirectional) (None, 256)          234496      key_input[0][0]                  \n__________________________________________________________________________________________________\nbidirectional_9 (Bidirectional) (None, 256)          394240      bidirectional_8[0][0]            \n__________________________________________________________________________________________________\nconcatenate_1 (Concatenate)     (None, 768)          0           bidirectional_6[0][0]            \n                                                                 bidirectional_7[0][0]            \n                                                                 bidirectional_9[0][0]            \n__________________________________________________________________________________________________\ndense_2 (Dense)                 (None, 256)          196864      concatenate_1[0][0]              \n__________________________________________________________________________________________________\ndropout_2 (Dropout)             (None, 256)          0           dense_2[0][0]                    \n__________________________________________________________________________________________________\ndense_3 (Dense)                 (None, 64)           16448       dropout_2[0][0]                  \n__________________________________________________________________________________________________\ndropout_3 (Dropout)             (None, 64)           0           dense_3[0][0]                    \n__________________________________________________________________________________________________\noutput (Dense)                  (None, 1)            65          dropout_3[0][0]                  \n==================================================================================================\nTotal params: 1,705,345\nTrainable params: 1,705,345\nNon-trainable params: 0\n__________________________________________________________________________________________________\n"
     ]
    }
   ],
   "source": [
    "# rebuild the same model to reset weights\n",
    "\n",
    "x_seq = tf.keras.layers.Input(shape=(config['text_max_len'], 100), name='seq_input')\n",
    "x1 = tf.keras.layers.Bidirectional(tf.keras.layers.LSTM(128, return_sequences=True))(x_seq)\n",
    "x1 = tf.keras.layers.Bidirectional(tf.keras.layers.LSTM(128))(x1)\n",
    "\n",
    "x_key = tf.keras.layers.Input(shape=(config['key_max_len'], 100), name='key_input')\n",
    "x2 = tf.keras.layers.Bidirectional(tf.keras.layers.LSTM(128))(x_key)\n",
    "\n",
    "x_loc = tf.keras.layers.Input(shape=(config['loc_max_len'], 100), name='loc_input')\n",
    "x3 = tf.keras.layers.Bidirectional(tf.keras.layers.LSTM(128, return_sequences=True))(x_loc)\n",
    "x3 = tf.keras.layers.Bidirectional(tf.keras.layers.LSTM(128))(x3)\n",
    "\n",
    "x = tf.keras.layers.Concatenate()([x1, x2, x3])\n",
    "x = tf.keras.layers.Dense(256, activation='relu')(x)\n",
    "x = tf.keras.layers.Dropout(0.2)(x)\n",
    "x = tf.keras.layers.Dense(64, activation='relu')(x)\n",
    "x = tf.keras.layers.Dropout(0.2)(x)\n",
    "y = tf.keras.layers.Dense(1, activation='sigmoid', name='output')(x)\n",
    "\n",
    "model = tf.keras.models.Model(inputs=[x_seq, x_key, x_loc], outputs=y)\n",
    "adam = tf.keras.optimizers.Adam(learning_rate=0.0001)\n",
    "model.compile(optimizer=adam, loss='binary_crossentropy', metrics=['accuracy'])\n",
    "model.summary()"
   ]
  },
  {
   "cell_type": "code",
   "execution_count": 12,
   "metadata": {},
   "outputs": [
    {
     "output_type": "stream",
     "name": "stdout",
     "text": [
      "Epoch 1/5\n",
      "238/238 [==============================] - 7s 31ms/step - loss: 0.5317 - accuracy: 0.7487\n",
      "Epoch 2/5\n",
      "238/238 [==============================] - 8s 34ms/step - loss: 0.4341 - accuracy: 0.8063\n",
      "Epoch 3/5\n",
      "238/238 [==============================] - 8s 32ms/step - loss: 0.4166 - accuracy: 0.8187\n",
      "Epoch 4/5\n",
      "238/238 [==============================] - 7s 30ms/step - loss: 0.4012 - accuracy: 0.8261\n",
      "Epoch 5/5\n",
      "238/238 [==============================] - 7s 30ms/step - loss: 0.3936 - accuracy: 0.8304\n"
     ]
    }
   ],
   "source": [
    "history = model.fit(x={'seq_input':seq_input, 'key_input':key_input, 'loc_input':loc_input}, y=output, epochs=5)"
   ]
  },
  {
   "cell_type": "code",
   "execution_count": 16,
   "metadata": {},
   "outputs": [
    {
     "output_type": "stream",
     "name": "stdout",
     "text": [
      "seq_input_test Shape:  (3263, 35, 100)\nkey_input_test Shape:  (3263, 3, 100)\nloc_input_test Shape:  (3263, 7, 100)\n"
     ]
    }
   ],
   "source": [
    "# Apply Preprocssing to Test Data\n",
    "\n",
    "test_data = pd.read_csv('test.csv')\n",
    "\n",
    "test_data['location'] = test_data['location'].str.replace('http\\S+', 'http', regex=True) \n",
    "test_data['location'] = test_data['location'].str.replace('&\\S+', '', regex=True)  \n",
    "test_data['location'] = test_data['location'].str.replace('[0-9]','0', regex=True)  \n",
    "test_data['location'] = test_data['location'].str.replace('[^a-zA-Z0 ]', '', regex=True)\n",
    "test_data['location'] = test_data['location'].str.lower()\n",
    "test_data['location'] = test_data['location'].fillna('')\n",
    "\n",
    "test_data['keyword'] = test_data['keyword'].str.replace('%\\d+', ' ', regex=True)\n",
    "test_data['keyword'] = test_data['keyword'].fillna('')\n",
    "\n",
    "test_data['text'] = test_data['text'].str.replace('http\\S+', 'http', regex=True)\n",
    "test_data['text'] = test_data['text'].str.replace('&\\S+', '', regex=True)\n",
    "test_data['text'] = test_data['text'].str.replace('[0-9]','0', regex=True)\n",
    "test_data['text'] = test_data['text'].str.replace('[^a-zA-Z0 ]', '', regex=True)\n",
    "test_data['text'] = test_data['text'].str.lower()\n",
    "\n",
    "key_input_test = embAndPad(test_data['keyword'], config['key_max_len'])\n",
    "loc_input_test = embAndPad(test_data['location'], config['loc_max_len'])\n",
    "seq_input_test = embAndPad(test_data['text'], config['text_max_len'])\n",
    "\n",
    "print(\"seq_input_test Shape: \", seq_input_test.shape)\n",
    "print(\"key_input_test Shape: \", key_input_test.shape)\n",
    "print(\"loc_input_test Shape: \", loc_input_test.shape)"
   ]
  },
  {
   "cell_type": "code",
   "execution_count": 17,
   "metadata": {},
   "outputs": [
    {
     "output_type": "execute_result",
     "data": {
      "text/plain": [
       "array([[1],\n",
       "       [1],\n",
       "       [1],\n",
       "       [1],\n",
       "       [1],\n",
       "       [1],\n",
       "       [0],\n",
       "       [0],\n",
       "       [0],\n",
       "       [0]])"
      ]
     },
     "metadata": {},
     "execution_count": 17
    }
   ],
   "source": [
    "pred = model.predict(x={'seq_input':seq_input_test, 'key_input':key_input_test, 'loc_input':loc_input_test})\n",
    "pred = np.asarray(np.rint(pred), dtype=int)\n",
    "pred[:10]"
   ]
  },
  {
   "cell_type": "code",
   "execution_count": 18,
   "metadata": {},
   "outputs": [
    {
     "output_type": "execute_result",
     "data": {
      "text/plain": [
       "   id  target\n",
       "0   0       1\n",
       "1   2       1\n",
       "2   3       1\n",
       "3   9       1\n",
       "4  11       1\n",
       "5  12       1\n",
       "6  21       0\n",
       "7  22       0\n",
       "8  27       0\n",
       "9  29       0"
      ],
      "text/html": "<div>\n<style scoped>\n    .dataframe tbody tr th:only-of-type {\n        vertical-align: middle;\n    }\n\n    .dataframe tbody tr th {\n        vertical-align: top;\n    }\n\n    .dataframe thead th {\n        text-align: right;\n    }\n</style>\n<table border=\"1\" class=\"dataframe\">\n  <thead>\n    <tr style=\"text-align: right;\">\n      <th></th>\n      <th>id</th>\n      <th>target</th>\n    </tr>\n  </thead>\n  <tbody>\n    <tr>\n      <th>0</th>\n      <td>0</td>\n      <td>1</td>\n    </tr>\n    <tr>\n      <th>1</th>\n      <td>2</td>\n      <td>1</td>\n    </tr>\n    <tr>\n      <th>2</th>\n      <td>3</td>\n      <td>1</td>\n    </tr>\n    <tr>\n      <th>3</th>\n      <td>9</td>\n      <td>1</td>\n    </tr>\n    <tr>\n      <th>4</th>\n      <td>11</td>\n      <td>1</td>\n    </tr>\n    <tr>\n      <th>5</th>\n      <td>12</td>\n      <td>1</td>\n    </tr>\n    <tr>\n      <th>6</th>\n      <td>21</td>\n      <td>0</td>\n    </tr>\n    <tr>\n      <th>7</th>\n      <td>22</td>\n      <td>0</td>\n    </tr>\n    <tr>\n      <th>8</th>\n      <td>27</td>\n      <td>0</td>\n    </tr>\n    <tr>\n      <th>9</th>\n      <td>29</td>\n      <td>0</td>\n    </tr>\n  </tbody>\n</table>\n</div>"
     },
     "metadata": {},
     "execution_count": 18
    }
   ],
   "source": [
    "submission = pd.DataFrame()\n",
    "submission['id'] = test_data['id']\n",
    "submission['target'] = pred\n",
    "submission.head(10)"
   ]
  },
  {
   "cell_type": "code",
   "execution_count": 44,
   "metadata": {},
   "outputs": [],
   "source": [
    "submission.to_csv('submission2.csv', index=False)\n",
    "# Accuracy Score : 0.81366"
   ]
  }
 ]
}