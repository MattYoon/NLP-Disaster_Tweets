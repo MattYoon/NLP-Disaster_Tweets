{
 "metadata": {
  "language_info": {
   "codemirror_mode": {
    "name": "ipython",
    "version": 3
   },
   "file_extension": ".py",
   "mimetype": "text/x-python",
   "name": "python",
   "nbconvert_exporter": "python",
   "pygments_lexer": "ipython3",
   "version": "3.6.5-final"
  },
  "orig_nbformat": 2,
  "kernelspec": {
   "name": "python3",
   "display_name": "Python 3",
   "language": "python"
  }
 },
 "nbformat": 4,
 "nbformat_minor": 2,
 "cells": [
  {
   "source": [
    "#  CNN Model With Pre-Trained ELMo Embedding"
   ],
   "cell_type": "markdown",
   "metadata": {}
  },
  {
   "cell_type": "code",
   "execution_count": 1,
   "metadata": {},
   "outputs": [
    {
     "output_type": "execute_result",
     "data": {
      "text/plain": [
       "        id         keyword                   location  \\\n",
       "1000  1452  body%20bagging                        NaN   \n",
       "1001  1453  body%20bagging                        NaN   \n",
       "1002  1454  body%20bagging                        NaN   \n",
       "1003  1455  body%20bagging  3?3?7?SLOPelousas??2?2?5?   \n",
       "1004  1456  body%20bagging                        NaN   \n",
       "1005  1458  body%20bagging                        316   \n",
       "1006  1459  body%20bagging                     Global   \n",
       "1007  1460  body%20bagging             #WhereverI'mAt   \n",
       "1008  1463  body%20bagging          Huber Heights, OH   \n",
       "1009  1464  body%20bagging                        NaN   \n",
       "\n",
       "                                                   text  target  \n",
       "1000  #OVOFest Drake straight body bagging Meek on t...       0  \n",
       "1001  I'm not a Drake fan but I enjoy seeing him bod...       0  \n",
       "1002  @amaramin3 Meek is definitely capable of body ...       0  \n",
       "1003  Gates not body bagging nobody???????? niggas i...       0  \n",
       "1004  WWE 2k15 MyCareer EP18 Tyrone body bagging dud...       0  \n",
       "1005  'I did another one I did another one. You stil...       1  \n",
       "1006  Drake Body Bagging Meek. He must of hit a sens...       0  \n",
       "1007  Good diss bad beat and flow. Mark my words Mee...       0  \n",
       "1008  @Drake is body bagging meek meanwhile he's on ...       0  \n",
       "1009  @MzGracieBaby for the record im jumpin out the...       0  "
      ],
      "text/html": "<div>\n<style scoped>\n    .dataframe tbody tr th:only-of-type {\n        vertical-align: middle;\n    }\n\n    .dataframe tbody tr th {\n        vertical-align: top;\n    }\n\n    .dataframe thead th {\n        text-align: right;\n    }\n</style>\n<table border=\"1\" class=\"dataframe\">\n  <thead>\n    <tr style=\"text-align: right;\">\n      <th></th>\n      <th>id</th>\n      <th>keyword</th>\n      <th>location</th>\n      <th>text</th>\n      <th>target</th>\n    </tr>\n  </thead>\n  <tbody>\n    <tr>\n      <th>1000</th>\n      <td>1452</td>\n      <td>body%20bagging</td>\n      <td>NaN</td>\n      <td>#OVOFest Drake straight body bagging Meek on t...</td>\n      <td>0</td>\n    </tr>\n    <tr>\n      <th>1001</th>\n      <td>1453</td>\n      <td>body%20bagging</td>\n      <td>NaN</td>\n      <td>I'm not a Drake fan but I enjoy seeing him bod...</td>\n      <td>0</td>\n    </tr>\n    <tr>\n      <th>1002</th>\n      <td>1454</td>\n      <td>body%20bagging</td>\n      <td>NaN</td>\n      <td>@amaramin3 Meek is definitely capable of body ...</td>\n      <td>0</td>\n    </tr>\n    <tr>\n      <th>1003</th>\n      <td>1455</td>\n      <td>body%20bagging</td>\n      <td>3?3?7?SLOPelousas??2?2?5?</td>\n      <td>Gates not body bagging nobody???????? niggas i...</td>\n      <td>0</td>\n    </tr>\n    <tr>\n      <th>1004</th>\n      <td>1456</td>\n      <td>body%20bagging</td>\n      <td>NaN</td>\n      <td>WWE 2k15 MyCareer EP18 Tyrone body bagging dud...</td>\n      <td>0</td>\n    </tr>\n    <tr>\n      <th>1005</th>\n      <td>1458</td>\n      <td>body%20bagging</td>\n      <td>316</td>\n      <td>'I did another one I did another one. You stil...</td>\n      <td>1</td>\n    </tr>\n    <tr>\n      <th>1006</th>\n      <td>1459</td>\n      <td>body%20bagging</td>\n      <td>Global</td>\n      <td>Drake Body Bagging Meek. He must of hit a sens...</td>\n      <td>0</td>\n    </tr>\n    <tr>\n      <th>1007</th>\n      <td>1460</td>\n      <td>body%20bagging</td>\n      <td>#WhereverI'mAt</td>\n      <td>Good diss bad beat and flow. Mark my words Mee...</td>\n      <td>0</td>\n    </tr>\n    <tr>\n      <th>1008</th>\n      <td>1463</td>\n      <td>body%20bagging</td>\n      <td>Huber Heights, OH</td>\n      <td>@Drake is body bagging meek meanwhile he's on ...</td>\n      <td>0</td>\n    </tr>\n    <tr>\n      <th>1009</th>\n      <td>1464</td>\n      <td>body%20bagging</td>\n      <td>NaN</td>\n      <td>@MzGracieBaby for the record im jumpin out the...</td>\n      <td>0</td>\n    </tr>\n  </tbody>\n</table>\n</div>"
     },
     "metadata": {},
     "execution_count": 1
    }
   ],
   "source": [
    "import pandas as pd\n",
    "import numpy as np\n",
    "\n",
    "data = pd.read_csv('train.csv')\n",
    "data[1000:].head(10)"
   ]
  },
  {
   "cell_type": "code",
   "execution_count": 2,
   "metadata": {},
   "outputs": [
    {
     "output_type": "execute_result",
     "data": {
      "text/plain": [
       "        id         keyword                   location  \\\n",
       "1000  1452  body%20bagging                        NaN   \n",
       "1001  1453  body%20bagging                        NaN   \n",
       "1002  1454  body%20bagging                        NaN   \n",
       "1003  1455  body%20bagging  3?3?7?SLOPelousas??2?2?5?   \n",
       "1004  1456  body%20bagging                        NaN   \n",
       "1005  1458  body%20bagging                        316   \n",
       "1006  1459  body%20bagging                     Global   \n",
       "1007  1460  body%20bagging             #WhereverI'mAt   \n",
       "1008  1463  body%20bagging          Huber Heights, OH   \n",
       "1009  1464  body%20bagging                        NaN   \n",
       "\n",
       "                                                   text  target  \n",
       "1000  ovofest drake straight body bagging meek on th...       0  \n",
       "1001  im not a drake fan but i enjoy seeing him body...       0  \n",
       "1002  amaramin0 meek is definitely capable of body b...       0  \n",
       "1003  gates not body bagging nobody niggas in br rea...       0  \n",
       "1004  wwe 0k00 mycareer ep00 tyrone body bagging dud...       0  \n",
       "1005  i did another one i did another one you still ...       1  \n",
       "1006  drake body bagging meek he must of hit a sensi...       0  \n",
       "1007  good diss bad beat and flow mark my words meek...       0  \n",
       "1008  drake is body bagging meek meanwhile hes on to...       0  \n",
       "1009  mzgraciebaby for the record im jumpin out the ...       0  "
      ],
      "text/html": "<div>\n<style scoped>\n    .dataframe tbody tr th:only-of-type {\n        vertical-align: middle;\n    }\n\n    .dataframe tbody tr th {\n        vertical-align: top;\n    }\n\n    .dataframe thead th {\n        text-align: right;\n    }\n</style>\n<table border=\"1\" class=\"dataframe\">\n  <thead>\n    <tr style=\"text-align: right;\">\n      <th></th>\n      <th>id</th>\n      <th>keyword</th>\n      <th>location</th>\n      <th>text</th>\n      <th>target</th>\n    </tr>\n  </thead>\n  <tbody>\n    <tr>\n      <th>1000</th>\n      <td>1452</td>\n      <td>body%20bagging</td>\n      <td>NaN</td>\n      <td>ovofest drake straight body bagging meek on th...</td>\n      <td>0</td>\n    </tr>\n    <tr>\n      <th>1001</th>\n      <td>1453</td>\n      <td>body%20bagging</td>\n      <td>NaN</td>\n      <td>im not a drake fan but i enjoy seeing him body...</td>\n      <td>0</td>\n    </tr>\n    <tr>\n      <th>1002</th>\n      <td>1454</td>\n      <td>body%20bagging</td>\n      <td>NaN</td>\n      <td>amaramin0 meek is definitely capable of body b...</td>\n      <td>0</td>\n    </tr>\n    <tr>\n      <th>1003</th>\n      <td>1455</td>\n      <td>body%20bagging</td>\n      <td>3?3?7?SLOPelousas??2?2?5?</td>\n      <td>gates not body bagging nobody niggas in br rea...</td>\n      <td>0</td>\n    </tr>\n    <tr>\n      <th>1004</th>\n      <td>1456</td>\n      <td>body%20bagging</td>\n      <td>NaN</td>\n      <td>wwe 0k00 mycareer ep00 tyrone body bagging dud...</td>\n      <td>0</td>\n    </tr>\n    <tr>\n      <th>1005</th>\n      <td>1458</td>\n      <td>body%20bagging</td>\n      <td>316</td>\n      <td>i did another one i did another one you still ...</td>\n      <td>1</td>\n    </tr>\n    <tr>\n      <th>1006</th>\n      <td>1459</td>\n      <td>body%20bagging</td>\n      <td>Global</td>\n      <td>drake body bagging meek he must of hit a sensi...</td>\n      <td>0</td>\n    </tr>\n    <tr>\n      <th>1007</th>\n      <td>1460</td>\n      <td>body%20bagging</td>\n      <td>#WhereverI'mAt</td>\n      <td>good diss bad beat and flow mark my words meek...</td>\n      <td>0</td>\n    </tr>\n    <tr>\n      <th>1008</th>\n      <td>1463</td>\n      <td>body%20bagging</td>\n      <td>Huber Heights, OH</td>\n      <td>drake is body bagging meek meanwhile hes on to...</td>\n      <td>0</td>\n    </tr>\n    <tr>\n      <th>1009</th>\n      <td>1464</td>\n      <td>body%20bagging</td>\n      <td>NaN</td>\n      <td>mzgraciebaby for the record im jumpin out the ...</td>\n      <td>0</td>\n    </tr>\n  </tbody>\n</table>\n</div>"
     },
     "metadata": {},
     "execution_count": 2
    }
   ],
   "source": [
    "data['text'] = data['text'].str.replace('http\\S+', 'http', regex=True)  # replace all URLs with \"http\"\n",
    "data['text'] = data['text'].str.replace('&\\S+', '', regex=True)  # remove all html junks\n",
    "data['text'] = data['text'].str.replace('[0-9]','0', regex=True)  # replace all integer valeus with 0\n",
    "data['text'] = data['text'].str.replace('[^a-zA-Z0 ]', '', regex=True)\n",
    "data['text'] = data['text'].str.lower()\n",
    "\n",
    "data[1000:].head(10)"
   ]
  },
  {
   "cell_type": "code",
   "execution_count": 3,
   "metadata": {},
   "outputs": [
    {
     "output_type": "execute_result",
     "data": {
      "text/plain": [
       "[['Kevin', 'drink'], ['Yoon', 'life', 'again']]"
      ]
     },
     "metadata": {},
     "execution_count": 3
    }
   ],
   "source": [
    "from nltk.stem import WordNetLemmatizer\n",
    "\n",
    "lemm = WordNetLemmatizer()\n",
    "\n",
    "def lemmatize(pd_series):\n",
    "    ret = []\n",
    "    for entry in pd_series:\n",
    "        words = entry.split()\n",
    "        lemm_sent = [lemm.lemmatize(word) for word in words]\n",
    "        ret.append(lemm_sent)\n",
    "    return ret\n",
    "\n",
    "lemmatize(['Kevin drinks', 'Yoon lives again'])"
   ]
  },
  {
   "cell_type": "code",
   "execution_count": 4,
   "metadata": {},
   "outputs": [],
   "source": [
    "# from simple_elmo import ElmoModel\n",
    "\n",
    "# elmo = ElmoModel()\n",
    "# elmo.load('./209')  # http://vectors.nlpl.eu/repository/  ELMo with 1024 dim vectors\n",
    "\n",
    "# result = elmo.get_elmo_vectors([['Kevin', 'drink'], ['Yoon', 'life', 'again']])\n",
    "# print(result.shape)  # (2, 3 ,1024) --> (sentence_count, max_sent_len ,ELMo Embedding Size)"
   ]
  },
  {
   "cell_type": "code",
   "execution_count": 5,
   "metadata": {
    "tags": []
   },
   "outputs": [],
   "source": [
    "# seq_input = lemmatize(data['text'])\n",
    "# seq_input = elmo.get_elmo_vectors(seq_input)\n",
    "\n",
    "# import pickle\n",
    "\n",
    "# with open('ELMo/seq_input_elmo.pickle', 'wb') as file:\n",
    "#     pickle.dump(seq_input, file) "
   ]
  },
  {
   "cell_type": "code",
   "execution_count": 3,
   "metadata": {},
   "outputs": [
    {
     "output_type": "stream",
     "name": "stdout",
     "text": [
      "seq_input Shape:  (7613, 31, 1024)\noutput Shape:  (7613,)\n"
     ]
    }
   ],
   "source": [
    "import pickle\n",
    "\n",
    "with open('ELMo/seq_input_elmo.pickle', 'rb') as file:\n",
    "    seq_input = pickle.load(file)\n",
    "\n",
    "output = data['target'].to_numpy()\n",
    "\n",
    "print(\"seq_input Shape: \", seq_input.shape)\n",
    "print(\"output Shape: \", output.shape)"
   ]
  },
  {
   "cell_type": "code",
   "execution_count": 28,
   "metadata": {},
   "outputs": [
    {
     "output_type": "stream",
     "name": "stdout",
     "text": [
      "Model: \"functional_25\"\n__________________________________________________________________________________________________\nLayer (type)                    Output Shape         Param #     Connected to                     \n==================================================================================================\nseq_input (InputLayer)          [(None, 31, 1024)]   0                                            \n__________________________________________________________________________________________________\nconv1d_30 (Conv1D)              (None, 27, 256)      1310976     seq_input[0][0]                  \n__________________________________________________________________________________________________\nconv1d_31 (Conv1D)              (None, 28, 256)      1048832     seq_input[0][0]                  \n__________________________________________________________________________________________________\nconv1d_32 (Conv1D)              (None, 29, 256)      786688      seq_input[0][0]                  \n__________________________________________________________________________________________________\nglobal_average_pooling1d_27 (Gl (None, 256)          0           conv1d_30[0][0]                  \n__________________________________________________________________________________________________\nglobal_average_pooling1d_28 (Gl (None, 256)          0           conv1d_31[0][0]                  \n__________________________________________________________________________________________________\nglobal_average_pooling1d_29 (Gl (None, 256)          0           conv1d_32[0][0]                  \n__________________________________________________________________________________________________\nconcatenate_8 (Concatenate)     (None, 768)          0           global_average_pooling1d_27[0][0]\n                                                                 global_average_pooling1d_28[0][0]\n                                                                 global_average_pooling1d_29[0][0]\n__________________________________________________________________________________________________\ndense_18 (Dense)                (None, 64)           49216       concatenate_8[0][0]              \n__________________________________________________________________________________________________\ndropout_17 (Dropout)            (None, 64)           0           dense_18[0][0]                   \n__________________________________________________________________________________________________\ndense_19 (Dense)                (None, 16)           1040        dropout_17[0][0]                 \n__________________________________________________________________________________________________\ndropout_18 (Dropout)            (None, 16)           0           dense_19[0][0]                   \n__________________________________________________________________________________________________\noutput (Dense)                  (None, 1)            17          dropout_18[0][0]                 \n==================================================================================================\nTotal params: 3,196,769\nTrainable params: 3,196,769\nNon-trainable params: 0\n__________________________________________________________________________________________________\n"
     ]
    }
   ],
   "source": [
    "import tensorflow as tf\n",
    "\n",
    "x_seq = tf.keras.layers.Input(shape=(31, 1024), name='seq_input')\n",
    "\n",
    "x1 = tf.keras.layers.Conv1D(256, 5, activation='relu')(x_seq)\n",
    "x1 = tf.keras.layers.GlobalAveragePooling1D()(x1)\n",
    "\n",
    "x2 = tf.keras.layers.Conv1D(256, 4, activation='relu')(x_seq)\n",
    "x2 = tf.keras.layers.GlobalAveragePooling1D()(x2)\n",
    "\n",
    "x3 = tf.keras.layers.Conv1D(256, 3, activation='relu')(x_seq)\n",
    "x3 = tf.keras.layers.GlobalAveragePooling1D()(x3)\n",
    "\n",
    "x = tf.keras.layers.Concatenate()([x1, x2, x3])\n",
    "\n",
    "x = tf.keras.layers.Dense(64, activation='relu')(x)\n",
    "x = tf.keras.layers.Dropout(0.2)(x)\n",
    "x = tf.keras.layers.Dense(16, activation='relu')(x)\n",
    "x = tf.keras.layers.Dropout(0.2)(x)\n",
    "y = tf.keras.layers.Dense(1, activation='sigmoid', name='output')(x)\n",
    "\n",
    "model = tf.keras.models.Model(inputs=[x_seq], outputs=y)\n",
    "adam = tf.keras.optimizers.Adam(learning_rate=0.0001)\n",
    "model.compile(optimizer=adam, loss='binary_crossentropy', metrics=['accuracy'])\n",
    "model.summary()"
   ]
  },
  {
   "cell_type": "code",
   "execution_count": 29,
   "metadata": {},
   "outputs": [
    {
     "output_type": "stream",
     "name": "stdout",
     "text": [
      "Epoch 1/20\n",
      "191/191 [==============================] - 3s 13ms/step - loss: 0.5106 - accuracy: 0.7767 - val_loss: 0.4319 - val_accuracy: 0.8070\n",
      "Epoch 2/20\n",
      "191/191 [==============================] - 2s 13ms/step - loss: 0.4375 - accuracy: 0.8130 - val_loss: 0.4391 - val_accuracy: 0.8070\n",
      "Epoch 3/20\n",
      "191/191 [==============================] - 2s 13ms/step - loss: 0.4182 - accuracy: 0.8222 - val_loss: 0.4211 - val_accuracy: 0.8102\n",
      "Epoch 4/20\n",
      "191/191 [==============================] - 2s 13ms/step - loss: 0.3986 - accuracy: 0.8287 - val_loss: 0.4175 - val_accuracy: 0.8155\n",
      "Epoch 5/20\n",
      "191/191 [==============================] - 2s 13ms/step - loss: 0.3811 - accuracy: 0.8381 - val_loss: 0.4164 - val_accuracy: 0.8168\n",
      "Epoch 6/20\n",
      "191/191 [==============================] - 2s 13ms/step - loss: 0.3599 - accuracy: 0.8517 - val_loss: 0.4203 - val_accuracy: 0.8181\n",
      "Epoch 7/20\n",
      "191/191 [==============================] - 2s 13ms/step - loss: 0.3442 - accuracy: 0.8576 - val_loss: 0.4233 - val_accuracy: 0.8207\n",
      "Epoch 8/20\n",
      "191/191 [==============================] - 2s 13ms/step - loss: 0.3267 - accuracy: 0.8704 - val_loss: 0.4220 - val_accuracy: 0.8201\n",
      "Epoch 9/20\n",
      "191/191 [==============================] - 2s 13ms/step - loss: 0.3086 - accuracy: 0.8787 - val_loss: 0.4335 - val_accuracy: 0.8227\n",
      "Epoch 10/20\n",
      "191/191 [==============================] - 2s 13ms/step - loss: 0.2888 - accuracy: 0.8856 - val_loss: 0.4842 - val_accuracy: 0.7945\n",
      "Epoch 11/20\n",
      "191/191 [==============================] - 2s 13ms/step - loss: 0.2654 - accuracy: 0.8974 - val_loss: 0.4625 - val_accuracy: 0.8148\n",
      "Epoch 12/20\n",
      "191/191 [==============================] - 2s 13ms/step - loss: 0.2461 - accuracy: 0.9080 - val_loss: 0.4605 - val_accuracy: 0.8076\n",
      "Epoch 13/20\n",
      "191/191 [==============================] - 2s 12ms/step - loss: 0.2139 - accuracy: 0.9209 - val_loss: 0.4882 - val_accuracy: 0.8050\n",
      "Epoch 14/20\n",
      "191/191 [==============================] - 2s 12ms/step - loss: 0.1946 - accuracy: 0.9284 - val_loss: 0.5313 - val_accuracy: 0.8096\n",
      "Epoch 15/20\n",
      "191/191 [==============================] - 2s 12ms/step - loss: 0.1771 - accuracy: 0.9389 - val_loss: 0.5775 - val_accuracy: 0.8096\n",
      "Epoch 16/20\n",
      "191/191 [==============================] - 2s 12ms/step - loss: 0.1595 - accuracy: 0.9433 - val_loss: 0.5625 - val_accuracy: 0.8037\n",
      "Epoch 17/20\n",
      "191/191 [==============================] - 2s 13ms/step - loss: 0.1433 - accuracy: 0.9530 - val_loss: 0.6013 - val_accuracy: 0.8063\n",
      "Epoch 18/20\n",
      "191/191 [==============================] - 2s 13ms/step - loss: 0.1267 - accuracy: 0.9591 - val_loss: 0.6108 - val_accuracy: 0.8037\n",
      "Epoch 19/20\n",
      "191/191 [==============================] - 2s 13ms/step - loss: 0.1128 - accuracy: 0.9635 - val_loss: 0.7202 - val_accuracy: 0.7676\n",
      "Epoch 20/20\n",
      "191/191 [==============================] - 2s 13ms/step - loss: 0.1056 - accuracy: 0.9657 - val_loss: 0.6523 - val_accuracy: 0.8011\n"
     ]
    }
   ],
   "source": [
    "history = model.fit(x={'seq_input':seq_input}, y=output, epochs=20, validation_split=0.2)"
   ]
  },
  {
   "cell_type": "code",
   "execution_count": 30,
   "metadata": {},
   "outputs": [
    {
     "output_type": "execute_result",
     "data": {
      "text/plain": [
       "[<matplotlib.lines.Line2D at 0x24607fb97f0>]"
      ]
     },
     "metadata": {},
     "execution_count": 30
    },
    {
     "output_type": "display_data",
     "data": {
      "text/plain": "<Figure size 432x288 with 1 Axes>",
      "image/svg+xml": "<?xml version=\"1.0\" encoding=\"utf-8\" standalone=\"no\"?>\r\n<!DOCTYPE svg PUBLIC \"-//W3C//DTD SVG 1.1//EN\"\r\n  \"http://www.w3.org/Graphics/SVG/1.1/DTD/svg11.dtd\">\r\n<!-- Created with matplotlib (https://matplotlib.org/) -->\r\n<svg height=\"248.518125pt\" version=\"1.1\" viewBox=\"0 0 378.465625 248.518125\" width=\"378.465625pt\" xmlns=\"http://www.w3.org/2000/svg\" xmlns:xlink=\"http://www.w3.org/1999/xlink\">\r\n <defs>\r\n  <style type=\"text/css\">\r\n*{stroke-linecap:butt;stroke-linejoin:round;}\r\n  </style>\r\n </defs>\r\n <g id=\"figure_1\">\r\n  <g id=\"patch_1\">\r\n   <path d=\"M 0 248.518125 \r\nL 378.465625 248.518125 \r\nL 378.465625 0 \r\nL 0 0 \r\nz\r\n\" style=\"fill:none;\"/>\r\n  </g>\r\n  <g id=\"axes_1\">\r\n   <g id=\"patch_2\">\r\n    <path d=\"M 36.465625 224.64 \r\nL 371.265625 224.64 \r\nL 371.265625 7.2 \r\nL 36.465625 7.2 \r\nz\r\n\" style=\"fill:#ffffff;\"/>\r\n   </g>\r\n   <g id=\"matplotlib.axis_1\">\r\n    <g id=\"xtick_1\">\r\n     <g id=\"line2d_1\">\r\n      <defs>\r\n       <path d=\"M 0 0 \r\nL 0 3.5 \r\n\" id=\"m03f8c62a05\" style=\"stroke:#000000;stroke-width:0.8;\"/>\r\n      </defs>\r\n      <g>\r\n       <use style=\"stroke:#000000;stroke-width:0.8;\" x=\"51.683807\" xlink:href=\"#m03f8c62a05\" y=\"224.64\"/>\r\n      </g>\r\n     </g>\r\n     <g id=\"text_1\">\r\n      <!-- 0.0 -->\r\n      <defs>\r\n       <path d=\"M 31.78125 66.40625 \r\nQ 24.171875 66.40625 20.328125 58.90625 \r\nQ 16.5 51.421875 16.5 36.375 \r\nQ 16.5 21.390625 20.328125 13.890625 \r\nQ 24.171875 6.390625 31.78125 6.390625 \r\nQ 39.453125 6.390625 43.28125 13.890625 \r\nQ 47.125 21.390625 47.125 36.375 \r\nQ 47.125 51.421875 43.28125 58.90625 \r\nQ 39.453125 66.40625 31.78125 66.40625 \r\nz\r\nM 31.78125 74.21875 \r\nQ 44.046875 74.21875 50.515625 64.515625 \r\nQ 56.984375 54.828125 56.984375 36.375 \r\nQ 56.984375 17.96875 50.515625 8.265625 \r\nQ 44.046875 -1.421875 31.78125 -1.421875 \r\nQ 19.53125 -1.421875 13.0625 8.265625 \r\nQ 6.59375 17.96875 6.59375 36.375 \r\nQ 6.59375 54.828125 13.0625 64.515625 \r\nQ 19.53125 74.21875 31.78125 74.21875 \r\nz\r\n\" id=\"DejaVuSans-48\"/>\r\n       <path d=\"M 10.6875 12.40625 \r\nL 21 12.40625 \r\nL 21 0 \r\nL 10.6875 0 \r\nz\r\n\" id=\"DejaVuSans-46\"/>\r\n      </defs>\r\n      <g transform=\"translate(43.732244 239.238438)scale(0.1 -0.1)\">\r\n       <use xlink:href=\"#DejaVuSans-48\"/>\r\n       <use x=\"63.623047\" xlink:href=\"#DejaVuSans-46\"/>\r\n       <use x=\"95.410156\" xlink:href=\"#DejaVuSans-48\"/>\r\n      </g>\r\n     </g>\r\n    </g>\r\n    <g id=\"xtick_2\">\r\n     <g id=\"line2d_2\">\r\n      <g>\r\n       <use style=\"stroke:#000000;stroke-width:0.8;\" x=\"91.731654\" xlink:href=\"#m03f8c62a05\" y=\"224.64\"/>\r\n      </g>\r\n     </g>\r\n     <g id=\"text_2\">\r\n      <!-- 2.5 -->\r\n      <defs>\r\n       <path d=\"M 19.1875 8.296875 \r\nL 53.609375 8.296875 \r\nL 53.609375 0 \r\nL 7.328125 0 \r\nL 7.328125 8.296875 \r\nQ 12.9375 14.109375 22.625 23.890625 \r\nQ 32.328125 33.6875 34.8125 36.53125 \r\nQ 39.546875 41.84375 41.421875 45.53125 \r\nQ 43.3125 49.21875 43.3125 52.78125 \r\nQ 43.3125 58.59375 39.234375 62.25 \r\nQ 35.15625 65.921875 28.609375 65.921875 \r\nQ 23.96875 65.921875 18.8125 64.3125 \r\nQ 13.671875 62.703125 7.8125 59.421875 \r\nL 7.8125 69.390625 \r\nQ 13.765625 71.78125 18.9375 73 \r\nQ 24.125 74.21875 28.421875 74.21875 \r\nQ 39.75 74.21875 46.484375 68.546875 \r\nQ 53.21875 62.890625 53.21875 53.421875 \r\nQ 53.21875 48.921875 51.53125 44.890625 \r\nQ 49.859375 40.875 45.40625 35.40625 \r\nQ 44.1875 33.984375 37.640625 27.21875 \r\nQ 31.109375 20.453125 19.1875 8.296875 \r\nz\r\n\" id=\"DejaVuSans-50\"/>\r\n       <path d=\"M 10.796875 72.90625 \r\nL 49.515625 72.90625 \r\nL 49.515625 64.59375 \r\nL 19.828125 64.59375 \r\nL 19.828125 46.734375 \r\nQ 21.96875 47.46875 24.109375 47.828125 \r\nQ 26.265625 48.1875 28.421875 48.1875 \r\nQ 40.625 48.1875 47.75 41.5 \r\nQ 54.890625 34.8125 54.890625 23.390625 \r\nQ 54.890625 11.625 47.5625 5.09375 \r\nQ 40.234375 -1.421875 26.90625 -1.421875 \r\nQ 22.3125 -1.421875 17.546875 -0.640625 \r\nQ 12.796875 0.140625 7.71875 1.703125 \r\nL 7.71875 11.625 \r\nQ 12.109375 9.234375 16.796875 8.0625 \r\nQ 21.484375 6.890625 26.703125 6.890625 \r\nQ 35.15625 6.890625 40.078125 11.328125 \r\nQ 45.015625 15.765625 45.015625 23.390625 \r\nQ 45.015625 31 40.078125 35.4375 \r\nQ 35.15625 39.890625 26.703125 39.890625 \r\nQ 22.75 39.890625 18.8125 39.015625 \r\nQ 14.890625 38.140625 10.796875 36.28125 \r\nz\r\n\" id=\"DejaVuSans-53\"/>\r\n      </defs>\r\n      <g transform=\"translate(83.780091 239.238438)scale(0.1 -0.1)\">\r\n       <use xlink:href=\"#DejaVuSans-50\"/>\r\n       <use x=\"63.623047\" xlink:href=\"#DejaVuSans-46\"/>\r\n       <use x=\"95.410156\" xlink:href=\"#DejaVuSans-53\"/>\r\n      </g>\r\n     </g>\r\n    </g>\r\n    <g id=\"xtick_3\">\r\n     <g id=\"line2d_3\">\r\n      <g>\r\n       <use style=\"stroke:#000000;stroke-width:0.8;\" x=\"131.779501\" xlink:href=\"#m03f8c62a05\" y=\"224.64\"/>\r\n      </g>\r\n     </g>\r\n     <g id=\"text_3\">\r\n      <!-- 5.0 -->\r\n      <g transform=\"translate(123.827938 239.238438)scale(0.1 -0.1)\">\r\n       <use xlink:href=\"#DejaVuSans-53\"/>\r\n       <use x=\"63.623047\" xlink:href=\"#DejaVuSans-46\"/>\r\n       <use x=\"95.410156\" xlink:href=\"#DejaVuSans-48\"/>\r\n      </g>\r\n     </g>\r\n    </g>\r\n    <g id=\"xtick_4\">\r\n     <g id=\"line2d_4\">\r\n      <g>\r\n       <use style=\"stroke:#000000;stroke-width:0.8;\" x=\"171.827347\" xlink:href=\"#m03f8c62a05\" y=\"224.64\"/>\r\n      </g>\r\n     </g>\r\n     <g id=\"text_4\">\r\n      <!-- 7.5 -->\r\n      <defs>\r\n       <path d=\"M 8.203125 72.90625 \r\nL 55.078125 72.90625 \r\nL 55.078125 68.703125 \r\nL 28.609375 0 \r\nL 18.3125 0 \r\nL 43.21875 64.59375 \r\nL 8.203125 64.59375 \r\nz\r\n\" id=\"DejaVuSans-55\"/>\r\n      </defs>\r\n      <g transform=\"translate(163.875785 239.238438)scale(0.1 -0.1)\">\r\n       <use xlink:href=\"#DejaVuSans-55\"/>\r\n       <use x=\"63.623047\" xlink:href=\"#DejaVuSans-46\"/>\r\n       <use x=\"95.410156\" xlink:href=\"#DejaVuSans-53\"/>\r\n      </g>\r\n     </g>\r\n    </g>\r\n    <g id=\"xtick_5\">\r\n     <g id=\"line2d_5\">\r\n      <g>\r\n       <use style=\"stroke:#000000;stroke-width:0.8;\" x=\"211.875194\" xlink:href=\"#m03f8c62a05\" y=\"224.64\"/>\r\n      </g>\r\n     </g>\r\n     <g id=\"text_5\">\r\n      <!-- 10.0 -->\r\n      <defs>\r\n       <path d=\"M 12.40625 8.296875 \r\nL 28.515625 8.296875 \r\nL 28.515625 63.921875 \r\nL 10.984375 60.40625 \r\nL 10.984375 69.390625 \r\nL 28.421875 72.90625 \r\nL 38.28125 72.90625 \r\nL 38.28125 8.296875 \r\nL 54.390625 8.296875 \r\nL 54.390625 0 \r\nL 12.40625 0 \r\nz\r\n\" id=\"DejaVuSans-49\"/>\r\n      </defs>\r\n      <g transform=\"translate(200.742382 239.238438)scale(0.1 -0.1)\">\r\n       <use xlink:href=\"#DejaVuSans-49\"/>\r\n       <use x=\"63.623047\" xlink:href=\"#DejaVuSans-48\"/>\r\n       <use x=\"127.246094\" xlink:href=\"#DejaVuSans-46\"/>\r\n       <use x=\"159.033203\" xlink:href=\"#DejaVuSans-48\"/>\r\n      </g>\r\n     </g>\r\n    </g>\r\n    <g id=\"xtick_6\">\r\n     <g id=\"line2d_6\">\r\n      <g>\r\n       <use style=\"stroke:#000000;stroke-width:0.8;\" x=\"251.923041\" xlink:href=\"#m03f8c62a05\" y=\"224.64\"/>\r\n      </g>\r\n     </g>\r\n     <g id=\"text_6\">\r\n      <!-- 12.5 -->\r\n      <g transform=\"translate(240.790229 239.238438)scale(0.1 -0.1)\">\r\n       <use xlink:href=\"#DejaVuSans-49\"/>\r\n       <use x=\"63.623047\" xlink:href=\"#DejaVuSans-50\"/>\r\n       <use x=\"127.246094\" xlink:href=\"#DejaVuSans-46\"/>\r\n       <use x=\"159.033203\" xlink:href=\"#DejaVuSans-53\"/>\r\n      </g>\r\n     </g>\r\n    </g>\r\n    <g id=\"xtick_7\">\r\n     <g id=\"line2d_7\">\r\n      <g>\r\n       <use style=\"stroke:#000000;stroke-width:0.8;\" x=\"291.970888\" xlink:href=\"#m03f8c62a05\" y=\"224.64\"/>\r\n      </g>\r\n     </g>\r\n     <g id=\"text_7\">\r\n      <!-- 15.0 -->\r\n      <g transform=\"translate(280.838076 239.238438)scale(0.1 -0.1)\">\r\n       <use xlink:href=\"#DejaVuSans-49\"/>\r\n       <use x=\"63.623047\" xlink:href=\"#DejaVuSans-53\"/>\r\n       <use x=\"127.246094\" xlink:href=\"#DejaVuSans-46\"/>\r\n       <use x=\"159.033203\" xlink:href=\"#DejaVuSans-48\"/>\r\n      </g>\r\n     </g>\r\n    </g>\r\n    <g id=\"xtick_8\">\r\n     <g id=\"line2d_8\">\r\n      <g>\r\n       <use style=\"stroke:#000000;stroke-width:0.8;\" x=\"332.018735\" xlink:href=\"#m03f8c62a05\" y=\"224.64\"/>\r\n      </g>\r\n     </g>\r\n     <g id=\"text_8\">\r\n      <!-- 17.5 -->\r\n      <g transform=\"translate(320.885923 239.238438)scale(0.1 -0.1)\">\r\n       <use xlink:href=\"#DejaVuSans-49\"/>\r\n       <use x=\"63.623047\" xlink:href=\"#DejaVuSans-55\"/>\r\n       <use x=\"127.246094\" xlink:href=\"#DejaVuSans-46\"/>\r\n       <use x=\"159.033203\" xlink:href=\"#DejaVuSans-53\"/>\r\n      </g>\r\n     </g>\r\n    </g>\r\n   </g>\r\n   <g id=\"matplotlib.axis_2\">\r\n    <g id=\"ytick_1\">\r\n     <g id=\"line2d_9\">\r\n      <defs>\r\n       <path d=\"M 0 0 \r\nL -3.5 0 \r\n\" id=\"md49b94624d\" style=\"stroke:#000000;stroke-width:0.8;\"/>\r\n      </defs>\r\n      <g>\r\n       <use style=\"stroke:#000000;stroke-width:0.8;\" x=\"36.465625\" xlink:href=\"#md49b94624d\" y=\"192.867021\"/>\r\n      </g>\r\n     </g>\r\n     <g id=\"text_9\">\r\n      <!-- 0.45 -->\r\n      <defs>\r\n       <path d=\"M 37.796875 64.3125 \r\nL 12.890625 25.390625 \r\nL 37.796875 25.390625 \r\nz\r\nM 35.203125 72.90625 \r\nL 47.609375 72.90625 \r\nL 47.609375 25.390625 \r\nL 58.015625 25.390625 \r\nL 58.015625 17.1875 \r\nL 47.609375 17.1875 \r\nL 47.609375 0 \r\nL 37.796875 0 \r\nL 37.796875 17.1875 \r\nL 4.890625 17.1875 \r\nL 4.890625 26.703125 \r\nz\r\n\" id=\"DejaVuSans-52\"/>\r\n      </defs>\r\n      <g transform=\"translate(7.2 196.66624)scale(0.1 -0.1)\">\r\n       <use xlink:href=\"#DejaVuSans-48\"/>\r\n       <use x=\"63.623047\" xlink:href=\"#DejaVuSans-46\"/>\r\n       <use x=\"95.410156\" xlink:href=\"#DejaVuSans-52\"/>\r\n       <use x=\"159.033203\" xlink:href=\"#DejaVuSans-53\"/>\r\n      </g>\r\n     </g>\r\n    </g>\r\n    <g id=\"ytick_2\">\r\n     <g id=\"line2d_10\">\r\n      <g>\r\n       <use style=\"stroke:#000000;stroke-width:0.8;\" x=\"36.465625\" xlink:href=\"#md49b94624d\" y=\"160.336513\"/>\r\n      </g>\r\n     </g>\r\n     <g id=\"text_10\">\r\n      <!-- 0.50 -->\r\n      <g transform=\"translate(7.2 164.135732)scale(0.1 -0.1)\">\r\n       <use xlink:href=\"#DejaVuSans-48\"/>\r\n       <use x=\"63.623047\" xlink:href=\"#DejaVuSans-46\"/>\r\n       <use x=\"95.410156\" xlink:href=\"#DejaVuSans-53\"/>\r\n       <use x=\"159.033203\" xlink:href=\"#DejaVuSans-48\"/>\r\n      </g>\r\n     </g>\r\n    </g>\r\n    <g id=\"ytick_3\">\r\n     <g id=\"line2d_11\">\r\n      <g>\r\n       <use style=\"stroke:#000000;stroke-width:0.8;\" x=\"36.465625\" xlink:href=\"#md49b94624d\" y=\"127.806006\"/>\r\n      </g>\r\n     </g>\r\n     <g id=\"text_11\">\r\n      <!-- 0.55 -->\r\n      <g transform=\"translate(7.2 131.605225)scale(0.1 -0.1)\">\r\n       <use xlink:href=\"#DejaVuSans-48\"/>\r\n       <use x=\"63.623047\" xlink:href=\"#DejaVuSans-46\"/>\r\n       <use x=\"95.410156\" xlink:href=\"#DejaVuSans-53\"/>\r\n       <use x=\"159.033203\" xlink:href=\"#DejaVuSans-53\"/>\r\n      </g>\r\n     </g>\r\n    </g>\r\n    <g id=\"ytick_4\">\r\n     <g id=\"line2d_12\">\r\n      <g>\r\n       <use style=\"stroke:#000000;stroke-width:0.8;\" x=\"36.465625\" xlink:href=\"#md49b94624d\" y=\"95.275499\"/>\r\n      </g>\r\n     </g>\r\n     <g id=\"text_12\">\r\n      <!-- 0.60 -->\r\n      <defs>\r\n       <path d=\"M 33.015625 40.375 \r\nQ 26.375 40.375 22.484375 35.828125 \r\nQ 18.609375 31.296875 18.609375 23.390625 \r\nQ 18.609375 15.53125 22.484375 10.953125 \r\nQ 26.375 6.390625 33.015625 6.390625 \r\nQ 39.65625 6.390625 43.53125 10.953125 \r\nQ 47.40625 15.53125 47.40625 23.390625 \r\nQ 47.40625 31.296875 43.53125 35.828125 \r\nQ 39.65625 40.375 33.015625 40.375 \r\nz\r\nM 52.59375 71.296875 \r\nL 52.59375 62.3125 \r\nQ 48.875 64.0625 45.09375 64.984375 \r\nQ 41.3125 65.921875 37.59375 65.921875 \r\nQ 27.828125 65.921875 22.671875 59.328125 \r\nQ 17.53125 52.734375 16.796875 39.40625 \r\nQ 19.671875 43.65625 24.015625 45.921875 \r\nQ 28.375 48.1875 33.59375 48.1875 \r\nQ 44.578125 48.1875 50.953125 41.515625 \r\nQ 57.328125 34.859375 57.328125 23.390625 \r\nQ 57.328125 12.15625 50.6875 5.359375 \r\nQ 44.046875 -1.421875 33.015625 -1.421875 \r\nQ 20.359375 -1.421875 13.671875 8.265625 \r\nQ 6.984375 17.96875 6.984375 36.375 \r\nQ 6.984375 53.65625 15.1875 63.9375 \r\nQ 23.390625 74.21875 37.203125 74.21875 \r\nQ 40.921875 74.21875 44.703125 73.484375 \r\nQ 48.484375 72.75 52.59375 71.296875 \r\nz\r\n\" id=\"DejaVuSans-54\"/>\r\n      </defs>\r\n      <g transform=\"translate(7.2 99.074718)scale(0.1 -0.1)\">\r\n       <use xlink:href=\"#DejaVuSans-48\"/>\r\n       <use x=\"63.623047\" xlink:href=\"#DejaVuSans-46\"/>\r\n       <use x=\"95.410156\" xlink:href=\"#DejaVuSans-54\"/>\r\n       <use x=\"159.033203\" xlink:href=\"#DejaVuSans-48\"/>\r\n      </g>\r\n     </g>\r\n    </g>\r\n    <g id=\"ytick_5\">\r\n     <g id=\"line2d_13\">\r\n      <g>\r\n       <use style=\"stroke:#000000;stroke-width:0.8;\" x=\"36.465625\" xlink:href=\"#md49b94624d\" y=\"62.744991\"/>\r\n      </g>\r\n     </g>\r\n     <g id=\"text_13\">\r\n      <!-- 0.65 -->\r\n      <g transform=\"translate(7.2 66.54421)scale(0.1 -0.1)\">\r\n       <use xlink:href=\"#DejaVuSans-48\"/>\r\n       <use x=\"63.623047\" xlink:href=\"#DejaVuSans-46\"/>\r\n       <use x=\"95.410156\" xlink:href=\"#DejaVuSans-54\"/>\r\n       <use x=\"159.033203\" xlink:href=\"#DejaVuSans-53\"/>\r\n      </g>\r\n     </g>\r\n    </g>\r\n    <g id=\"ytick_6\">\r\n     <g id=\"line2d_14\">\r\n      <g>\r\n       <use style=\"stroke:#000000;stroke-width:0.8;\" x=\"36.465625\" xlink:href=\"#md49b94624d\" y=\"30.214484\"/>\r\n      </g>\r\n     </g>\r\n     <g id=\"text_14\">\r\n      <!-- 0.70 -->\r\n      <g transform=\"translate(7.2 34.013703)scale(0.1 -0.1)\">\r\n       <use xlink:href=\"#DejaVuSans-48\"/>\r\n       <use x=\"63.623047\" xlink:href=\"#DejaVuSans-46\"/>\r\n       <use x=\"95.410156\" xlink:href=\"#DejaVuSans-55\"/>\r\n       <use x=\"159.033203\" xlink:href=\"#DejaVuSans-48\"/>\r\n      </g>\r\n     </g>\r\n    </g>\r\n   </g>\r\n   <g id=\"line2d_15\">\r\n    <path clip-path=\"url(#pdb6e8f53a4)\" d=\"M 51.683807 204.62075 \r\nL 67.702946 199.99086 \r\nL 83.722084 211.658278 \r\nL 99.741223 214.018857 \r\nL 115.760362 214.756364 \r\nL 131.779501 212.206192 \r\nL 147.798639 210.219796 \r\nL 163.817778 211.061367 \r\nL 179.836917 203.580416 \r\nL 195.856056 170.586855 \r\nL 211.875194 184.756785 \r\nL 227.894333 186.026539 \r\nL 243.913472 168.037033 \r\nL 259.932611 139.943946 \r\nL 275.951749 109.913267 \r\nL 291.970888 119.667601 \r\nL 307.990027 94.424353 \r\nL 324.009166 88.242841 \r\nL 340.028304 17.083636 \r\nL 356.047443 61.240987 \r\n\" style=\"fill:none;stroke:#1f77b4;stroke-linecap:square;stroke-width:1.5;\"/>\r\n   </g>\r\n   <g id=\"patch_3\">\r\n    <path d=\"M 36.465625 224.64 \r\nL 36.465625 7.2 \r\n\" style=\"fill:none;stroke:#000000;stroke-linecap:square;stroke-linejoin:miter;stroke-width:0.8;\"/>\r\n   </g>\r\n   <g id=\"patch_4\">\r\n    <path d=\"M 371.265625 224.64 \r\nL 371.265625 7.2 \r\n\" style=\"fill:none;stroke:#000000;stroke-linecap:square;stroke-linejoin:miter;stroke-width:0.8;\"/>\r\n   </g>\r\n   <g id=\"patch_5\">\r\n    <path d=\"M 36.465625 224.64 \r\nL 371.265625 224.64 \r\n\" style=\"fill:none;stroke:#000000;stroke-linecap:square;stroke-linejoin:miter;stroke-width:0.8;\"/>\r\n   </g>\r\n   <g id=\"patch_6\">\r\n    <path d=\"M 36.465625 7.2 \r\nL 371.265625 7.2 \r\n\" style=\"fill:none;stroke:#000000;stroke-linecap:square;stroke-linejoin:miter;stroke-width:0.8;\"/>\r\n   </g>\r\n  </g>\r\n </g>\r\n <defs>\r\n  <clipPath id=\"pdb6e8f53a4\">\r\n   <rect height=\"217.44\" width=\"334.8\" x=\"36.465625\" y=\"7.2\"/>\r\n  </clipPath>\r\n </defs>\r\n</svg>\r\n",
      "image/png": "[encoded data removed]"
     },
     "metadata": {
      "needs_background": "light"
     }
    }
   ],
   "source": [
    "import matplotlib.pyplot as plt\n",
    "\n",
    "plt.plot(history.history['val_loss'])"
   ]
  },
  {
   "cell_type": "code",
   "execution_count": 31,
   "metadata": {},
   "outputs": [],
   "source": [
    "# rebuild the same model to reset weights\n",
    "\n",
    "x_seq = tf.keras.layers.Input(shape=(31, 1024), name='seq_input')\n",
    "\n",
    "x1 = tf.keras.layers.Conv1D(256, 5, activation='relu')(x_seq)\n",
    "x1 = tf.keras.layers.GlobalAveragePooling1D()(x1)\n",
    "\n",
    "x2 = tf.keras.layers.Conv1D(256, 4, activation='relu')(x_seq)\n",
    "x2 = tf.keras.layers.GlobalAveragePooling1D()(x2)\n",
    "\n",
    "x3 = tf.keras.layers.Conv1D(256, 3, activation='relu')(x_seq)\n",
    "x3 = tf.keras.layers.GlobalAveragePooling1D()(x3)\n",
    "\n",
    "x = tf.keras.layers.Concatenate()([x1, x2, x3])\n",
    "\n",
    "x = tf.keras.layers.Dense(64, activation='relu')(x)\n",
    "x = tf.keras.layers.Dropout(0.2)(x)\n",
    "x = tf.keras.layers.Dense(16, activation='relu')(x)\n",
    "x = tf.keras.layers.Dropout(0.2)(x)\n",
    "y = tf.keras.layers.Dense(1, activation='sigmoid', name='output')(x)\n",
    "\n",
    "model = tf.keras.models.Model(inputs=[x_seq], outputs=y)\n",
    "adam = tf.keras.optimizers.Adam(learning_rate=0.0001)\n",
    "model.compile(optimizer=adam, loss='binary_crossentropy', metrics=['accuracy'])"
   ]
  },
  {
   "cell_type": "code",
   "execution_count": 32,
   "metadata": {},
   "outputs": [
    {
     "output_type": "stream",
     "name": "stdout",
     "text": [
      "Epoch 1/7\n",
      "238/238 [==============================] - 3s 12ms/step - loss: 0.4948 - accuracy: 0.7826\n",
      "Epoch 2/7\n",
      "238/238 [==============================] - 3s 11ms/step - loss: 0.4338 - accuracy: 0.8133\n",
      "Epoch 3/7\n",
      "238/238 [==============================] - 3s 11ms/step - loss: 0.4078 - accuracy: 0.8281\n",
      "Epoch 4/7\n",
      "238/238 [==============================] - 3s 11ms/step - loss: 0.3926 - accuracy: 0.8334\n",
      "Epoch 5/7\n",
      "238/238 [==============================] - 3s 11ms/step - loss: 0.3776 - accuracy: 0.8425\n",
      "Epoch 6/7\n",
      "238/238 [==============================] - 3s 11ms/step - loss: 0.3597 - accuracy: 0.8491\n",
      "Epoch 7/7\n",
      "238/238 [==============================] - 3s 11ms/step - loss: 0.3383 - accuracy: 0.8587\n"
     ]
    },
    {
     "output_type": "execute_result",
     "data": {
      "text/plain": [
       "<tensorflow.python.keras.callbacks.History at 0x246080a7d68>"
      ]
     },
     "metadata": {},
     "execution_count": 32
    }
   ],
   "source": [
    "model.fit(x={'seq_input':seq_input}, y=output, epochs=7)"
   ]
  },
  {
   "cell_type": "code",
   "execution_count": 35,
   "metadata": {
    "tags": []
   },
   "outputs": [
    {
     "output_type": "stream",
     "name": "stdout",
     "text": [
      "seq_input_test Shape:  (3263, 31, 1024)\n"
     ]
    }
   ],
   "source": [
    "# Apply Preprocssing to Test Data\n",
    "\n",
    "test_data = pd.read_csv('test.csv')\n",
    "\n",
    "# test_data['text'] = test_data['text'].str.replace('http\\S+', 'http', regex=True)\n",
    "# test_data['text'] = test_data['text'].str.replace('&\\S+', '', regex=True)\n",
    "# test_data['text'] = test_data['text'].str.replace('[0-9]','0', regex=True)\n",
    "# test_data['text'] = test_data['text'].str.replace('[^a-zA-Z0 ]', '', regex=True)\n",
    "# test_data['text'] = test_data['text'].str.lower()\n",
    "\n",
    "# seq_input_test = lemmatize(test_data['text'])\n",
    "\n",
    "# seq_input_test = elmo.get_elmo_vector_average(seq_input_test)\n",
    "\n",
    "# with open('ELMo2/seq_input_test_elmo.pickle', 'wb') as file:\n",
    "#     pickle.dump(seq_input_test, file)\n",
    "\n",
    "with open('ELMo/seq_input_test_elmo.pickle', 'rb') as file:\n",
    "    seq_input_test = pickle.load(file)\n",
    "\n",
    "print(\"seq_input_test Shape: \", seq_input_test.shape)"
   ]
  },
  {
   "cell_type": "code",
   "execution_count": 36,
   "metadata": {},
   "outputs": [
    {
     "output_type": "execute_result",
     "data": {
      "text/plain": [
       "array([[0],\n",
       "       [1],\n",
       "       [1],\n",
       "       [1],\n",
       "       [1],\n",
       "       [0],\n",
       "       [0],\n",
       "       [0],\n",
       "       [0],\n",
       "       [0]])"
      ]
     },
     "metadata": {},
     "execution_count": 36
    }
   ],
   "source": [
    "pred = model.predict(x={'seq_input':seq_input_test})\n",
    "pred = np.asarray(np.rint(pred), dtype=int)\n",
    "pred[:10]"
   ]
  },
  {
   "cell_type": "code",
   "execution_count": 37,
   "metadata": {},
   "outputs": [
    {
     "output_type": "execute_result",
     "data": {
      "text/plain": [
       "   id  target\n",
       "0   0       0\n",
       "1   2       1\n",
       "2   3       1\n",
       "3   9       1\n",
       "4  11       1\n",
       "5  12       0\n",
       "6  21       0\n",
       "7  22       0\n",
       "8  27       0\n",
       "9  29       0"
      ],
      "text/html": "<div>\n<style scoped>\n    .dataframe tbody tr th:only-of-type {\n        vertical-align: middle;\n    }\n\n    .dataframe tbody tr th {\n        vertical-align: top;\n    }\n\n    .dataframe thead th {\n        text-align: right;\n    }\n</style>\n<table border=\"1\" class=\"dataframe\">\n  <thead>\n    <tr style=\"text-align: right;\">\n      <th></th>\n      <th>id</th>\n      <th>target</th>\n    </tr>\n  </thead>\n  <tbody>\n    <tr>\n      <th>0</th>\n      <td>0</td>\n      <td>0</td>\n    </tr>\n    <tr>\n      <th>1</th>\n      <td>2</td>\n      <td>1</td>\n    </tr>\n    <tr>\n      <th>2</th>\n      <td>3</td>\n      <td>1</td>\n    </tr>\n    <tr>\n      <th>3</th>\n      <td>9</td>\n      <td>1</td>\n    </tr>\n    <tr>\n      <th>4</th>\n      <td>11</td>\n      <td>1</td>\n    </tr>\n    <tr>\n      <th>5</th>\n      <td>12</td>\n      <td>0</td>\n    </tr>\n    <tr>\n      <th>6</th>\n      <td>21</td>\n      <td>0</td>\n    </tr>\n    <tr>\n      <th>7</th>\n      <td>22</td>\n      <td>0</td>\n    </tr>\n    <tr>\n      <th>8</th>\n      <td>27</td>\n      <td>0</td>\n    </tr>\n    <tr>\n      <th>9</th>\n      <td>29</td>\n      <td>0</td>\n    </tr>\n  </tbody>\n</table>\n</div>"
     },
     "metadata": {},
     "execution_count": 37
    }
   ],
   "source": [
    "submission = pd.DataFrame()\n",
    "submission['id'] = test_data['id']\n",
    "submission['target'] = pred\n",
    "submission.head(10)"
   ]
  },
  {
   "cell_type": "code",
   "execution_count": 38,
   "metadata": {},
   "outputs": [],
   "source": [
    "submission.to_csv('submission4.csv', index=False)\n",
    "# Accuracy Score : 0.82531"
   ]
  },
  {
   "cell_type": "code",
   "execution_count": null,
   "metadata": {},
   "outputs": [],
   "source": []
  }
 ]
}