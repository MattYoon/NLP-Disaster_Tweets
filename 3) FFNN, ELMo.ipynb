{
 "metadata": {
  "language_info": {
   "codemirror_mode": {
    "name": "ipython",
    "version": 3
   },
   "file_extension": ".py",
   "mimetype": "text/x-python",
   "name": "python",
   "nbconvert_exporter": "python",
   "pygments_lexer": "ipython3",
   "version": "3.6.5-final"
  },
  "orig_nbformat": 2,
  "kernelspec": {
   "name": "python3",
   "display_name": "Python 3",
   "language": "python"
  }
 },
 "nbformat": 4,
 "nbformat_minor": 2,
 "cells": [
  {
   "source": [
    "#  FFNN Model With Pre-Trained ELMo Embedding"
   ],
   "cell_type": "markdown",
   "metadata": {}
  },
  {
   "cell_type": "code",
   "execution_count": 1,
   "metadata": {},
   "outputs": [
    {
     "output_type": "execute_result",
     "data": {
      "text/plain": [
       "        id         keyword                   location  \\\n",
       "1000  1452  body%20bagging                        NaN   \n",
       "1001  1453  body%20bagging                        NaN   \n",
       "1002  1454  body%20bagging                        NaN   \n",
       "1003  1455  body%20bagging  3?3?7?SLOPelousas??2?2?5?   \n",
       "1004  1456  body%20bagging                        NaN   \n",
       "1005  1458  body%20bagging                        316   \n",
       "1006  1459  body%20bagging                     Global   \n",
       "1007  1460  body%20bagging             #WhereverI'mAt   \n",
       "1008  1463  body%20bagging          Huber Heights, OH   \n",
       "1009  1464  body%20bagging                        NaN   \n",
       "\n",
       "                                                   text  target  \n",
       "1000  #OVOFest Drake straight body bagging Meek on t...       0  \n",
       "1001  I'm not a Drake fan but I enjoy seeing him bod...       0  \n",
       "1002  @amaramin3 Meek is definitely capable of body ...       0  \n",
       "1003  Gates not body bagging nobody???????? niggas i...       0  \n",
       "1004  WWE 2k15 MyCareer EP18 Tyrone body bagging dud...       0  \n",
       "1005  'I did another one I did another one. You stil...       1  \n",
       "1006  Drake Body Bagging Meek. He must of hit a sens...       0  \n",
       "1007  Good diss bad beat and flow. Mark my words Mee...       0  \n",
       "1008  @Drake is body bagging meek meanwhile he's on ...       0  \n",
       "1009  @MzGracieBaby for the record im jumpin out the...       0  "
      ],
      "text/html": "<div>\n<style scoped>\n    .dataframe tbody tr th:only-of-type {\n        vertical-align: middle;\n    }\n\n    .dataframe tbody tr th {\n        vertical-align: top;\n    }\n\n    .dataframe thead th {\n        text-align: right;\n    }\n</style>\n<table border=\"1\" class=\"dataframe\">\n  <thead>\n    <tr style=\"text-align: right;\">\n      <th></th>\n      <th>id</th>\n      <th>keyword</th>\n      <th>location</th>\n      <th>text</th>\n      <th>target</th>\n    </tr>\n  </thead>\n  <tbody>\n    <tr>\n      <th>1000</th>\n      <td>1452</td>\n      <td>body%20bagging</td>\n      <td>NaN</td>\n      <td>#OVOFest Drake straight body bagging Meek on t...</td>\n      <td>0</td>\n    </tr>\n    <tr>\n      <th>1001</th>\n      <td>1453</td>\n      <td>body%20bagging</td>\n      <td>NaN</td>\n      <td>I'm not a Drake fan but I enjoy seeing him bod...</td>\n      <td>0</td>\n    </tr>\n    <tr>\n      <th>1002</th>\n      <td>1454</td>\n      <td>body%20bagging</td>\n      <td>NaN</td>\n      <td>@amaramin3 Meek is definitely capable of body ...</td>\n      <td>0</td>\n    </tr>\n    <tr>\n      <th>1003</th>\n      <td>1455</td>\n      <td>body%20bagging</td>\n      <td>3?3?7?SLOPelousas??2?2?5?</td>\n      <td>Gates not body bagging nobody???????? niggas i...</td>\n      <td>0</td>\n    </tr>\n    <tr>\n      <th>1004</th>\n      <td>1456</td>\n      <td>body%20bagging</td>\n      <td>NaN</td>\n      <td>WWE 2k15 MyCareer EP18 Tyrone body bagging dud...</td>\n      <td>0</td>\n    </tr>\n    <tr>\n      <th>1005</th>\n      <td>1458</td>\n      <td>body%20bagging</td>\n      <td>316</td>\n      <td>'I did another one I did another one. You stil...</td>\n      <td>1</td>\n    </tr>\n    <tr>\n      <th>1006</th>\n      <td>1459</td>\n      <td>body%20bagging</td>\n      <td>Global</td>\n      <td>Drake Body Bagging Meek. He must of hit a sens...</td>\n      <td>0</td>\n    </tr>\n    <tr>\n      <th>1007</th>\n      <td>1460</td>\n      <td>body%20bagging</td>\n      <td>#WhereverI'mAt</td>\n      <td>Good diss bad beat and flow. Mark my words Mee...</td>\n      <td>0</td>\n    </tr>\n    <tr>\n      <th>1008</th>\n      <td>1463</td>\n      <td>body%20bagging</td>\n      <td>Huber Heights, OH</td>\n      <td>@Drake is body bagging meek meanwhile he's on ...</td>\n      <td>0</td>\n    </tr>\n    <tr>\n      <th>1009</th>\n      <td>1464</td>\n      <td>body%20bagging</td>\n      <td>NaN</td>\n      <td>@MzGracieBaby for the record im jumpin out the...</td>\n      <td>0</td>\n    </tr>\n  </tbody>\n</table>\n</div>"
     },
     "metadata": {},
     "execution_count": 1
    }
   ],
   "source": [
    "import pandas as pd\n",
    "import numpy as np\n",
    "\n",
    "data = pd.read_csv('train.csv')\n",
    "data[1000:].head(10)"
   ]
  },
  {
   "cell_type": "code",
   "execution_count": 2,
   "metadata": {},
   "outputs": [
    {
     "output_type": "execute_result",
     "data": {
      "text/plain": [
       "        id         keyword                   location  \\\n",
       "1000  1452  body%20bagging                        NaN   \n",
       "1001  1453  body%20bagging                        NaN   \n",
       "1002  1454  body%20bagging                        NaN   \n",
       "1003  1455  body%20bagging  3?3?7?SLOPelousas??2?2?5?   \n",
       "1004  1456  body%20bagging                        NaN   \n",
       "1005  1458  body%20bagging                        316   \n",
       "1006  1459  body%20bagging                     Global   \n",
       "1007  1460  body%20bagging             #WhereverI'mAt   \n",
       "1008  1463  body%20bagging          Huber Heights, OH   \n",
       "1009  1464  body%20bagging                        NaN   \n",
       "\n",
       "                                                   text  target  \n",
       "1000  ovofest drake straight body bagging meek on th...       0  \n",
       "1001  im not a drake fan but i enjoy seeing him body...       0  \n",
       "1002  amaramin0 meek is definitely capable of body b...       0  \n",
       "1003  gates not body bagging nobody niggas in br rea...       0  \n",
       "1004  wwe 0k00 mycareer ep00 tyrone body bagging dud...       0  \n",
       "1005  i did another one i did another one you still ...       1  \n",
       "1006  drake body bagging meek he must of hit a sensi...       0  \n",
       "1007  good diss bad beat and flow mark my words meek...       0  \n",
       "1008  drake is body bagging meek meanwhile hes on to...       0  \n",
       "1009  mzgraciebaby for the record im jumpin out the ...       0  "
      ],
      "text/html": "<div>\n<style scoped>\n    .dataframe tbody tr th:only-of-type {\n        vertical-align: middle;\n    }\n\n    .dataframe tbody tr th {\n        vertical-align: top;\n    }\n\n    .dataframe thead th {\n        text-align: right;\n    }\n</style>\n<table border=\"1\" class=\"dataframe\">\n  <thead>\n    <tr style=\"text-align: right;\">\n      <th></th>\n      <th>id</th>\n      <th>keyword</th>\n      <th>location</th>\n      <th>text</th>\n      <th>target</th>\n    </tr>\n  </thead>\n  <tbody>\n    <tr>\n      <th>1000</th>\n      <td>1452</td>\n      <td>body%20bagging</td>\n      <td>NaN</td>\n      <td>ovofest drake straight body bagging meek on th...</td>\n      <td>0</td>\n    </tr>\n    <tr>\n      <th>1001</th>\n      <td>1453</td>\n      <td>body%20bagging</td>\n      <td>NaN</td>\n      <td>im not a drake fan but i enjoy seeing him body...</td>\n      <td>0</td>\n    </tr>\n    <tr>\n      <th>1002</th>\n      <td>1454</td>\n      <td>body%20bagging</td>\n      <td>NaN</td>\n      <td>amaramin0 meek is definitely capable of body b...</td>\n      <td>0</td>\n    </tr>\n    <tr>\n      <th>1003</th>\n      <td>1455</td>\n      <td>body%20bagging</td>\n      <td>3?3?7?SLOPelousas??2?2?5?</td>\n      <td>gates not body bagging nobody niggas in br rea...</td>\n      <td>0</td>\n    </tr>\n    <tr>\n      <th>1004</th>\n      <td>1456</td>\n      <td>body%20bagging</td>\n      <td>NaN</td>\n      <td>wwe 0k00 mycareer ep00 tyrone body bagging dud...</td>\n      <td>0</td>\n    </tr>\n    <tr>\n      <th>1005</th>\n      <td>1458</td>\n      <td>body%20bagging</td>\n      <td>316</td>\n      <td>i did another one i did another one you still ...</td>\n      <td>1</td>\n    </tr>\n    <tr>\n      <th>1006</th>\n      <td>1459</td>\n      <td>body%20bagging</td>\n      <td>Global</td>\n      <td>drake body bagging meek he must of hit a sensi...</td>\n      <td>0</td>\n    </tr>\n    <tr>\n      <th>1007</th>\n      <td>1460</td>\n      <td>body%20bagging</td>\n      <td>#WhereverI'mAt</td>\n      <td>good diss bad beat and flow mark my words meek...</td>\n      <td>0</td>\n    </tr>\n    <tr>\n      <th>1008</th>\n      <td>1463</td>\n      <td>body%20bagging</td>\n      <td>Huber Heights, OH</td>\n      <td>drake is body bagging meek meanwhile hes on to...</td>\n      <td>0</td>\n    </tr>\n    <tr>\n      <th>1009</th>\n      <td>1464</td>\n      <td>body%20bagging</td>\n      <td>NaN</td>\n      <td>mzgraciebaby for the record im jumpin out the ...</td>\n      <td>0</td>\n    </tr>\n  </tbody>\n</table>\n</div>"
     },
     "metadata": {},
     "execution_count": 2
    }
   ],
   "source": [
    "data['text'] = data['text'].str.replace('http\\S+', 'http', regex=True)  # replace all URLs with \"http\"\n",
    "data['text'] = data['text'].str.replace('&\\S+', '', regex=True)  # remove all html junks\n",
    "data['text'] = data['text'].str.replace('[0-9]','0', regex=True)  # replace all integer valeus with 0\n",
    "data['text'] = data['text'].str.replace('[^a-zA-Z0 ]', '', regex=True)\n",
    "data['text'] = data['text'].str.lower()\n",
    "\n",
    "data[1000:].head(10)"
   ]
  },
  {
   "cell_type": "code",
   "execution_count": 3,
   "metadata": {},
   "outputs": [
    {
     "output_type": "execute_result",
     "data": {
      "text/plain": [
       "[['Kevin', 'drink'], ['Yoon', 'life', 'again']]"
      ]
     },
     "metadata": {},
     "execution_count": 3
    }
   ],
   "source": [
    "from nltk.stem import WordNetLemmatizer\n",
    "\n",
    "lemm = WordNetLemmatizer()\n",
    "\n",
    "def lemmatize(pd_series):\n",
    "    ret = []\n",
    "    for entry in pd_series:\n",
    "        words = entry.split()\n",
    "        lemm_sent = [lemm.lemmatize(word) for word in words]\n",
    "        ret.append(lemm_sent)\n",
    "    return ret\n",
    "\n",
    "lemmatize(['Kevin drinks', 'Yoon lives again'])"
   ]
  },
  {
   "cell_type": "code",
   "execution_count": 4,
   "metadata": {},
   "outputs": [],
   "source": [
    "# from simple_elmo import ElmoModel\n",
    "\n",
    "# elmo = ElmoModel()\n",
    "# elmo.load('./209')  # http://vectors.nlpl.eu/repository/  ELMo with 1024 dim vectors\n",
    "\n",
    "# result = elmo.get_elmo_vector_average([['Kevin', 'drink'], ['Yoon', 'life', 'again']])\n",
    "# print(result.shape)  # (2, 1024) --> (sentence_count, ELMo Embedding Size)"
   ]
  },
  {
   "cell_type": "code",
   "execution_count": 5,
   "metadata": {
    "tags": []
   },
   "outputs": [],
   "source": [
    "# seq_input = lemmatize(data['text'])\n",
    "# seq_input = elmo.get_elmo_vector_average(seq_input)\n",
    "\n",
    "# import pickle\n",
    "\n",
    "# with open('ELMo2/seq_input_elmo.pickle', 'wb') as file:\n",
    "#     pickle.dump(seq_input, file) "
   ]
  },
  {
   "cell_type": "code",
   "execution_count": 6,
   "metadata": {},
   "outputs": [
    {
     "output_type": "stream",
     "name": "stdout",
     "text": [
      "seq_input Shape:  (7613, 1024)\noutput Shape:  (7613,)\n"
     ]
    }
   ],
   "source": [
    "import pickle\n",
    "\n",
    "with open('ELMo2/seq_input_elmo.pickle', 'rb') as file:\n",
    "    seq_input = pickle.load(file)\n",
    "\n",
    "output = data['target'].to_numpy()\n",
    "\n",
    "print(\"seq_input Shape: \", seq_input.shape)\n",
    "print(\"output Shape: \", output.shape)"
   ]
  },
  {
   "cell_type": "code",
   "execution_count": 7,
   "metadata": {},
   "outputs": [
    {
     "output_type": "stream",
     "name": "stdout",
     "text": [
      "Model: \"functional_1\"\n_________________________________________________________________\nLayer (type)                 Output Shape              Param #   \n=================================================================\nseq_input (InputLayer)       [(None, 1024)]            0         \n_________________________________________________________________\ndense (Dense)                (None, 256)               262400    \n_________________________________________________________________\ndropout (Dropout)            (None, 256)               0         \n_________________________________________________________________\noutput (Dense)               (None, 1)                 257       \n=================================================================\nTotal params: 262,657\nTrainable params: 262,657\nNon-trainable params: 0\n_________________________________________________________________\n"
     ]
    }
   ],
   "source": [
    "import tensorflow as tf\n",
    "\n",
    "x_seq = tf.keras.layers.Input(shape=(1024), name='seq_input')\n",
    "\n",
    "\n",
    "x = tf.keras.layers.Dense(256, activation='relu')(x_seq)\n",
    "x = tf.keras.layers.Dropout(0.2)(x)\n",
    "y = tf.keras.layers.Dense(1, activation='sigmoid', name='output')(x)\n",
    "\n",
    "model = tf.keras.models.Model(inputs=[x_seq], outputs=y)\n",
    "adam = tf.keras.optimizers.Adam(learning_rate=0.001)\n",
    "model.compile(optimizer=adam, loss='binary_crossentropy', metrics=['accuracy'])\n",
    "model.summary()"
   ]
  },
  {
   "cell_type": "code",
   "execution_count": 8,
   "metadata": {},
   "outputs": [
    {
     "output_type": "stream",
     "name": "stdout",
     "text": [
      "Epoch 1/50\n",
      "191/191 [==============================] - 1s 4ms/step - loss: 0.4752 - accuracy: 0.7800 - val_loss: 0.4215 - val_accuracy: 0.7991\n",
      "Epoch 2/50\n",
      "191/191 [==============================] - 1s 3ms/step - loss: 0.4201 - accuracy: 0.8177 - val_loss: 0.4091 - val_accuracy: 0.8024\n",
      "Epoch 3/50\n",
      "191/191 [==============================] - 1s 3ms/step - loss: 0.4076 - accuracy: 0.8220 - val_loss: 0.4094 - val_accuracy: 0.8194\n",
      "Epoch 4/50\n",
      "191/191 [==============================] - 1s 3ms/step - loss: 0.3983 - accuracy: 0.8284 - val_loss: 0.4146 - val_accuracy: 0.8201\n",
      "Epoch 5/50\n",
      "191/191 [==============================] - 1s 3ms/step - loss: 0.3877 - accuracy: 0.8304 - val_loss: 0.4180 - val_accuracy: 0.8181\n",
      "Epoch 6/50\n",
      "191/191 [==============================] - 1s 3ms/step - loss: 0.3805 - accuracy: 0.8327 - val_loss: 0.4152 - val_accuracy: 0.8207\n",
      "Epoch 7/50\n",
      "191/191 [==============================] - 1s 3ms/step - loss: 0.3701 - accuracy: 0.8415 - val_loss: 0.4131 - val_accuracy: 0.8207\n",
      "Epoch 8/50\n",
      "191/191 [==============================] - 1s 4ms/step - loss: 0.3596 - accuracy: 0.8455 - val_loss: 0.4127 - val_accuracy: 0.8162\n",
      "Epoch 9/50\n",
      "191/191 [==============================] - 1s 4ms/step - loss: 0.3525 - accuracy: 0.8475 - val_loss: 0.4148 - val_accuracy: 0.8122\n",
      "Epoch 10/50\n",
      "191/191 [==============================] - 1s 4ms/step - loss: 0.3432 - accuracy: 0.8525 - val_loss: 0.4255 - val_accuracy: 0.8247\n",
      "Epoch 11/50\n",
      "191/191 [==============================] - 1s 3ms/step - loss: 0.3317 - accuracy: 0.8612 - val_loss: 0.4205 - val_accuracy: 0.8234\n",
      "Epoch 12/50\n",
      "191/191 [==============================] - 1s 3ms/step - loss: 0.3219 - accuracy: 0.8631 - val_loss: 0.4317 - val_accuracy: 0.8181\n",
      "Epoch 13/50\n",
      "191/191 [==============================] - 1s 4ms/step - loss: 0.3108 - accuracy: 0.8663 - val_loss: 0.4328 - val_accuracy: 0.8076\n",
      "Epoch 14/50\n",
      "191/191 [==============================] - 1s 4ms/step - loss: 0.3038 - accuracy: 0.8709 - val_loss: 0.4540 - val_accuracy: 0.8155\n",
      "Epoch 15/50\n",
      "191/191 [==============================] - 1s 3ms/step - loss: 0.2924 - accuracy: 0.8800 - val_loss: 0.4515 - val_accuracy: 0.8142\n",
      "Epoch 16/50\n",
      "191/191 [==============================] - 1s 3ms/step - loss: 0.2779 - accuracy: 0.8847 - val_loss: 0.4671 - val_accuracy: 0.8194\n",
      "Epoch 17/50\n",
      "191/191 [==============================] - 1s 3ms/step - loss: 0.2667 - accuracy: 0.8938 - val_loss: 0.4551 - val_accuracy: 0.8096\n",
      "Epoch 18/50\n",
      "191/191 [==============================] - 1s 3ms/step - loss: 0.2546 - accuracy: 0.8975 - val_loss: 0.4655 - val_accuracy: 0.8122\n",
      "Epoch 19/50\n",
      "191/191 [==============================] - 1s 3ms/step - loss: 0.2454 - accuracy: 0.9023 - val_loss: 0.4699 - val_accuracy: 0.8122\n",
      "Epoch 20/50\n",
      "191/191 [==============================] - 1s 3ms/step - loss: 0.2357 - accuracy: 0.9089 - val_loss: 0.4767 - val_accuracy: 0.8102\n",
      "Epoch 21/50\n",
      "191/191 [==============================] - 1s 3ms/step - loss: 0.2218 - accuracy: 0.9171 - val_loss: 0.4860 - val_accuracy: 0.8070\n",
      "Epoch 22/50\n",
      "191/191 [==============================] - 1s 3ms/step - loss: 0.2140 - accuracy: 0.9176 - val_loss: 0.4980 - val_accuracy: 0.8109\n",
      "Epoch 23/50\n",
      "191/191 [==============================] - 1s 3ms/step - loss: 0.2068 - accuracy: 0.9232 - val_loss: 0.4995 - val_accuracy: 0.8056\n",
      "Epoch 24/50\n",
      "191/191 [==============================] - 1s 3ms/step - loss: 0.1926 - accuracy: 0.9302 - val_loss: 0.5087 - val_accuracy: 0.8030\n",
      "Epoch 25/50\n",
      "191/191 [==============================] - 1s 3ms/step - loss: 0.1843 - accuracy: 0.9320 - val_loss: 0.5277 - val_accuracy: 0.7958\n",
      "Epoch 26/50\n",
      "191/191 [==============================] - 1s 3ms/step - loss: 0.1731 - accuracy: 0.9414 - val_loss: 0.5541 - val_accuracy: 0.7781\n",
      "Epoch 27/50\n",
      "191/191 [==============================] - 1s 3ms/step - loss: 0.1639 - accuracy: 0.9433 - val_loss: 0.5528 - val_accuracy: 0.8083\n",
      "Epoch 28/50\n",
      "191/191 [==============================] - 1s 3ms/step - loss: 0.1545 - accuracy: 0.9481 - val_loss: 0.5549 - val_accuracy: 0.7958\n",
      "Epoch 29/50\n",
      "191/191 [==============================] - 1s 3ms/step - loss: 0.1533 - accuracy: 0.9509 - val_loss: 0.5566 - val_accuracy: 0.7919\n",
      "Epoch 30/50\n",
      "191/191 [==============================] - 1s 3ms/step - loss: 0.1400 - accuracy: 0.9535 - val_loss: 0.5671 - val_accuracy: 0.7899\n",
      "Epoch 31/50\n",
      "191/191 [==============================] - 1s 3ms/step - loss: 0.1320 - accuracy: 0.9570 - val_loss: 0.5853 - val_accuracy: 0.7951\n",
      "Epoch 32/50\n",
      "191/191 [==============================] - 1s 3ms/step - loss: 0.1303 - accuracy: 0.9550 - val_loss: 0.5976 - val_accuracy: 0.8017\n",
      "Epoch 33/50\n",
      "191/191 [==============================] - 1s 3ms/step - loss: 0.1210 - accuracy: 0.9604 - val_loss: 0.6119 - val_accuracy: 0.7938\n",
      "Epoch 34/50\n",
      "191/191 [==============================] - 1s 3ms/step - loss: 0.1159 - accuracy: 0.9660 - val_loss: 0.6404 - val_accuracy: 0.7958\n",
      "Epoch 35/50\n",
      "191/191 [==============================] - 1s 3ms/step - loss: 0.1168 - accuracy: 0.9606 - val_loss: 0.6601 - val_accuracy: 0.7905\n",
      "Epoch 36/50\n",
      "191/191 [==============================] - 1s 3ms/step - loss: 0.1073 - accuracy: 0.9686 - val_loss: 0.6687 - val_accuracy: 0.7997\n",
      "Epoch 37/50\n",
      "191/191 [==============================] - 1s 3ms/step - loss: 0.1041 - accuracy: 0.9658 - val_loss: 0.6455 - val_accuracy: 0.8004\n",
      "Epoch 38/50\n",
      "191/191 [==============================] - 1s 3ms/step - loss: 0.0977 - accuracy: 0.9708 - val_loss: 0.6534 - val_accuracy: 0.7984\n",
      "Epoch 39/50\n",
      "191/191 [==============================] - 1s 3ms/step - loss: 0.0937 - accuracy: 0.9688 - val_loss: 0.6903 - val_accuracy: 0.7997\n",
      "Epoch 40/50\n",
      "191/191 [==============================] - 1s 3ms/step - loss: 0.0951 - accuracy: 0.9698 - val_loss: 0.6646 - val_accuracy: 0.7971\n",
      "Epoch 41/50\n",
      "191/191 [==============================] - 1s 3ms/step - loss: 0.0878 - accuracy: 0.9716 - val_loss: 0.6956 - val_accuracy: 0.7912\n",
      "Epoch 42/50\n",
      "191/191 [==============================] - 1s 3ms/step - loss: 0.0875 - accuracy: 0.9732 - val_loss: 0.6968 - val_accuracy: 0.7945\n",
      "Epoch 43/50\n",
      "191/191 [==============================] - 1s 3ms/step - loss: 0.0845 - accuracy: 0.9713 - val_loss: 0.7099 - val_accuracy: 0.7892\n",
      "Epoch 44/50\n",
      "191/191 [==============================] - 1s 3ms/step - loss: 0.0853 - accuracy: 0.9750 - val_loss: 0.7354 - val_accuracy: 0.7919\n",
      "Epoch 45/50\n",
      "191/191 [==============================] - 1s 3ms/step - loss: 0.0799 - accuracy: 0.9760 - val_loss: 0.7459 - val_accuracy: 0.8011\n",
      "Epoch 46/50\n",
      "191/191 [==============================] - 1s 3ms/step - loss: 0.0775 - accuracy: 0.9755 - val_loss: 0.7126 - val_accuracy: 0.7978\n",
      "Epoch 47/50\n",
      "191/191 [==============================] - 1s 3ms/step - loss: 0.0752 - accuracy: 0.9755 - val_loss: 0.7177 - val_accuracy: 0.7905\n",
      "Epoch 48/50\n",
      "191/191 [==============================] - 1s 3ms/step - loss: 0.0778 - accuracy: 0.9757 - val_loss: 0.7457 - val_accuracy: 0.7886\n",
      "Epoch 49/50\n",
      "191/191 [==============================] - 1s 3ms/step - loss: 0.0724 - accuracy: 0.9760 - val_loss: 0.7613 - val_accuracy: 0.8004\n",
      "Epoch 50/50\n",
      "191/191 [==============================] - 1s 3ms/step - loss: 0.0736 - accuracy: 0.9764 - val_loss: 0.7398 - val_accuracy: 0.7958\n"
     ]
    }
   ],
   "source": [
    "history = model.fit(x={'seq_input':seq_input}, y=output, epochs=50, validation_split=0.2)"
   ]
  },
  {
   "cell_type": "code",
   "execution_count": 9,
   "metadata": {},
   "outputs": [
    {
     "output_type": "execute_result",
     "data": {
      "text/plain": [
       "[<matplotlib.lines.Line2D at 0x28b4163bba8>]"
      ]
     },
     "metadata": {},
     "execution_count": 9
    },
    {
     "output_type": "display_data",
     "data": {
      "text/plain": "<Figure size 432x288 with 1 Axes>",
      "image/svg+xml": "<?xml version=\"1.0\" encoding=\"utf-8\" standalone=\"no\"?>\r\n<!DOCTYPE svg PUBLIC \"-//W3C//DTD SVG 1.1//EN\"\r\n  \"http://www.w3.org/Graphics/SVG/1.1/DTD/svg11.dtd\">\r\n<!-- Created with matplotlib (https://matplotlib.org/) -->\r\n<svg height=\"248.518125pt\" version=\"1.1\" viewBox=\"0 0 378.465625 248.518125\" width=\"378.465625pt\" xmlns=\"http://www.w3.org/2000/svg\" xmlns:xlink=\"http://www.w3.org/1999/xlink\">\r\n <defs>\r\n  <style type=\"text/css\">\r\n*{stroke-linecap:butt;stroke-linejoin:round;}\r\n  </style>\r\n </defs>\r\n <g id=\"figure_1\">\r\n  <g id=\"patch_1\">\r\n   <path d=\"M 0 248.518125 \r\nL 378.465625 248.518125 \r\nL 378.465625 0 \r\nL 0 0 \r\nz\r\n\" style=\"fill:none;\"/>\r\n  </g>\r\n  <g id=\"axes_1\">\r\n   <g id=\"patch_2\">\r\n    <path d=\"M 36.465625 224.64 \r\nL 371.265625 224.64 \r\nL 371.265625 7.2 \r\nL 36.465625 7.2 \r\nz\r\n\" style=\"fill:#ffffff;\"/>\r\n   </g>\r\n   <g id=\"matplotlib.axis_1\">\r\n    <g id=\"xtick_1\">\r\n     <g id=\"line2d_1\">\r\n      <defs>\r\n       <path d=\"M 0 0 \r\nL 0 3.5 \r\n\" id=\"m71d473f6db\" style=\"stroke:#000000;stroke-width:0.8;\"/>\r\n      </defs>\r\n      <g>\r\n       <use style=\"stroke:#000000;stroke-width:0.8;\" x=\"51.683807\" xlink:href=\"#m71d473f6db\" y=\"224.64\"/>\r\n      </g>\r\n     </g>\r\n     <g id=\"text_1\">\r\n      <!-- 0 -->\r\n      <defs>\r\n       <path d=\"M 31.78125 66.40625 \r\nQ 24.171875 66.40625 20.328125 58.90625 \r\nQ 16.5 51.421875 16.5 36.375 \r\nQ 16.5 21.390625 20.328125 13.890625 \r\nQ 24.171875 6.390625 31.78125 6.390625 \r\nQ 39.453125 6.390625 43.28125 13.890625 \r\nQ 47.125 21.390625 47.125 36.375 \r\nQ 47.125 51.421875 43.28125 58.90625 \r\nQ 39.453125 66.40625 31.78125 66.40625 \r\nz\r\nM 31.78125 74.21875 \r\nQ 44.046875 74.21875 50.515625 64.515625 \r\nQ 56.984375 54.828125 56.984375 36.375 \r\nQ 56.984375 17.96875 50.515625 8.265625 \r\nQ 44.046875 -1.421875 31.78125 -1.421875 \r\nQ 19.53125 -1.421875 13.0625 8.265625 \r\nQ 6.59375 17.96875 6.59375 36.375 \r\nQ 6.59375 54.828125 13.0625 64.515625 \r\nQ 19.53125 74.21875 31.78125 74.21875 \r\nz\r\n\" id=\"DejaVuSans-48\"/>\r\n      </defs>\r\n      <g transform=\"translate(48.502557 239.238438)scale(0.1 -0.1)\">\r\n       <use xlink:href=\"#DejaVuSans-48\"/>\r\n      </g>\r\n     </g>\r\n    </g>\r\n    <g id=\"xtick_2\">\r\n     <g id=\"line2d_2\">\r\n      <g>\r\n       <use style=\"stroke:#000000;stroke-width:0.8;\" x=\"113.798835\" xlink:href=\"#m71d473f6db\" y=\"224.64\"/>\r\n      </g>\r\n     </g>\r\n     <g id=\"text_2\">\r\n      <!-- 10 -->\r\n      <defs>\r\n       <path d=\"M 12.40625 8.296875 \r\nL 28.515625 8.296875 \r\nL 28.515625 63.921875 \r\nL 10.984375 60.40625 \r\nL 10.984375 69.390625 \r\nL 28.421875 72.90625 \r\nL 38.28125 72.90625 \r\nL 38.28125 8.296875 \r\nL 54.390625 8.296875 \r\nL 54.390625 0 \r\nL 12.40625 0 \r\nz\r\n\" id=\"DejaVuSans-49\"/>\r\n      </defs>\r\n      <g transform=\"translate(107.436335 239.238438)scale(0.1 -0.1)\">\r\n       <use xlink:href=\"#DejaVuSans-49\"/>\r\n       <use x=\"63.623047\" xlink:href=\"#DejaVuSans-48\"/>\r\n      </g>\r\n     </g>\r\n    </g>\r\n    <g id=\"xtick_3\">\r\n     <g id=\"line2d_3\">\r\n      <g>\r\n       <use style=\"stroke:#000000;stroke-width:0.8;\" x=\"175.913862\" xlink:href=\"#m71d473f6db\" y=\"224.64\"/>\r\n      </g>\r\n     </g>\r\n     <g id=\"text_3\">\r\n      <!-- 20 -->\r\n      <defs>\r\n       <path d=\"M 19.1875 8.296875 \r\nL 53.609375 8.296875 \r\nL 53.609375 0 \r\nL 7.328125 0 \r\nL 7.328125 8.296875 \r\nQ 12.9375 14.109375 22.625 23.890625 \r\nQ 32.328125 33.6875 34.8125 36.53125 \r\nQ 39.546875 41.84375 41.421875 45.53125 \r\nQ 43.3125 49.21875 43.3125 52.78125 \r\nQ 43.3125 58.59375 39.234375 62.25 \r\nQ 35.15625 65.921875 28.609375 65.921875 \r\nQ 23.96875 65.921875 18.8125 64.3125 \r\nQ 13.671875 62.703125 7.8125 59.421875 \r\nL 7.8125 69.390625 \r\nQ 13.765625 71.78125 18.9375 73 \r\nQ 24.125 74.21875 28.421875 74.21875 \r\nQ 39.75 74.21875 46.484375 68.546875 \r\nQ 53.21875 62.890625 53.21875 53.421875 \r\nQ 53.21875 48.921875 51.53125 44.890625 \r\nQ 49.859375 40.875 45.40625 35.40625 \r\nQ 44.1875 33.984375 37.640625 27.21875 \r\nQ 31.109375 20.453125 19.1875 8.296875 \r\nz\r\n\" id=\"DejaVuSans-50\"/>\r\n      </defs>\r\n      <g transform=\"translate(169.551362 239.238438)scale(0.1 -0.1)\">\r\n       <use xlink:href=\"#DejaVuSans-50\"/>\r\n       <use x=\"63.623047\" xlink:href=\"#DejaVuSans-48\"/>\r\n      </g>\r\n     </g>\r\n    </g>\r\n    <g id=\"xtick_4\">\r\n     <g id=\"line2d_4\">\r\n      <g>\r\n       <use style=\"stroke:#000000;stroke-width:0.8;\" x=\"238.02889\" xlink:href=\"#m71d473f6db\" y=\"224.64\"/>\r\n      </g>\r\n     </g>\r\n     <g id=\"text_4\">\r\n      <!-- 30 -->\r\n      <defs>\r\n       <path d=\"M 40.578125 39.3125 \r\nQ 47.65625 37.796875 51.625 33 \r\nQ 55.609375 28.21875 55.609375 21.1875 \r\nQ 55.609375 10.40625 48.1875 4.484375 \r\nQ 40.765625 -1.421875 27.09375 -1.421875 \r\nQ 22.515625 -1.421875 17.65625 -0.515625 \r\nQ 12.796875 0.390625 7.625 2.203125 \r\nL 7.625 11.71875 \r\nQ 11.71875 9.328125 16.59375 8.109375 \r\nQ 21.484375 6.890625 26.8125 6.890625 \r\nQ 36.078125 6.890625 40.9375 10.546875 \r\nQ 45.796875 14.203125 45.796875 21.1875 \r\nQ 45.796875 27.640625 41.28125 31.265625 \r\nQ 36.765625 34.90625 28.71875 34.90625 \r\nL 20.21875 34.90625 \r\nL 20.21875 43.015625 \r\nL 29.109375 43.015625 \r\nQ 36.375 43.015625 40.234375 45.921875 \r\nQ 44.09375 48.828125 44.09375 54.296875 \r\nQ 44.09375 59.90625 40.109375 62.90625 \r\nQ 36.140625 65.921875 28.71875 65.921875 \r\nQ 24.65625 65.921875 20.015625 65.03125 \r\nQ 15.375 64.15625 9.8125 62.3125 \r\nL 9.8125 71.09375 \r\nQ 15.4375 72.65625 20.34375 73.4375 \r\nQ 25.25 74.21875 29.59375 74.21875 \r\nQ 40.828125 74.21875 47.359375 69.109375 \r\nQ 53.90625 64.015625 53.90625 55.328125 \r\nQ 53.90625 49.265625 50.4375 45.09375 \r\nQ 46.96875 40.921875 40.578125 39.3125 \r\nz\r\n\" id=\"DejaVuSans-51\"/>\r\n      </defs>\r\n      <g transform=\"translate(231.66639 239.238438)scale(0.1 -0.1)\">\r\n       <use xlink:href=\"#DejaVuSans-51\"/>\r\n       <use x=\"63.623047\" xlink:href=\"#DejaVuSans-48\"/>\r\n      </g>\r\n     </g>\r\n    </g>\r\n    <g id=\"xtick_5\">\r\n     <g id=\"line2d_5\">\r\n      <g>\r\n       <use style=\"stroke:#000000;stroke-width:0.8;\" x=\"300.143918\" xlink:href=\"#m71d473f6db\" y=\"224.64\"/>\r\n      </g>\r\n     </g>\r\n     <g id=\"text_5\">\r\n      <!-- 40 -->\r\n      <defs>\r\n       <path d=\"M 37.796875 64.3125 \r\nL 12.890625 25.390625 \r\nL 37.796875 25.390625 \r\nz\r\nM 35.203125 72.90625 \r\nL 47.609375 72.90625 \r\nL 47.609375 25.390625 \r\nL 58.015625 25.390625 \r\nL 58.015625 17.1875 \r\nL 47.609375 17.1875 \r\nL 47.609375 0 \r\nL 37.796875 0 \r\nL 37.796875 17.1875 \r\nL 4.890625 17.1875 \r\nL 4.890625 26.703125 \r\nz\r\n\" id=\"DejaVuSans-52\"/>\r\n      </defs>\r\n      <g transform=\"translate(293.781418 239.238438)scale(0.1 -0.1)\">\r\n       <use xlink:href=\"#DejaVuSans-52\"/>\r\n       <use x=\"63.623047\" xlink:href=\"#DejaVuSans-48\"/>\r\n      </g>\r\n     </g>\r\n    </g>\r\n    <g id=\"xtick_6\">\r\n     <g id=\"line2d_6\">\r\n      <g>\r\n       <use style=\"stroke:#000000;stroke-width:0.8;\" x=\"362.258946\" xlink:href=\"#m71d473f6db\" y=\"224.64\"/>\r\n      </g>\r\n     </g>\r\n     <g id=\"text_6\">\r\n      <!-- 50 -->\r\n      <defs>\r\n       <path d=\"M 10.796875 72.90625 \r\nL 49.515625 72.90625 \r\nL 49.515625 64.59375 \r\nL 19.828125 64.59375 \r\nL 19.828125 46.734375 \r\nQ 21.96875 47.46875 24.109375 47.828125 \r\nQ 26.265625 48.1875 28.421875 48.1875 \r\nQ 40.625 48.1875 47.75 41.5 \r\nQ 54.890625 34.8125 54.890625 23.390625 \r\nQ 54.890625 11.625 47.5625 5.09375 \r\nQ 40.234375 -1.421875 26.90625 -1.421875 \r\nQ 22.3125 -1.421875 17.546875 -0.640625 \r\nQ 12.796875 0.140625 7.71875 1.703125 \r\nL 7.71875 11.625 \r\nQ 12.109375 9.234375 16.796875 8.0625 \r\nQ 21.484375 6.890625 26.703125 6.890625 \r\nQ 35.15625 6.890625 40.078125 11.328125 \r\nQ 45.015625 15.765625 45.015625 23.390625 \r\nQ 45.015625 31 40.078125 35.4375 \r\nQ 35.15625 39.890625 26.703125 39.890625 \r\nQ 22.75 39.890625 18.8125 39.015625 \r\nQ 14.890625 38.140625 10.796875 36.28125 \r\nz\r\n\" id=\"DejaVuSans-53\"/>\r\n      </defs>\r\n      <g transform=\"translate(355.896446 239.238438)scale(0.1 -0.1)\">\r\n       <use xlink:href=\"#DejaVuSans-53\"/>\r\n       <use x=\"63.623047\" xlink:href=\"#DejaVuSans-48\"/>\r\n      </g>\r\n     </g>\r\n    </g>\r\n   </g>\r\n   <g id=\"matplotlib.axis_2\">\r\n    <g id=\"ytick_1\">\r\n     <g id=\"line2d_7\">\r\n      <defs>\r\n       <path d=\"M 0 0 \r\nL -3.5 0 \r\n\" id=\"mf8b3d5bae1\" style=\"stroke:#000000;stroke-width:0.8;\"/>\r\n      </defs>\r\n      <g>\r\n       <use style=\"stroke:#000000;stroke-width:0.8;\" x=\"36.465625\" xlink:href=\"#mf8b3d5bae1\" y=\"219.865767\"/>\r\n      </g>\r\n     </g>\r\n     <g id=\"text_7\">\r\n      <!-- 0.40 -->\r\n      <defs>\r\n       <path d=\"M 10.6875 12.40625 \r\nL 21 12.40625 \r\nL 21 0 \r\nL 10.6875 0 \r\nz\r\n\" id=\"DejaVuSans-46\"/>\r\n      </defs>\r\n      <g transform=\"translate(7.2 223.664986)scale(0.1 -0.1)\">\r\n       <use xlink:href=\"#DejaVuSans-48\"/>\r\n       <use x=\"63.623047\" xlink:href=\"#DejaVuSans-46\"/>\r\n       <use x=\"95.410156\" xlink:href=\"#DejaVuSans-52\"/>\r\n       <use x=\"159.033203\" xlink:href=\"#DejaVuSans-48\"/>\r\n      </g>\r\n     </g>\r\n    </g>\r\n    <g id=\"ytick_2\">\r\n     <g id=\"line2d_8\">\r\n      <g>\r\n       <use style=\"stroke:#000000;stroke-width:0.8;\" x=\"36.465625\" xlink:href=\"#mf8b3d5bae1\" y=\"191.799094\"/>\r\n      </g>\r\n     </g>\r\n     <g id=\"text_8\">\r\n      <!-- 0.45 -->\r\n      <g transform=\"translate(7.2 195.598312)scale(0.1 -0.1)\">\r\n       <use xlink:href=\"#DejaVuSans-48\"/>\r\n       <use x=\"63.623047\" xlink:href=\"#DejaVuSans-46\"/>\r\n       <use x=\"95.410156\" xlink:href=\"#DejaVuSans-52\"/>\r\n       <use x=\"159.033203\" xlink:href=\"#DejaVuSans-53\"/>\r\n      </g>\r\n     </g>\r\n    </g>\r\n    <g id=\"ytick_3\">\r\n     <g id=\"line2d_9\">\r\n      <g>\r\n       <use style=\"stroke:#000000;stroke-width:0.8;\" x=\"36.465625\" xlink:href=\"#mf8b3d5bae1\" y=\"163.73242\"/>\r\n      </g>\r\n     </g>\r\n     <g id=\"text_9\">\r\n      <!-- 0.50 -->\r\n      <g transform=\"translate(7.2 167.531638)scale(0.1 -0.1)\">\r\n       <use xlink:href=\"#DejaVuSans-48\"/>\r\n       <use x=\"63.623047\" xlink:href=\"#DejaVuSans-46\"/>\r\n       <use x=\"95.410156\" xlink:href=\"#DejaVuSans-53\"/>\r\n       <use x=\"159.033203\" xlink:href=\"#DejaVuSans-48\"/>\r\n      </g>\r\n     </g>\r\n    </g>\r\n    <g id=\"ytick_4\">\r\n     <g id=\"line2d_10\">\r\n      <g>\r\n       <use style=\"stroke:#000000;stroke-width:0.8;\" x=\"36.465625\" xlink:href=\"#mf8b3d5bae1\" y=\"135.665746\"/>\r\n      </g>\r\n     </g>\r\n     <g id=\"text_10\">\r\n      <!-- 0.55 -->\r\n      <g transform=\"translate(7.2 139.464965)scale(0.1 -0.1)\">\r\n       <use xlink:href=\"#DejaVuSans-48\"/>\r\n       <use x=\"63.623047\" xlink:href=\"#DejaVuSans-46\"/>\r\n       <use x=\"95.410156\" xlink:href=\"#DejaVuSans-53\"/>\r\n       <use x=\"159.033203\" xlink:href=\"#DejaVuSans-53\"/>\r\n      </g>\r\n     </g>\r\n    </g>\r\n    <g id=\"ytick_5\">\r\n     <g id=\"line2d_11\">\r\n      <g>\r\n       <use style=\"stroke:#000000;stroke-width:0.8;\" x=\"36.465625\" xlink:href=\"#mf8b3d5bae1\" y=\"107.599072\"/>\r\n      </g>\r\n     </g>\r\n     <g id=\"text_11\">\r\n      <!-- 0.60 -->\r\n      <defs>\r\n       <path d=\"M 33.015625 40.375 \r\nQ 26.375 40.375 22.484375 35.828125 \r\nQ 18.609375 31.296875 18.609375 23.390625 \r\nQ 18.609375 15.53125 22.484375 10.953125 \r\nQ 26.375 6.390625 33.015625 6.390625 \r\nQ 39.65625 6.390625 43.53125 10.953125 \r\nQ 47.40625 15.53125 47.40625 23.390625 \r\nQ 47.40625 31.296875 43.53125 35.828125 \r\nQ 39.65625 40.375 33.015625 40.375 \r\nz\r\nM 52.59375 71.296875 \r\nL 52.59375 62.3125 \r\nQ 48.875 64.0625 45.09375 64.984375 \r\nQ 41.3125 65.921875 37.59375 65.921875 \r\nQ 27.828125 65.921875 22.671875 59.328125 \r\nQ 17.53125 52.734375 16.796875 39.40625 \r\nQ 19.671875 43.65625 24.015625 45.921875 \r\nQ 28.375 48.1875 33.59375 48.1875 \r\nQ 44.578125 48.1875 50.953125 41.515625 \r\nQ 57.328125 34.859375 57.328125 23.390625 \r\nQ 57.328125 12.15625 50.6875 5.359375 \r\nQ 44.046875 -1.421875 33.015625 -1.421875 \r\nQ 20.359375 -1.421875 13.671875 8.265625 \r\nQ 6.984375 17.96875 6.984375 36.375 \r\nQ 6.984375 53.65625 15.1875 63.9375 \r\nQ 23.390625 74.21875 37.203125 74.21875 \r\nQ 40.921875 74.21875 44.703125 73.484375 \r\nQ 48.484375 72.75 52.59375 71.296875 \r\nz\r\n\" id=\"DejaVuSans-54\"/>\r\n      </defs>\r\n      <g transform=\"translate(7.2 111.398291)scale(0.1 -0.1)\">\r\n       <use xlink:href=\"#DejaVuSans-48\"/>\r\n       <use x=\"63.623047\" xlink:href=\"#DejaVuSans-46\"/>\r\n       <use x=\"95.410156\" xlink:href=\"#DejaVuSans-54\"/>\r\n       <use x=\"159.033203\" xlink:href=\"#DejaVuSans-48\"/>\r\n      </g>\r\n     </g>\r\n    </g>\r\n    <g id=\"ytick_6\">\r\n     <g id=\"line2d_12\">\r\n      <g>\r\n       <use style=\"stroke:#000000;stroke-width:0.8;\" x=\"36.465625\" xlink:href=\"#mf8b3d5bae1\" y=\"79.532398\"/>\r\n      </g>\r\n     </g>\r\n     <g id=\"text_12\">\r\n      <!-- 0.65 -->\r\n      <g transform=\"translate(7.2 83.331617)scale(0.1 -0.1)\">\r\n       <use xlink:href=\"#DejaVuSans-48\"/>\r\n       <use x=\"63.623047\" xlink:href=\"#DejaVuSans-46\"/>\r\n       <use x=\"95.410156\" xlink:href=\"#DejaVuSans-54\"/>\r\n       <use x=\"159.033203\" xlink:href=\"#DejaVuSans-53\"/>\r\n      </g>\r\n     </g>\r\n    </g>\r\n    <g id=\"ytick_7\">\r\n     <g id=\"line2d_13\">\r\n      <g>\r\n       <use style=\"stroke:#000000;stroke-width:0.8;\" x=\"36.465625\" xlink:href=\"#mf8b3d5bae1\" y=\"51.465724\"/>\r\n      </g>\r\n     </g>\r\n     <g id=\"text_13\">\r\n      <!-- 0.70 -->\r\n      <defs>\r\n       <path d=\"M 8.203125 72.90625 \r\nL 55.078125 72.90625 \r\nL 55.078125 68.703125 \r\nL 28.609375 0 \r\nL 18.3125 0 \r\nL 43.21875 64.59375 \r\nL 8.203125 64.59375 \r\nz\r\n\" id=\"DejaVuSans-55\"/>\r\n      </defs>\r\n      <g transform=\"translate(7.2 55.264943)scale(0.1 -0.1)\">\r\n       <use xlink:href=\"#DejaVuSans-48\"/>\r\n       <use x=\"63.623047\" xlink:href=\"#DejaVuSans-46\"/>\r\n       <use x=\"95.410156\" xlink:href=\"#DejaVuSans-55\"/>\r\n       <use x=\"159.033203\" xlink:href=\"#DejaVuSans-48\"/>\r\n      </g>\r\n     </g>\r\n    </g>\r\n    <g id=\"ytick_8\">\r\n     <g id=\"line2d_14\">\r\n      <g>\r\n       <use style=\"stroke:#000000;stroke-width:0.8;\" x=\"36.465625\" xlink:href=\"#mf8b3d5bae1\" y=\"23.39905\"/>\r\n      </g>\r\n     </g>\r\n     <g id=\"text_14\">\r\n      <!-- 0.75 -->\r\n      <g transform=\"translate(7.2 27.198269)scale(0.1 -0.1)\">\r\n       <use xlink:href=\"#DejaVuSans-48\"/>\r\n       <use x=\"63.623047\" xlink:href=\"#DejaVuSans-46\"/>\r\n       <use x=\"95.410156\" xlink:href=\"#DejaVuSans-55\"/>\r\n       <use x=\"159.033203\" xlink:href=\"#DejaVuSans-53\"/>\r\n      </g>\r\n     </g>\r\n    </g>\r\n   </g>\r\n   <g id=\"line2d_15\">\r\n    <path clip-path=\"url(#p6970eaae96)\" d=\"M 51.683807 207.824618 \r\nL 57.89531 214.756364 \r\nL 64.106812 214.609148 \r\nL 70.318315 211.696438 \r\nL 76.529818 209.755802 \r\nL 82.741321 211.350465 \r\nL 88.952824 212.515642 \r\nL 95.164326 212.739544 \r\nL 101.375829 211.547483 \r\nL 107.587332 205.527671 \r\nL 113.798835 208.37564 \r\nL 120.010337 202.059406 \r\nL 126.22184 201.434008 \r\nL 132.433343 189.571996 \r\nL 138.644846 190.929374 \r\nL 144.856349 182.213477 \r\nL 151.067851 188.924633 \r\nL 157.279354 183.093541 \r\nL 163.490857 180.643373 \r\nL 169.70236 176.784869 \r\nL 175.913862 171.576466 \r\nL 182.125365 164.829928 \r\nL 188.336868 163.988324 \r\nL 194.548371 158.869522 \r\nL 200.759874 148.182475 \r\nL 206.971376 133.349871 \r\nL 213.182879 134.119942 \r\nL 219.394382 132.90983 \r\nL 225.605885 131.983075 \r\nL 231.817388 126.046808 \r\nL 238.02889 115.827472 \r\nL 244.240393 108.958929 \r\nL 250.451896 100.913699 \r\nL 256.663399 84.910765 \r\nL 262.874901 73.869832 \r\nL 269.086404 69.023663 \r\nL 275.297907 82.060504 \r\nL 281.50941 77.650093 \r\nL 287.720913 56.90103 \r\nL 293.932415 71.311593 \r\nL 300.143918 53.922457 \r\nL 306.355421 53.275646 \r\nL 312.566924 45.928619 \r\nL 318.778426 31.584035 \r\nL 324.989929 25.693405 \r\nL 331.201432 44.37332 \r\nL 337.412935 41.551264 \r\nL 343.624438 25.790433 \r\nL 349.83594 17.083636 \r\nL 356.047443 29.141561 \r\n\" style=\"fill:none;stroke:#1f77b4;stroke-linecap:square;stroke-width:1.5;\"/>\r\n   </g>\r\n   <g id=\"patch_3\">\r\n    <path d=\"M 36.465625 224.64 \r\nL 36.465625 7.2 \r\n\" style=\"fill:none;stroke:#000000;stroke-linecap:square;stroke-linejoin:miter;stroke-width:0.8;\"/>\r\n   </g>\r\n   <g id=\"patch_4\">\r\n    <path d=\"M 371.265625 224.64 \r\nL 371.265625 7.2 \r\n\" style=\"fill:none;stroke:#000000;stroke-linecap:square;stroke-linejoin:miter;stroke-width:0.8;\"/>\r\n   </g>\r\n   <g id=\"patch_5\">\r\n    <path d=\"M 36.465625 224.64 \r\nL 371.265625 224.64 \r\n\" style=\"fill:none;stroke:#000000;stroke-linecap:square;stroke-linejoin:miter;stroke-width:0.8;\"/>\r\n   </g>\r\n   <g id=\"patch_6\">\r\n    <path d=\"M 36.465625 7.2 \r\nL 371.265625 7.2 \r\n\" style=\"fill:none;stroke:#000000;stroke-linecap:square;stroke-linejoin:miter;stroke-width:0.8;\"/>\r\n   </g>\r\n  </g>\r\n </g>\r\n <defs>\r\n  <clipPath id=\"p6970eaae96\">\r\n   <rect height=\"217.44\" width=\"334.8\" x=\"36.465625\" y=\"7.2\"/>\r\n  </clipPath>\r\n </defs>\r\n</svg>\r\n",
      "image/png": "[encoded data removed]"
     },
     "metadata": {
      "needs_background": "light"
     }
    }
   ],
   "source": [
    "import matplotlib.pyplot as plt\n",
    "\n",
    "plt.plot(history.history['val_loss'])"
   ]
  },
  {
   "cell_type": "code",
   "execution_count": 10,
   "metadata": {},
   "outputs": [
    {
     "output_type": "stream",
     "name": "stdout",
     "text": [
      "Model: \"functional_3\"\n_________________________________________________________________\nLayer (type)                 Output Shape              Param #   \n=================================================================\nseq_input (InputLayer)       [(None, 1024)]            0         \n_________________________________________________________________\ndense_1 (Dense)              (None, 256)               262400    \n_________________________________________________________________\ndropout_1 (Dropout)          (None, 256)               0         \n_________________________________________________________________\noutput (Dense)               (None, 1)                 257       \n=================================================================\nTotal params: 262,657\nTrainable params: 262,657\nNon-trainable params: 0\n_________________________________________________________________\n"
     ]
    }
   ],
   "source": [
    "# rebuild the same model to reset weights\n",
    "\n",
    "x_seq = tf.keras.layers.Input(shape=(1024), name='seq_input')\n",
    "\n",
    "x_seq = tf.keras.layers.Input(shape=(1024), name='seq_input')\n",
    "\n",
    "\n",
    "x = tf.keras.layers.Dense(256, activation='relu')(x_seq)\n",
    "x = tf.keras.layers.Dropout(0.2)(x)\n",
    "y = tf.keras.layers.Dense(1, activation='sigmoid', name='output')(x)\n",
    "\n",
    "model = tf.keras.models.Model(inputs=[x_seq], outputs=y)\n",
    "adam = tf.keras.optimizers.Adam(learning_rate=0.001)\n",
    "model.compile(optimizer=adam, loss='binary_crossentropy', metrics=['accuracy'])\n",
    "model.summary()"
   ]
  },
  {
   "cell_type": "code",
   "execution_count": 11,
   "metadata": {},
   "outputs": [
    {
     "output_type": "stream",
     "name": "stdout",
     "text": [
      "Epoch 1/5\n",
      "238/238 [==============================] - 1s 3ms/step - loss: 0.4632 - accuracy: 0.7887\n",
      "Epoch 2/5\n",
      "238/238 [==============================] - 1s 2ms/step - loss: 0.4159 - accuracy: 0.8147\n",
      "Epoch 3/5\n",
      "238/238 [==============================] - 1s 2ms/step - loss: 0.4033 - accuracy: 0.8241\n",
      "Epoch 4/5\n",
      "238/238 [==============================] - 1s 2ms/step - loss: 0.3922 - accuracy: 0.8290\n",
      "Epoch 5/5\n",
      "238/238 [==============================] - 1s 2ms/step - loss: 0.3858 - accuracy: 0.8309\n"
     ]
    },
    {
     "output_type": "execute_result",
     "data": {
      "text/plain": [
       "<tensorflow.python.keras.callbacks.History at 0x28b724ccb38>"
      ]
     },
     "metadata": {},
     "execution_count": 11
    }
   ],
   "source": [
    "model.fit(x={'seq_input':seq_input}, y=output, epochs=5)"
   ]
  },
  {
   "cell_type": "code",
   "execution_count": 12,
   "metadata": {
    "tags": []
   },
   "outputs": [
    {
     "output_type": "stream",
     "name": "stdout",
     "text": [
      "seq_input_test Shape:  (3263, 1024)\n"
     ]
    }
   ],
   "source": [
    "# Apply Preprocssing to Test Data\n",
    "\n",
    "test_data = pd.read_csv('test.csv')\n",
    "\n",
    "# test_data['text'] = test_data['text'].str.replace('http\\S+', 'http', regex=True)\n",
    "# test_data['text'] = test_data['text'].str.replace('&\\S+', '', regex=True)\n",
    "# test_data['text'] = test_data['text'].str.replace('[0-9]','0', regex=True)\n",
    "# test_data['text'] = test_data['text'].str.replace('[^a-zA-Z0 ]', '', regex=True)\n",
    "# test_data['text'] = test_data['text'].str.lower()\n",
    "\n",
    "# seq_input_test = lemmatize(test_data['text'])\n",
    "\n",
    "# seq_input_test = elmo.get_elmo_vector_average(seq_input_test)\n",
    "\n",
    "# with open('ELMo2/seq_input_test_elmo.pickle', 'wb') as file:\n",
    "#     pickle.dump(seq_input_test, file)\n",
    "\n",
    "with open('ELMo2/seq_input_test_elmo.pickle', 'rb') as file:\n",
    "    seq_input_test = pickle.load(file)\n",
    "\n",
    "print(\"seq_input_test Shape: \", seq_input_test.shape)"
   ]
  },
  {
   "cell_type": "code",
   "execution_count": 13,
   "metadata": {},
   "outputs": [
    {
     "output_type": "execute_result",
     "data": {
      "text/plain": [
       "array([[0],\n",
       "       [1],\n",
       "       [1],\n",
       "       [1],\n",
       "       [1],\n",
       "       [1],\n",
       "       [0],\n",
       "       [0],\n",
       "       [0],\n",
       "       [0]])"
      ]
     },
     "metadata": {},
     "execution_count": 13
    }
   ],
   "source": [
    "pred = model.predict(x={'seq_input':seq_input_test})\n",
    "pred = np.asarray(np.rint(pred), dtype=int)\n",
    "pred[:10]"
   ]
  },
  {
   "cell_type": "code",
   "execution_count": 14,
   "metadata": {},
   "outputs": [
    {
     "output_type": "execute_result",
     "data": {
      "text/plain": [
       "   id  target\n",
       "0   0       0\n",
       "1   2       1\n",
       "2   3       1\n",
       "3   9       1\n",
       "4  11       1\n",
       "5  12       1\n",
       "6  21       0\n",
       "7  22       0\n",
       "8  27       0\n",
       "9  29       0"
      ],
      "text/html": "<div>\n<style scoped>\n    .dataframe tbody tr th:only-of-type {\n        vertical-align: middle;\n    }\n\n    .dataframe tbody tr th {\n        vertical-align: top;\n    }\n\n    .dataframe thead th {\n        text-align: right;\n    }\n</style>\n<table border=\"1\" class=\"dataframe\">\n  <thead>\n    <tr style=\"text-align: right;\">\n      <th></th>\n      <th>id</th>\n      <th>target</th>\n    </tr>\n  </thead>\n  <tbody>\n    <tr>\n      <th>0</th>\n      <td>0</td>\n      <td>0</td>\n    </tr>\n    <tr>\n      <th>1</th>\n      <td>2</td>\n      <td>1</td>\n    </tr>\n    <tr>\n      <th>2</th>\n      <td>3</td>\n      <td>1</td>\n    </tr>\n    <tr>\n      <th>3</th>\n      <td>9</td>\n      <td>1</td>\n    </tr>\n    <tr>\n      <th>4</th>\n      <td>11</td>\n      <td>1</td>\n    </tr>\n    <tr>\n      <th>5</th>\n      <td>12</td>\n      <td>1</td>\n    </tr>\n    <tr>\n      <th>6</th>\n      <td>21</td>\n      <td>0</td>\n    </tr>\n    <tr>\n      <th>7</th>\n      <td>22</td>\n      <td>0</td>\n    </tr>\n    <tr>\n      <th>8</th>\n      <td>27</td>\n      <td>0</td>\n    </tr>\n    <tr>\n      <th>9</th>\n      <td>29</td>\n      <td>0</td>\n    </tr>\n  </tbody>\n</table>\n</div>"
     },
     "metadata": {},
     "execution_count": 14
    }
   ],
   "source": [
    "submission = pd.DataFrame()\n",
    "submission['id'] = test_data['id']\n",
    "submission['target'] = pred\n",
    "submission.head(10)"
   ]
  },
  {
   "cell_type": "code",
   "execution_count": 15,
   "metadata": {},
   "outputs": [],
   "source": [
    "submission.to_csv('submission3-2.csv', index=False)\n",
    "# Accuracy Score : 0.81703"
   ]
  }
 ]
}